{
  "nbformat": 4,
  "nbformat_minor": 0,
  "metadata": {
    "colab": {
      "provenance": [],
      "authorship_tag": "ABX9TyO0AsF0HghNBPYznLn5Kf8h",
      "include_colab_link": true
    },
    "kernelspec": {
      "name": "python3",
      "display_name": "Python 3"
    },
    "language_info": {
      "name": "python"
    }
  },
  "cells": [
    {
      "cell_type": "markdown",
      "metadata": {
        "id": "view-in-github",
        "colab_type": "text"
      },
      "source": [
        "<a href=\"https://colab.research.google.com/github/AnuragSharma5893/Frission_DevHub_Assignment/blob/main/05_May_Python_Basics(String%2C_set%2C_list%2C_tuple).ipynb\" target=\"_parent\"><img src=\"https://colab.research.google.com/assets/colab-badge.svg\" alt=\"Open In Colab\"/></a>"
      ]
    },
    {
      "cell_type": "markdown",
      "source": [
        "# String"
      ],
      "metadata": {
        "id": "qgTcoGJ8x8wY"
      }
    },
    {
      "cell_type": "markdown",
      "source": [
        "1. Write a program to reverse a string.\n"
      ],
      "metadata": {
        "id": "Ni-6OctjyDHN"
      }
    },
    {
      "cell_type": "code",
      "execution_count": null,
      "metadata": {
        "id": "pifsKpO5xoiG",
        "colab": {
          "base_uri": "https://localhost:8080/"
        },
        "outputId": "f01e359d-f32b-4d86-81b8-259ab5df9be3"
      },
      "outputs": [
        {
          "output_type": "stream",
          "name": "stdout",
          "text": [
            "Enter a string: hello world\n",
            "the reversed string is: dlrow olleh\n"
          ]
        }
      ],
      "source": [
        "def rev_string(s):\n",
        "  return s[::-1]\n",
        "string = input(\"Enter a string: \")\n",
        "reversed_string = rev_string(string)\n",
        "print(\"the reversed string is:\", reversed_string)\n",
        "# print(rev_string(string))"
      ]
    },
    {
      "cell_type": "markdown",
      "source": [
        "2. Check if a string is a palindrome (a sequence of characters that reads the same forward and backward)"
      ],
      "metadata": {
        "id": "Cs4xnoxlzmlx"
      }
    },
    {
      "cell_type": "code",
      "source": [
        "def is_palindrome(s):\n",
        "  s = s.lower()\n",
        "  return s == s[::-1]  ## comparing original string and its reversed\n",
        "\n",
        "string = input(\"Enter a string: \")\n",
        "if is_palindrome(string):\n",
        "  print(\"string is Palindrome Bro!! 🙂\")\n",
        "else:\n",
        "  print(\"The string is not palindrome 😔\")"
      ],
      "metadata": {
        "colab": {
          "base_uri": "https://localhost:8080/"
        },
        "id": "py2EONvazr_a",
        "outputId": "cc2fc810-2c3c-4fab-8a28-b7008c986079"
      },
      "execution_count": null,
      "outputs": [
        {
          "output_type": "stream",
          "name": "stdout",
          "text": [
            "Enter a string: madam\n",
            "string is Palindrome Bro!! 🙂\n"
          ]
        }
      ]
    },
    {
      "cell_type": "markdown",
      "source": [
        "3. convert a string to uppercase"
      ],
      "metadata": {
        "id": "so_cpSAV1sVv"
      }
    },
    {
      "cell_type": "code",
      "source": [
        "def to_upper(s):\n",
        "  return s.upper()\n",
        "\n",
        "string = input(\"Enter a string: \")\n",
        "print(to_upper(string))"
      ],
      "metadata": {
        "colab": {
          "base_uri": "https://localhost:8080/"
        },
        "id": "pCKX92Mr1wj4",
        "outputId": "16f84893-7054-47e3-f965-a9fe0b36787f"
      },
      "execution_count": null,
      "outputs": [
        {
          "output_type": "stream",
          "name": "stdout",
          "text": [
            "Enter a string: abcd\n",
            "ABCD\n"
          ]
        }
      ]
    },
    {
      "cell_type": "markdown",
      "source": [
        "4. convert a string to lowercase"
      ],
      "metadata": {
        "id": "Rqt1VLY82Dp5"
      }
    },
    {
      "cell_type": "code",
      "source": [
        "def to_lower(s):\n",
        "  return s.lower()\n",
        "\n",
        "string = input(\"Enter a string: \")\n",
        "print(to_lower(string))"
      ],
      "metadata": {
        "colab": {
          "base_uri": "https://localhost:8080/"
        },
        "id": "s7JMaMxR2H0C",
        "outputId": "aca36e40-c64b-47e3-9e42-c232054d97f2"
      },
      "execution_count": null,
      "outputs": [
        {
          "output_type": "stream",
          "name": "stdout",
          "text": [
            "Enter a string: ABCD\n",
            "abcd\n"
          ]
        }
      ]
    },
    {
      "cell_type": "markdown",
      "source": [
        "5. Count the no. of vowels in a string"
      ],
      "metadata": {
        "id": "H90YnIUl2Pqr"
      }
    },
    {
      "cell_type": "code",
      "source": [
        "def count_vowels(string):\n",
        "  vowels = \"aeiouAEIOU\"\n",
        "  count = 0 # vowel count\n",
        "  for char in string:\n",
        "    if char in vowels:\n",
        "      count += 1\n",
        "  return count\n",
        "\n",
        "string = input(\"Enter a string: \")\n",
        "print(count_vowels(string))"
      ],
      "metadata": {
        "colab": {
          "base_uri": "https://localhost:8080/"
        },
        "collapsed": true,
        "id": "yR_CE_TR2Vgk",
        "outputId": "6e2340d4-4af8-45db-b7e6-2f13a5f05a44"
      },
      "execution_count": null,
      "outputs": [
        {
          "output_type": "stream",
          "name": "stdout",
          "text": [
            "Enter a string: Anurag Sharma\n",
            "5\n"
          ]
        }
      ]
    },
    {
      "cell_type": "markdown",
      "source": [
        "6. Count the number of consonants in a string."
      ],
      "metadata": {
        "id": "4eJ0iyQ13Tv6"
      }
    },
    {
      "cell_type": "code",
      "source": [
        "def count_consonent(s):\n",
        "  vowels = \"aeiouAEIOU\"\n",
        "  count = 0\n",
        "  for char in s:\n",
        "    if char.isalpha() and char not in vowels: ## it checks wheather all the characters are actually alphabets\n",
        "      count += 1\n",
        "  return count\n",
        "\n",
        "s = input(\"Enter a string Bro 😎: \")\n",
        "num_consonents = count_consonent(s)\n",
        "print(num_consonents)"
      ],
      "metadata": {
        "colab": {
          "base_uri": "https://localhost:8080/"
        },
        "id": "R1Hzax1N3Ww7",
        "outputId": "ef97ebf8-aa0f-4eac-a805-aad133341f8e"
      },
      "execution_count": null,
      "outputs": [
        {
          "output_type": "stream",
          "name": "stdout",
          "text": [
            "Enter a string Bro 😎: Virat Kholi\n",
            "6\n"
          ]
        }
      ]
    },
    {
      "cell_type": "markdown",
      "source": [
        "7. Remove all whitespaces from a string."
      ],
      "metadata": {
        "id": "709hf_Oz8xXt"
      }
    },
    {
      "cell_type": "code",
      "source": [
        "def rm_whitespace(string):\n",
        "  return string.replace(\" \", \"\")\n",
        "\n",
        "string = input(\"Enter a string: \")\n",
        "print(rm_whitespace(string))"
      ],
      "metadata": {
        "colab": {
          "base_uri": "https://localhost:8080/"
        },
        "id": "KCprm5ed80o2",
        "outputId": "e56f950e-d21c-410c-ad4b-beab19676836"
      },
      "execution_count": null,
      "outputs": [
        {
          "output_type": "stream",
          "name": "stdout",
          "text": [
            "Enter a string: My name is Anurag Sharma\n",
            "MynameisAnuragSharma\n"
          ]
        }
      ]
    },
    {
      "cell_type": "markdown",
      "source": [
        "8. Find the length of a string without using the `len()` function."
      ],
      "metadata": {
        "id": "4HKT8j2s9UMD"
      }
    },
    {
      "cell_type": "code",
      "source": [
        "def string_len(s):\n",
        "  count = 0\n",
        "  for char in s:\n",
        "    if char != \" \":\n",
        "      count += 1\n",
        "  return count\n",
        "\n",
        "s = input(\"Enter a string: \")\n",
        "print(string_len(s))"
      ],
      "metadata": {
        "colab": {
          "base_uri": "https://localhost:8080/"
        },
        "id": "r5fn6vrR9Vtk",
        "outputId": "0356354a-4d1d-4942-f1f7-033214162c11"
      },
      "execution_count": null,
      "outputs": [
        {
          "output_type": "stream",
          "name": "stdout",
          "text": [
            "Enter a string: Light Yagami\n",
            "11\n"
          ]
        }
      ]
    },
    {
      "cell_type": "markdown",
      "source": [
        "9. Check if a string contains a specific word."
      ],
      "metadata": {
        "id": "tcUdkT7m-Dle"
      }
    },
    {
      "cell_type": "code",
      "source": [
        "def contains_word(text, word):\n",
        "  # return word in text\n",
        "    return word.lower() in text.lower()\n",
        "\n",
        "text = input(\"Enter the text: \")\n",
        "word = input(\"Enter the word to check: \")\n",
        "if contains_word(text, word):\n",
        "  print(f\"The text contains the word '{word}'.\")\n",
        "else:\n",
        "  print(f\"The text does not contain the word '{word}'.\")"
      ],
      "metadata": {
        "colab": {
          "base_uri": "https://localhost:8080/"
        },
        "id": "yS3uK17H-Gnt",
        "outputId": "ae3186a4-c3ad-4fa8-888c-d9026c5e47dc"
      },
      "execution_count": null,
      "outputs": [
        {
          "output_type": "stream",
          "name": "stdout",
          "text": [
            "Enter the text: Anurag Sharma\n",
            "Enter the word to check: anu\n",
            "The text contains the word 'anu'.\n"
          ]
        }
      ]
    },
    {
      "cell_type": "markdown",
      "source": [
        "10. Replace a word in a string with another word.\n"
      ],
      "metadata": {
        "id": "2d3R88xZ_Kpq"
      }
    },
    {
      "cell_type": "code",
      "source": [
        "def replace_word(s, new_word, old_word):\n",
        "  return s.replace(old_word, new_word)\n",
        "s = input(\"Enter a string: \")\n",
        "new_word = input(\"Enter the new word: \")\n",
        "old_word = input(\"Enter the old word: \")\n",
        "print(replace_word(s, new_word, old_word))"
      ],
      "metadata": {
        "colab": {
          "base_uri": "https://localhost:8080/"
        },
        "id": "4LDqPPTp_PA0",
        "outputId": "b2a57568-93fe-43d4-b967-028b4e6a35f8"
      },
      "execution_count": null,
      "outputs": [
        {
          "output_type": "stream",
          "name": "stdout",
          "text": [
            "Enter a string: Anu\n",
            "Enter the new word: Manu\n",
            "Enter the old word: Anu\n",
            "Manu\n"
          ]
        }
      ]
    },
    {
      "cell_type": "markdown",
      "source": [
        "11. Count the occurrences of a word in a string.\n"
      ],
      "metadata": {
        "id": "P5GxhGAo_sLN"
      }
    },
    {
      "cell_type": "code",
      "source": [
        "def count_occurence(s, word):\n",
        "  return s.count(word)\n",
        "\n",
        "s = \"Anurag Sharma is Anurag SharmaAnurag\"\n",
        "word = \"Anurag\"\n",
        "print(count_occurence(s,word))"
      ],
      "metadata": {
        "colab": {
          "base_uri": "https://localhost:8080/"
        },
        "id": "paxpsMJA_s3e",
        "outputId": "8afe88a4-5053-4124-cab2-55f412ebc056"
      },
      "execution_count": null,
      "outputs": [
        {
          "output_type": "stream",
          "name": "stdout",
          "text": [
            "3\n"
          ]
        }
      ]
    },
    {
      "cell_type": "markdown",
      "source": [
        "12. Find the first occurrence of a word in a string."
      ],
      "metadata": {
        "id": "7IbRXvHxAqs8"
      }
    },
    {
      "cell_type": "code",
      "source": [
        "def first_occurence(s, word):\n",
        "  try:\n",
        "    return s.index(word)\n",
        "  except ValueError:\n",
        "    return -1\n",
        "\n",
        "s = input(\"Enter a string: \")\n",
        "word = input(\"Enter the word to search for: \")\n",
        "\n",
        "index = first_occurence(s,word)\n",
        "if index != -1:\n",
        "  print(f\"The first occurence of '{word}' is at index {index} 🙂. \")\n",
        "else:\n",
        "  print(f\"The word '{word}' is not found bro in the string 😔 \")"
      ],
      "metadata": {
        "colab": {
          "base_uri": "https://localhost:8080/"
        },
        "id": "ImGP0x8WAtab",
        "outputId": "8705d52b-0a5f-480f-e9ee-284bb461c870"
      },
      "execution_count": null,
      "outputs": [
        {
          "output_type": "stream",
          "name": "stdout",
          "text": [
            "Enter a string: Anurag\n",
            "Enter the word to search for: u\n",
            "The first occurence of 'u' is at index 2 🙂. \n"
          ]
        }
      ]
    },
    {
      "cell_type": "markdown",
      "source": [
        "13. Find the last occurrence of a word in a string.\n"
      ],
      "metadata": {
        "id": "MXCobSiKC2gg"
      }
    },
    {
      "cell_type": "code",
      "source": [
        "def last_occurence(s, word):\n",
        "  try:\n",
        "    return s.rindex(word)\n",
        "  except ValueError:\n",
        "    return -1\n",
        "\n",
        "s = input(\"Enter a string: \")\n",
        "word = input(\"Enter the word to search for: \")\n",
        "\n",
        "index = last_occurence(s,word)\n",
        "if index != -1:\n",
        "  print(f\"The last occurence of '{word}' is at index {index} 🙂. \")\n",
        "else:\n",
        "  print(f\"The word '{word}' is not found bro in the string 😔 \")"
      ],
      "metadata": {
        "colab": {
          "base_uri": "https://localhost:8080/"
        },
        "id": "nFQBNQPFC3lC",
        "outputId": "063009e7-d6bc-4837-df00-04b3788185df"
      },
      "execution_count": null,
      "outputs": [
        {
          "output_type": "stream",
          "name": "stdout",
          "text": [
            "Enter a string: hello mike hello\n",
            "Enter the word to search for: hello\n",
            "The last occurence of 'hello' is at index 11 🙂. \n"
          ]
        }
      ]
    },
    {
      "cell_type": "markdown",
      "source": [
        "14. Split a string into a list of words."
      ],
      "metadata": {
        "id": "hctb31UymHlH"
      }
    },
    {
      "cell_type": "code",
      "source": [
        "def split_string(string):\n",
        "  return string.split()\n",
        "\n",
        "string = \"This is a sentence.\"\n",
        "words = split_string(string)\n",
        "print(words)"
      ],
      "metadata": {
        "colab": {
          "base_uri": "https://localhost:8080/"
        },
        "id": "sGt052aKmIzW",
        "outputId": "30980787-5905-4ee0-eac9-5b872e2af330"
      },
      "execution_count": null,
      "outputs": [
        {
          "output_type": "stream",
          "name": "stdout",
          "text": [
            "['This', 'is', 'a', 'sentence.']\n"
          ]
        }
      ]
    },
    {
      "cell_type": "markdown",
      "source": [
        "15. Join a list of words into a string."
      ],
      "metadata": {
        "id": "tdp8B0ZvmP7g"
      }
    },
    {
      "cell_type": "code",
      "source": [
        "def join_words(words):\n",
        "  return \" \".join(words)\n",
        "\n",
        "words = ['This', 'is', 'a', 'sentence.']\n",
        "string = join_words(words)\n",
        "print(string)"
      ],
      "metadata": {
        "colab": {
          "base_uri": "https://localhost:8080/"
        },
        "id": "CUmpxWgamRPG",
        "outputId": "0b26c9e9-bd93-45b0-bd9c-faa1fb680b83"
      },
      "execution_count": null,
      "outputs": [
        {
          "output_type": "stream",
          "name": "stdout",
          "text": [
            "This is a sentence.\n"
          ]
        }
      ]
    },
    {
      "cell_type": "markdown",
      "source": [
        "16. Convert a string where words are separated by spaces to one where words are separated by underscores"
      ],
      "metadata": {
        "id": "AeUGFzHNmapl"
      }
    },
    {
      "cell_type": "code",
      "source": [
        "def spaces_to_underscores(string):\n",
        "  return string.replace(\" \", \"_\")\n",
        "\n",
        "string = \"This is a sentence.\"\n",
        "underscored_string = spaces_to_underscores(string)\n",
        "print(underscored_string)"
      ],
      "metadata": {
        "colab": {
          "base_uri": "https://localhost:8080/"
        },
        "id": "S9UQa4wNmbwO",
        "outputId": "8a6f27fe-cb41-47f8-a52c-aecd692c4fd5"
      },
      "execution_count": null,
      "outputs": [
        {
          "output_type": "stream",
          "name": "stdout",
          "text": [
            "This_is_a_sentence.\n"
          ]
        }
      ]
    },
    {
      "cell_type": "markdown",
      "source": [
        "17. Check if a string starts with a specific word or phrase.\n",
        "\n"
      ],
      "metadata": {
        "id": "ydc_99lmmh9f"
      }
    },
    {
      "cell_type": "code",
      "source": [
        "def starts_with(string, prefix):\n",
        "  return string.startswith(prefix)  # startswith return True if the string begins with prefix speciifcally\n",
        "\n",
        "string = \"Hello world\"\n",
        "if starts_with(string, \"Hello\"):\n",
        "  print(\"The string starts with 'Hello'.\")\n",
        "else:\n",
        "  print(\"The string does not start with 'Hello'.\")"
      ],
      "metadata": {
        "colab": {
          "base_uri": "https://localhost:8080/"
        },
        "id": "3jzzhvCNmjVU",
        "outputId": "109a2e51-d74b-4ef4-91df-9e6073a7ba93"
      },
      "execution_count": null,
      "outputs": [
        {
          "output_type": "stream",
          "name": "stdout",
          "text": [
            "The string starts with 'Hello'.\n"
          ]
        }
      ]
    },
    {
      "cell_type": "markdown",
      "source": [
        "\n",
        "18. Check if a string ends with a specific word or phrase.\n",
        "\n"
      ],
      "metadata": {
        "id": "PU_IBt3LmxqB"
      }
    },
    {
      "cell_type": "code",
      "source": [
        "def ends_with(string, suffix):\n",
        "  return string.endswith(suffix)\n",
        "\n",
        "string = \"Hello world\"\n",
        "if ends_with(string, \"world\"):\n",
        "  print(\"The string ends with 'world'.\")\n",
        "else:\n",
        "  print(\"The string does not end with 'world'.\")"
      ],
      "metadata": {
        "colab": {
          "base_uri": "https://localhost:8080/"
        },
        "id": "_waFykiXm4aL",
        "outputId": "6d8a3491-b8e7-42d1-b247-e62e11a5ca19"
      },
      "execution_count": null,
      "outputs": [
        {
          "output_type": "stream",
          "name": "stdout",
          "text": [
            "The string ends with 'world'.\n"
          ]
        }
      ]
    },
    {
      "cell_type": "markdown",
      "source": [
        "19. Convert a string to title case (e.g., \"hello world\" to \"Hello World\").\n",
        "\n"
      ],
      "metadata": {
        "id": "hl7ETHhinBRg"
      }
    },
    {
      "cell_type": "code",
      "source": [
        "def to_title_case(string):\n",
        "  return string.title()\n",
        "\n",
        "string = \"hello world\"\n",
        "title_cased_string = to_title_case(string)\n",
        "print(title_cased_string)"
      ],
      "metadata": {
        "colab": {
          "base_uri": "https://localhost:8080/"
        },
        "id": "Ch8Nfxs2nCKK",
        "outputId": "f961a52f-30f6-4e19-9006-255f58b1d452"
      },
      "execution_count": null,
      "outputs": [
        {
          "output_type": "stream",
          "name": "stdout",
          "text": [
            "Hello World\n"
          ]
        }
      ]
    },
    {
      "cell_type": "markdown",
      "source": [
        "20. Find the longest word in a string."
      ],
      "metadata": {
        "id": "Sf7Clcs-nFXP"
      }
    },
    {
      "cell_type": "code",
      "source": [
        "def find_longest_word(string):\n",
        "  words = string.split()\n",
        "  longest_word = max(words, key=len)\n",
        "  return longest_word\n",
        "\n",
        "string = \"This is a sentence with a long word.\"\n",
        "longest_word = find_longest_word(string)\n",
        "print(longest_word)"
      ],
      "metadata": {
        "colab": {
          "base_uri": "https://localhost:8080/"
        },
        "id": "B-AXpwv_nKIE",
        "outputId": "5fccea40-40fb-45f2-a84a-95b5409bab44"
      },
      "execution_count": null,
      "outputs": [
        {
          "output_type": "stream",
          "name": "stdout",
          "text": [
            "sentence\n"
          ]
        }
      ]
    },
    {
      "cell_type": "markdown",
      "source": [
        "21. Find the shortest word in a string.\n",
        "\n"
      ],
      "metadata": {
        "id": "YJOv0xRznTMw"
      }
    },
    {
      "cell_type": "code",
      "source": [
        "def find_shortest_word(string):\n",
        "  words = string.split()\n",
        "  shortest_word = min(words, key=len)\n",
        "  return shortest_word\n",
        "\n",
        "string = \"This is a sentence with a short word.\"\n",
        "shortest_word = find_shortest_word(string)\n",
        "print(shortest_word)"
      ],
      "metadata": {
        "colab": {
          "base_uri": "https://localhost:8080/"
        },
        "id": "xXqp_qkFnOUT",
        "outputId": "99aeee1f-e377-41be-ad56-1011f621a436"
      },
      "execution_count": null,
      "outputs": [
        {
          "output_type": "stream",
          "name": "stdout",
          "text": [
            "a\n"
          ]
        }
      ]
    },
    {
      "cell_type": "markdown",
      "source": [
        "22. Reverse the order of words in a string.\n",
        "\n"
      ],
      "metadata": {
        "id": "1Qwpaql4nYCs"
      }
    },
    {
      "cell_type": "code",
      "source": [
        "def reverse_words(string):\n",
        "  words = string.split()\n",
        "  reversed_words = words[::-1]\n",
        "  return \" \".join(reversed_words)\n",
        "\n",
        "string = \"This is a sentence.\"\n",
        "reversed_string = reverse_words(string)\n",
        "print(reversed_string)"
      ],
      "metadata": {
        "colab": {
          "base_uri": "https://localhost:8080/"
        },
        "id": "hREQLKkhnYQS",
        "outputId": "44bcad96-4478-422c-ada5-ff5a99f01472"
      },
      "execution_count": null,
      "outputs": [
        {
          "output_type": "stream",
          "name": "stdout",
          "text": [
            "sentence. a is This\n"
          ]
        }
      ]
    },
    {
      "cell_type": "markdown",
      "source": [
        "23. Check if a string is alphanumeric.\n",
        "\n"
      ],
      "metadata": {
        "id": "9HvxGvZXnzue"
      }
    },
    {
      "cell_type": "code",
      "source": [
        "def is_alphanumeric(string):\n",
        "  return string.isalnum()\n",
        "\n",
        "string = \"ThisIsAlphanumeric123\"\n",
        "if is_alphanumeric(string):\n",
        "  print(\"The string is alphanumeric.\")\n",
        "else:\n",
        "  print(\"The string is not alphanumeric.\")"
      ],
      "metadata": {
        "colab": {
          "base_uri": "https://localhost:8080/"
        },
        "id": "z3nP-yrYn0Pz",
        "outputId": "138b7016-9591-4da5-e8e6-0bcf30b5c928"
      },
      "execution_count": null,
      "outputs": [
        {
          "output_type": "stream",
          "name": "stdout",
          "text": [
            "The string is alphanumeric.\n"
          ]
        }
      ]
    },
    {
      "cell_type": "markdown",
      "source": [
        "24. Extract all digits from a string.\n",
        "\n"
      ],
      "metadata": {
        "id": "a8GdwEHjn6B7"
      }
    },
    {
      "cell_type": "code",
      "source": [
        "# import re\n",
        "# The re.findall() function from the re module (regular expressions) is used to find all occurrences of one or more digits (\\d+) in the string.\n",
        "'''def extract_digits(string):\n",
        "  digits = re.findall(r'\\d+', string)\n",
        "  return \"\".join(digits)\n",
        "\n",
        "string = \"This string contains 123 digits and 456 more.\"\n",
        "digits = extract_digits(string)\n",
        "print(digits)\n",
        "'''\n",
        "\n",
        "def extract_digits(string):\n",
        "  digits = ''.join(char for char in string if char.isdigit())\n",
        "  return digits\n",
        "\n",
        "string = \"This string contains 123 digits and 456 more.\"\n",
        "digits = extract_digits(string)\n",
        "print(digits)\n"
      ],
      "metadata": {
        "colab": {
          "base_uri": "https://localhost:8080/"
        },
        "id": "oh4I9Clfn69c",
        "outputId": "ec73e34b-49d2-434b-d1d1-b554bcc7d327"
      },
      "execution_count": 1,
      "outputs": [
        {
          "output_type": "stream",
          "name": "stdout",
          "text": [
            "123456\n"
          ]
        }
      ]
    },
    {
      "cell_type": "markdown",
      "source": [
        "25. Extract all alphabets from a string.\n",
        "\n"
      ],
      "metadata": {
        "id": "QBmfZpALoHsM"
      }
    },
    {
      "cell_type": "code",
      "source": [
        "'''import re\n",
        "\n",
        "def extract_alphabets(string):\n",
        "  alphabets = re.findall(r'[a-zA-Z]+', string)\n",
        "  return \" \".join(alphabets)\n",
        "\n",
        "string = \"This string contains 123 digits and 456 more.\"\n",
        "alphabets = extract_alphabets(string)\n",
        "print(alphabets)'''\n",
        "\n",
        "def extract_alphabets(string):\n",
        "    alphabets = ''.join(char for char in string if char.isalpha())\n",
        "    return alphabets\n",
        "\n",
        "string = \"This string contains 123 digits and 456 more.\"\n",
        "alphabets = extract_alphabets(string)\n",
        "print(alphabets)"
      ],
      "metadata": {
        "colab": {
          "base_uri": "https://localhost:8080/"
        },
        "id": "3w_J4OLIoItX",
        "outputId": "668d6d8e-1d39-4298-e032-976088a73b9b"
      },
      "execution_count": 4,
      "outputs": [
        {
          "output_type": "stream",
          "name": "stdout",
          "text": [
            "Thisstringcontainsdigitsandmore\n"
          ]
        }
      ]
    },
    {
      "cell_type": "markdown",
      "source": [
        "26. Count the number of uppercase letters in a string.\n",
        "\n"
      ],
      "metadata": {
        "id": "UrT-0GN4oNd4"
      }
    },
    {
      "cell_type": "code",
      "source": [
        "def count_uppercase(string):\n",
        "  count = 0\n",
        "  for char in string:\n",
        "    if char.isupper():\n",
        "      count += 1\n",
        "  return count\n",
        "\n",
        "string = \"This String Has Uppercase Letters.\"\n",
        "uppercase_count = count_uppercase(string)\n",
        "print(uppercase_count)"
      ],
      "metadata": {
        "colab": {
          "base_uri": "https://localhost:8080/"
        },
        "id": "vsk0IwaNoOgO",
        "outputId": "b08b97f7-2499-43a1-df3a-c0b54a887e70"
      },
      "execution_count": null,
      "outputs": [
        {
          "output_type": "stream",
          "name": "stdout",
          "text": [
            "5\n"
          ]
        }
      ]
    },
    {
      "cell_type": "markdown",
      "source": [
        "27. Count the number of lowercase letters in a string.\n",
        "\n"
      ],
      "metadata": {
        "id": "n7tD7SrMoVz9"
      }
    },
    {
      "cell_type": "code",
      "source": [
        "def count_lowercase(string):\n",
        "  count = 0\n",
        "  for char in string:\n",
        "    if char.islower():\n",
        "      count += 1\n",
        "  return count\n",
        "\n",
        "string = \"This String Has Lowercase Letters.\"\n",
        "lowercase_count = count_lowercase(string)\n",
        "print(lowercase_count)"
      ],
      "metadata": {
        "colab": {
          "base_uri": "https://localhost:8080/"
        },
        "id": "yKBQ5avMoWnq",
        "outputId": "cc07fd78-857f-4246-fab4-da14f6c1e650"
      },
      "execution_count": null,
      "outputs": [
        {
          "output_type": "stream",
          "name": "stdout",
          "text": [
            "24\n"
          ]
        }
      ]
    },
    {
      "cell_type": "markdown",
      "source": [
        "28. Swap the case of each character in a string.\n",
        "\n"
      ],
      "metadata": {
        "id": "ngxTwh64ogN0"
      }
    },
    {
      "cell_type": "code",
      "source": [
        "def swap_case(string):\n",
        "  return string.swapcase()\n",
        "\n",
        "string = \"This String Has Mixed Case.\"\n",
        "swapped_string = swap_case(string)\n",
        "print(swapped_string)"
      ],
      "metadata": {
        "colab": {
          "base_uri": "https://localhost:8080/"
        },
        "id": "e-gL0Z-aog2t",
        "outputId": "636bce93-759c-4f5f-8c12-5f083a07aa31"
      },
      "execution_count": null,
      "outputs": [
        {
          "output_type": "stream",
          "name": "stdout",
          "text": [
            "tHIS sTRING hAS mIXED cASE.\n"
          ]
        }
      ]
    },
    {
      "cell_type": "markdown",
      "source": [
        "29. Remove a specific word from a string.\n",
        "\n"
      ],
      "metadata": {
        "id": "0exC3qhtonOp"
      }
    },
    {
      "cell_type": "code",
      "source": [
        "def remove_word(string, word):\n",
        "  return string.replace(word, \"\")\n",
        "\n",
        "string = \"This is a sentence with a word to remove.\"\n",
        "new_string = remove_word(string, \"word\")\n",
        "print(new_string)"
      ],
      "metadata": {
        "colab": {
          "base_uri": "https://localhost:8080/"
        },
        "id": "7O4w49N7onyk",
        "outputId": "c8bf595e-e87c-4724-8224-4aa20a53e73a"
      },
      "execution_count": null,
      "outputs": [
        {
          "output_type": "stream",
          "name": "stdout",
          "text": [
            "This is a sentence with a  to remove.\n"
          ]
        }
      ]
    },
    {
      "cell_type": "markdown",
      "source": [
        "30. Check if a string is a valid email address.\n",
        "\n",
        "\n"
      ],
      "metadata": {
        "id": "wh1g4TRCovSz"
      }
    },
    {
      "cell_type": "code",
      "source": [
        "'''import re\n",
        "\n",
        "def is_valid_email(email):\n",
        "  pattern = r\"^[a-zA-Z0-9._%+-]+@[a-zA-Z0-9.-]+\\.[a-zA-Z]{2,}$\"\n",
        "  return bool(re.match(pattern, email))\n",
        "\n",
        "email = \"example@example.com\"\n",
        "if is_valid_email(email):\n",
        "  print(\"Valid email address.\")\n",
        "else:\n",
        "  print(\"Invalid email address.\")'''\n",
        "\n",
        "def is_valid_email(email):\n",
        "  if \"@\" not in email or \".\" not in email:\n",
        "    return False\n",
        "\n",
        "  parts = email.split(\"@\")\n",
        "  if len(parts) != 2:\n",
        "    return False\n",
        "\n",
        "  user, domain = parts # check empty\n",
        "  if not user or not domain:\n",
        "    return False\n",
        "\n",
        "  if \".\" not in domain:\n",
        "    return False\n",
        "\n",
        "  return True\n",
        "\n",
        "email = \"example@example.com\"\n",
        "if is_valid_email(email):\n",
        "  print(\"Valid email address.\")\n",
        "else:\n",
        "  print(\"Invalid email address.\")"
      ],
      "metadata": {
        "colab": {
          "base_uri": "https://localhost:8080/"
        },
        "id": "8bLmgDTGov-V",
        "outputId": "022d7170-041e-443a-e990-1b2b692a3d21"
      },
      "execution_count": 5,
      "outputs": [
        {
          "output_type": "stream",
          "name": "stdout",
          "text": [
            "Valid email address.\n"
          ]
        }
      ]
    },
    {
      "cell_type": "markdown",
      "source": [
        "31. Extract the username from an email address string.\n",
        "\n"
      ],
      "metadata": {
        "id": "n5wKoBAZo26k"
      }
    },
    {
      "cell_type": "code",
      "source": [
        "def extract_username(email):\n",
        "  return email.split(\"@\")[0]\n",
        "\n",
        "email = \"example@example.com\"\n",
        "username = extract_username(email)\n",
        "print(username)"
      ],
      "metadata": {
        "colab": {
          "base_uri": "https://localhost:8080/"
        },
        "id": "ubbZkBvHo3Zd",
        "outputId": "c13b3053-891b-49d2-80cf-866be540b7c0"
      },
      "execution_count": null,
      "outputs": [
        {
          "output_type": "stream",
          "name": "stdout",
          "text": [
            "example\n"
          ]
        }
      ]
    },
    {
      "cell_type": "markdown",
      "source": [
        "32. Extract the domain name from an email address string.\n",
        "\n"
      ],
      "metadata": {
        "id": "1mHH4wrVo7SV"
      }
    },
    {
      "cell_type": "code",
      "source": [
        "def extract_domain(email):\n",
        "  return email.split(\"@\")[1]\n",
        "\n",
        "email = \"example@example.com\"\n",
        "domain = extract_domain(email)\n",
        "print(domain)"
      ],
      "metadata": {
        "colab": {
          "base_uri": "https://localhost:8080/"
        },
        "id": "9uk_pjcRo-nz",
        "outputId": "ad960891-acba-4738-b469-e5e0ae073757"
      },
      "execution_count": null,
      "outputs": [
        {
          "output_type": "stream",
          "name": "stdout",
          "text": [
            "example.com\n"
          ]
        }
      ]
    },
    {
      "cell_type": "markdown",
      "source": [
        "33. Replace multiple spaces in a string with a single space.\n",
        "\n"
      ],
      "metadata": {
        "id": "Y0hNqqdrpBVS"
      }
    },
    {
      "cell_type": "code",
      "source": [
        "'''import re\n",
        "\n",
        "def replace_multiple_spaces(string):\n",
        "  return re.sub(' +', ' ', string)\n",
        "\n",
        "string = \"This  string  has   multiple    spaces.\"\n",
        "new_string = replace_multiple_spaces(string)\n",
        "print(new_string)'''\n",
        "\n",
        "def replace_multiple_spaces(string):\n",
        "  return ' '.join(string.split())\n",
        "\n",
        "string = \"This  string  has   multiple    spaces.\"\n",
        "new_string = replace_multiple_spaces(string)\n",
        "print(new_string)"
      ],
      "metadata": {
        "colab": {
          "base_uri": "https://localhost:8080/"
        },
        "id": "jFn-vyoYpDry",
        "outputId": "ccc49a1a-dfdd-447b-a984-3f3162d79321"
      },
      "execution_count": 6,
      "outputs": [
        {
          "output_type": "stream",
          "name": "stdout",
          "text": [
            "This string has multiple spaces.\n"
          ]
        }
      ]
    },
    {
      "cell_type": "markdown",
      "source": [
        "34. Check if a string is a valid URL.\n",
        "\n"
      ],
      "metadata": {
        "id": "BVENtvnipINE"
      }
    },
    {
      "cell_type": "code",
      "source": [
        "'''import re\n",
        "\n",
        "def is_valid_url(url):\n",
        "  pattern = r\"^(https?://)?(www\\.)?([a-zA-Z0-9-]+)\\.([a-zA-Z]{2,})(\\S*)?$\"\n",
        "  return bool(re.match(pattern, url))\n",
        "\n",
        "url = \"https://www.google.com\"\n",
        "if is_valid_url(url):\n",
        "  print(\"Valid URL.\")\n",
        "else:\n",
        "  print(\"Invalid URL.\")'''\n",
        "\n",
        "def is_valid_url(url):\n",
        "  if not url.startswith('http://') and not url.startswith('https://'):\n",
        "    return False\n",
        "  if '.' not in url or len(url.split('.')[-1]) < 2:\n",
        "    return False\n",
        "  return True\n",
        "\n",
        "url = \"https://www.google.com\"\n",
        "if is_valid_url(url):\n",
        "  print(\"Valid URL.\")\n",
        "else:\n",
        "  print(\"Invalid URL.\")"
      ],
      "metadata": {
        "colab": {
          "base_uri": "https://localhost:8080/"
        },
        "id": "6eHazfEvpIpc",
        "outputId": "942dc4a0-4a34-4b80-f708-afc538163047"
      },
      "execution_count": 7,
      "outputs": [
        {
          "output_type": "stream",
          "name": "stdout",
          "text": [
            "Valid URL.\n"
          ]
        }
      ]
    },
    {
      "cell_type": "markdown",
      "source": [
        "35. Extract the protocol (http or https) from a URL string.\n",
        "\n"
      ],
      "metadata": {
        "id": "xF-MHRhqpRdN"
      }
    },
    {
      "cell_type": "code",
      "source": [
        "'''import re\n",
        "\n",
        "def extract_protocol(url):\n",
        "  match = re.match(r\"^(https?://)\", url)\n",
        "  if match:\n",
        "    return match.group(0)\n",
        "  else:\n",
        "    return None\n",
        "\n",
        "url = \"https://www.example.com\"\n",
        "protocol = extract_protocol(url)\n",
        "print(protocol)'''\n",
        "\n",
        "def extract_protocol(url):\n",
        "  parts = url.split(\"://\")\n",
        "  if len(parts) > 1:\n",
        "    return parts[0]\n",
        "  else:\n",
        "    return None\n",
        "\n",
        "url = \"https://www.example.com\"\n",
        "protocol = extract_protocol(url)\n",
        "print(protocol)"
      ],
      "metadata": {
        "colab": {
          "base_uri": "https://localhost:8080/"
        },
        "id": "63z7jykipSFj",
        "outputId": "5dc3ff92-de6d-46f8-b07a-6b825a6b6447"
      },
      "execution_count": 8,
      "outputs": [
        {
          "output_type": "stream",
          "name": "stdout",
          "text": [
            "https\n"
          ]
        }
      ]
    },
    {
      "cell_type": "markdown",
      "source": [
        "36. Find the frequency of each character in a string.\n",
        "\n"
      ],
      "metadata": {
        "id": "wtKzV0l7pUTZ"
      }
    },
    {
      "cell_type": "code",
      "source": [
        "from collections import Counter\n",
        "\n",
        "def char_frequency(string):\n",
        "  return Counter(string)\n",
        "\n",
        "string = \"This is a string.\"\n",
        "frequencies = char_frequency(string)\n",
        "print(frequencies)"
      ],
      "metadata": {
        "colab": {
          "base_uri": "https://localhost:8080/"
        },
        "id": "hPRPPlb-peTK",
        "outputId": "5854683d-08d5-4375-cdf7-1f94747235fd"
      },
      "execution_count": null,
      "outputs": [
        {
          "output_type": "stream",
          "name": "stdout",
          "text": [
            "Counter({'i': 3, 's': 3, ' ': 3, 'T': 1, 'h': 1, 'a': 1, 't': 1, 'r': 1, 'n': 1, 'g': 1, '.': 1})\n"
          ]
        }
      ]
    },
    {
      "cell_type": "markdown",
      "source": [
        "37. Remove all punctuation from a string.\n",
        "\n"
      ],
      "metadata": {
        "id": "JFLw9t5cplS-"
      }
    },
    {
      "cell_type": "code",
      "source": [
        "'''import re\n",
        "\n",
        "def remove_punctuation(text):\n",
        "    return re.sub(r'[^\\w\\s]', '', text)\n",
        "\n",
        "# Example\n",
        "text = \"Hello, world! How's everything?\"\n",
        "clean_text = remove_punctuation(text)\n",
        "print(clean_text)'''\n",
        "\n",
        "\n",
        "def remove_punctuation(text):\n",
        "  punctuations = '''!()-[]{};:'\"\\,<>./?@#$%^&*_~'''\n",
        "  no_punct = \"\"\n",
        "  for char in text:\n",
        "    if char not in punctuations:\n",
        "      no_punct = no_punct + char\n",
        "  return no_punct\n",
        "\n",
        "# Example usage\n",
        "text = \"Hello, world! How's everything?\"\n",
        "clean_text = remove_punctuation(text)\n",
        "print(clean_text)"
      ],
      "metadata": {
        "colab": {
          "base_uri": "https://localhost:8080/"
        },
        "id": "vhWFRTBspl4y",
        "outputId": "b2777701-5c75-4792-ad45-b42282f39307"
      },
      "execution_count": 9,
      "outputs": [
        {
          "output_type": "stream",
          "name": "stdout",
          "text": [
            "Hello world Hows everything\n"
          ]
        }
      ]
    },
    {
      "cell_type": "markdown",
      "source": [
        "39. Check if a string contains only alphabets.\n",
        "\n"
      ],
      "metadata": {
        "id": "5tI5cLz0p6OY"
      }
    },
    {
      "cell_type": "code",
      "source": [
        "def is_alpha_only(string):\n",
        "  return string.isalpha()\n",
        "\n",
        "string = \"ThisStringHasOnlyAlphabets\"\n",
        "if is_alpha_only(string):\n",
        "  print(\"The string contains only alphabets.\")\n",
        "else:\n",
        "  print(\"The string does not contain only alphabets.\")"
      ],
      "metadata": {
        "colab": {
          "base_uri": "https://localhost:8080/"
        },
        "id": "R6J5AJMWp8ak",
        "outputId": "6dbde718-ea7c-4072-869c-4b97fcd562a3"
      },
      "execution_count": null,
      "outputs": [
        {
          "output_type": "stream",
          "name": "stdout",
          "text": [
            "The string contains only alphabets.\n"
          ]
        }
      ]
    },
    {
      "cell_type": "markdown",
      "source": [
        "40. Convert a string to a list of characters.\n",
        "\n"
      ],
      "metadata": {
        "id": "FmFoj-VBqGlf"
      }
    },
    {
      "cell_type": "code",
      "source": [
        "def string_to_list(string):\n",
        "  return list(string)\n",
        "\n",
        "string = \"This is a string.\"\n",
        "char_list = string_to_list(string)\n",
        "print(char_list)"
      ],
      "metadata": {
        "colab": {
          "base_uri": "https://localhost:8080/"
        },
        "id": "EhFqIXrjqJS5",
        "outputId": "d42c3b5b-627c-45e5-fb75-9dacd3045a34"
      },
      "execution_count": null,
      "outputs": [
        {
          "output_type": "stream",
          "name": "stdout",
          "text": [
            "['T', 'h', 'i', 's', ' ', 'i', 's', ' ', 'a', ' ', 's', 't', 'r', 'i', 'n', 'g', '.']\n"
          ]
        }
      ]
    },
    {
      "cell_type": "markdown",
      "source": [
        "41. Check if two strings are anagrams.\n",
        "\n"
      ],
      "metadata": {
        "id": "4zZEVgSWqPL_"
      }
    },
    {
      "cell_type": "code",
      "source": [
        "#def are_anagrams(str1, str2):\n",
        "#    return sorted(str1) == sorted(str2)\n",
        "'''\n",
        "from collections import Counter\n",
        "\n",
        "def are_anagrams(str1, str2):\n",
        "    return Counter(str1) == Counter(str2)\n",
        "\n",
        "print(are_anagrams(\"listen\", \"silent\"))\n",
        "print(are_anagrams(\"hello\", \"world\"))\n",
        "'''\n",
        "\n",
        "def are_anagrams(str1, str2):\n",
        "    str1 = sorted(str1.lower())\n",
        "    str2 = sorted(str2.lower())\n",
        "    return str1 == str2\n",
        "\n",
        "print(are_anagrams(\"listen\", \"silent\"))\n",
        "print(are_anagrams(\"hello\", \"world\"))"
      ],
      "metadata": {
        "colab": {
          "base_uri": "https://localhost:8080/"
        },
        "id": "4esE3yEgqP40",
        "outputId": "8cb0e4b8-672a-4180-a3f0-47dfdc817a6c"
      },
      "execution_count": 10,
      "outputs": [
        {
          "output_type": "stream",
          "name": "stdout",
          "text": [
            "True\n",
            "False\n"
          ]
        }
      ]
    },
    {
      "cell_type": "markdown",
      "source": [
        "42. Encode a string using a Caesar cipher.\n",
        "\n",
        "Note: The Caesar cipher shifts each letter by a fixed number of positions down the alphabet. For letters, we determine the starting position ('a' or 'A'), calculate the shifted position using modular arithmetic, and convert back to a character. For digits, we perform a similar shift modulo 10. Other characters remain unchanged"
      ],
      "metadata": {
        "id": "ubAJ7iSPqwbe"
      }
    },
    {
      "cell_type": "code",
      "source": [
        "def caesar_cipher_encode(text, shift):\n",
        "    result = ''\n",
        "    for char in text:\n",
        "        if char.isalpha():\n",
        "            start = ord('a') if char.islower() else ord('A')\n",
        "            shifted_char = chr((ord(char) - start + shift) % 26 + start)\n",
        "        elif char.isdigit():\n",
        "            shifted_char = str((int(char) + shift) % 10)\n",
        "        else:\n",
        "            shifted_char = char\n",
        "        result += shifted_char\n",
        "    return result\n",
        "\n",
        "text = \"Anurag Sharma\"\n",
        "shift = 3\n",
        "encoded_text = caesar_cipher_encode(text, shift)\n",
        "print(f\"Encoded: {encoded_text}\")"
      ],
      "metadata": {
        "colab": {
          "base_uri": "https://localhost:8080/"
        },
        "id": "qW2dJHIjqxGq",
        "outputId": "9c317c98-874c-4324-8695-eb1b5a7dd300"
      },
      "execution_count": null,
      "outputs": [
        {
          "output_type": "stream",
          "name": "stdout",
          "text": [
            "Encoded: Dqxudj Vkdupd\n"
          ]
        }
      ]
    },
    {
      "cell_type": "markdown",
      "source": [
        "43. Decode a Caesar cipher encoded string.\n",
        "\n"
      ],
      "metadata": {
        "id": "gYqtEDiBrBHn"
      }
    },
    {
      "cell_type": "code",
      "source": [
        "def caesar_cipher_decode(text, shift):\n",
        "    # Caesar cipher decoding\n",
        "    result = ''\n",
        "    for char in text:\n",
        "        if char.isalpha():\n",
        "            start = ord('a') if char.islower() else ord('A')\n",
        "            shifted_char = chr((ord(char) - start - shift) % 26 + start)\n",
        "        elif char.isdigit():\n",
        "            shifted_char = str((int(char) - shift) % 10)\n",
        "        else:\n",
        "            shifted_char = char\n",
        "        result += shifted_char\n",
        "    return result\n",
        "\n",
        "text = \"Sharma Anurag\"\n",
        "shift = 3\n",
        "decoded_text = caesar_cipher_decode(text, shift)\n",
        "print(f\"Decoded: {decoded_text}\")"
      ],
      "metadata": {
        "colab": {
          "base_uri": "https://localhost:8080/"
        },
        "id": "i_yPB1_NrDnL",
        "outputId": "727e490e-cc1d-4c2a-a457-149ab3f0e9dd"
      },
      "execution_count": null,
      "outputs": [
        {
          "output_type": "stream",
          "name": "stdout",
          "text": [
            "Decoded: Pexojx Xkroxd\n"
          ]
        }
      ]
    },
    {
      "cell_type": "markdown",
      "source": [
        "44. Find the most frequent word in a string.\n",
        "\n"
      ],
      "metadata": {
        "id": "VEacIh9YrJ7E"
      }
    },
    {
      "cell_type": "code",
      "source": [
        "'''\n",
        "from collections import Counter\n",
        "\n",
        "def most_frequent_word(string):\n",
        "  words = string.lower().split()\n",
        "  word_counts = Counter(words)\n",
        "  return word_counts.most_common(1)[0][0]\n",
        "\n",
        "string = \"This is a string with some words and some repeated words.\"\n",
        "most_frequent = most_frequent_word(string)\n",
        "print(most_frequent)\n",
        "'''\n",
        "\n",
        "def most_frequent_word(string):\n",
        "  words = string.lower().split()\n",
        "  counts = {}\n",
        "  for word in words:\n",
        "    if word in counts:\n",
        "      counts[word] += 1\n",
        "    else:\n",
        "      counts[word] = 1\n",
        "\n",
        "  most_frequent_word = max(counts, key=counts.get)\n",
        "\n",
        "  return most_frequent_word\n",
        "\n",
        "string = \"This is a string with some words and some repeated words.\"\n",
        "most_frequent = most_frequent_word(string)\n",
        "print(most_frequent)"
      ],
      "metadata": {
        "colab": {
          "base_uri": "https://localhost:8080/"
        },
        "id": "w7esjYJErMY6",
        "outputId": "dac14d83-ed9c-4a3c-898c-d6f5a84f4d0e"
      },
      "execution_count": 11,
      "outputs": [
        {
          "output_type": "stream",
          "name": "stdout",
          "text": [
            "some\n"
          ]
        }
      ]
    },
    {
      "cell_type": "markdown",
      "source": [
        "45. Find all unique words in a string.\n",
        "\n"
      ],
      "metadata": {
        "id": "XCkATgaSrRHy"
      }
    },
    {
      "cell_type": "code",
      "source": [
        "def unique_words(string):\n",
        "  words = string.lower().split()\n",
        "  return set(words)\n",
        "\n",
        "string = \"This is a string with some words and some repeated words.\"\n",
        "unique = unique_words(string)\n",
        "print(unique)"
      ],
      "metadata": {
        "colab": {
          "base_uri": "https://localhost:8080/"
        },
        "id": "DO6YOJNrrRlq",
        "outputId": "09fce340-a0eb-4f17-f04b-3999cd4c014a"
      },
      "execution_count": null,
      "outputs": [
        {
          "output_type": "stream",
          "name": "stdout",
          "text": [
            "{'a', 'and', 'some', 'is', 'words.', 'with', 'string', 'words', 'this', 'repeated'}\n"
          ]
        }
      ]
    },
    {
      "cell_type": "markdown",
      "source": [
        "46. Count the number of syllables in a string.\n",
        "\n"
      ],
      "metadata": {
        "id": "TtAMPHl5rVlx"
      }
    },
    {
      "cell_type": "code",
      "source": [
        "'''\n",
        "import re\n",
        "\n",
        "def count_syllables(string):\n",
        "  count = 0\n",
        "  vowels = \"aeiouy\"\n",
        "  for word in string.lower().split():\n",
        "    for char in word:\n",
        "      if char in vowels:\n",
        "        count += 1\n",
        "    # Adjust for silent e at the end\n",
        "    if word.endswith(\"e\"):\n",
        "      count -= 1\n",
        "    # Adjust for consecutive vowels (diphthongs, etc.)\n",
        "    count -= len(re.findall(r\"[aeiouy]{2,}\", word))\n",
        "    # Ensure at least one syllable per word\n",
        "    if count == 0:\n",
        "      count = 1\n",
        "  return count\n",
        "\n",
        "string = \"This is a sentence with multiple syllables.\"\n",
        "syllable_count = count_syllables(string)\n",
        "print(syllable_count)\n",
        "'''\n",
        "\n",
        "def count_syllables(word):\n",
        "    vowels = \"aeiouy\"\n",
        "    count = 0\n",
        "\n",
        "    if word[0] in vowels:\n",
        "        count += 1\n",
        "\n",
        "    for index in range(1, len(word)):\n",
        "        if word[index] in vowels and word[index - 1] not in vowels:\n",
        "            count += 1\n",
        "\n",
        "    if word.endswith(\"e\"):\n",
        "        count -= 1\n",
        "    if count == 0:\n",
        "        count = 1\n",
        "    return count\n",
        "\n",
        "def count_syllables_in_string(string):\n",
        "    words = string.lower().split()\n",
        "    total_syllables = 0\n",
        "    for word in words:\n",
        "        total_syllables += count_syllables(word)\n",
        "    return total_syllables\n",
        "\n",
        "string = \"This is a sentence with multiple syllables.\"\n",
        "syllable_count = count_syllables_in_string(string)\n",
        "print(syllable_count)\n"
      ],
      "metadata": {
        "colab": {
          "base_uri": "https://localhost:8080/"
        },
        "id": "HWwfi7-NrV-R",
        "outputId": "b81036e5-9552-49b5-ea81-b8b8f9eb290e"
      },
      "execution_count": 12,
      "outputs": [
        {
          "output_type": "stream",
          "name": "stdout",
          "text": [
            "11\n"
          ]
        }
      ]
    },
    {
      "cell_type": "markdown",
      "source": [
        "47. Check if a string contains any special characters.\n",
        "\n"
      ],
      "metadata": {
        "id": "HkLqenEZrinx"
      }
    },
    {
      "cell_type": "code",
      "source": [
        "'''\n",
        "import re\n",
        "\n",
        "def contains_special_chars(string):\n",
        "  pattern = r\"[^a-zA-Z0-9\\s]\"\n",
        "  return bool(re.search(pattern, string))\n",
        "\n",
        "string = \"This string has special characters!@#$%^&*()\"\n",
        "if contains_special_chars(string):\n",
        "  print(\"The string contains special characters.\")\n",
        "else:\n",
        "  print(\"The string does not contain special characters.\")\n",
        "'''\n",
        "def contains_special_chars(string):\n",
        "  special_chars = \"!@#$%^&*()_+=-`~[]\\{}|;':\\\",./<>?\"\n",
        "  for char in string:\n",
        "    if char in special_chars:\n",
        "      return True\n",
        "  return False\n",
        "\n",
        "string = \"This string has special characters!@#$%^&*()\"\n",
        "if contains_special_chars(string):\n",
        "  print(\"The string contains special characters.\")\n",
        "else:\n",
        "  print(\"The string does not contain special characters.\")"
      ],
      "metadata": {
        "colab": {
          "base_uri": "https://localhost:8080/"
        },
        "id": "S8qW_I2JrmBy",
        "outputId": "e907b87c-94c0-4210-fed0-50c79eeda460"
      },
      "execution_count": 13,
      "outputs": [
        {
          "output_type": "stream",
          "name": "stdout",
          "text": [
            "The string contains special characters.\n"
          ]
        }
      ]
    },
    {
      "cell_type": "markdown",
      "source": [
        "48. Remove the nth word from a string.\n",
        "\n"
      ],
      "metadata": {
        "id": "jeVvzmLYrqMf"
      }
    },
    {
      "cell_type": "code",
      "source": [
        "def remove_nth_word(string, n):\n",
        "  words = string.split()\n",
        "  if 0 < n <= len(words):\n",
        "    del words[n - 1]\n",
        "  return \" \".join(words)\n",
        "\n",
        "string = \"This is a sentence with words.\"\n",
        "new_string = remove_nth_word(string, 3)\n",
        "print(new_string)"
      ],
      "metadata": {
        "colab": {
          "base_uri": "https://localhost:8080/"
        },
        "id": "ABqjCC4mrsDo",
        "outputId": "cb2fe91c-ad78-4e71-fcf2-007525b878c5"
      },
      "execution_count": null,
      "outputs": [
        {
          "output_type": "stream",
          "name": "stdout",
          "text": [
            "This is sentence with words.\n"
          ]
        }
      ]
    },
    {
      "cell_type": "markdown",
      "source": [
        "49. Insert a word at the nth position in a string.\n",
        "\n"
      ],
      "metadata": {
        "id": "KKrafqfkrwHh"
      }
    },
    {
      "cell_type": "code",
      "source": [
        "def insert_word(string, word, n):\n",
        "  words = string.split()\n",
        "  if 0 <= n <= len(words):\n",
        "    words.insert(n, word)\n",
        "  return \" \".join(words)\n",
        "\n",
        "string = \"This is a sentence.\"\n",
        "new_string = insert_word(string, \"new\", 2)\n",
        "print(new_string)"
      ],
      "metadata": {
        "colab": {
          "base_uri": "https://localhost:8080/"
        },
        "id": "59ERCOKGrw4E",
        "outputId": "b59eb023-a1c0-4784-e643-cb4ff04054e8"
      },
      "execution_count": null,
      "outputs": [
        {
          "output_type": "stream",
          "name": "stdout",
          "text": [
            "This is new a sentence.\n"
          ]
        }
      ]
    },
    {
      "cell_type": "markdown",
      "source": [
        "50. Convert a CSV string to a list of lists.\n",
        "\n",
        "\n",
        "\n",
        "> Add blockquote\n",
        "\n"
      ],
      "metadata": {
        "id": "iFayGQror19J"
      }
    },
    {
      "cell_type": "code",
      "source": [
        "import csv\n",
        "\n",
        "def csv_to_list(csv_string):\n",
        "  reader = csv.reader(csv_string.splitlines())\n",
        "  return list(reader)\n",
        "\n",
        "csv_string = \"Name,Age,City\\nAlice,30,New York\\nBob,25,London\"\n",
        "data = csv_to_list(csv_string)\n",
        "print(data)"
      ],
      "metadata": {
        "colab": {
          "base_uri": "https://localhost:8080/"
        },
        "id": "Jrv3L5oBr2ii",
        "outputId": "514d5c9a-ad70-4242-a43d-002e06661b58"
      },
      "execution_count": null,
      "outputs": [
        {
          "output_type": "stream",
          "name": "stdout",
          "text": [
            "[['Name', 'Age', 'City'], ['Alice', '30', 'New York'], ['Bob', '25', 'London']]\n"
          ]
        }
      ]
    },
    {
      "cell_type": "markdown",
      "source": [
        "\n",
        "\n",
        "\n"
      ],
      "metadata": {
        "id": "fOYxrQhStcAd"
      }
    },
    {
      "cell_type": "markdown",
      "source": [
        "## **List**"
      ],
      "metadata": {
        "id": "7UhIpmNOtOt6"
      }
    },
    {
      "cell_type": "markdown",
      "source": [
        "1. Create a list with integers from 1 to 10:\n",
        "\n"
      ],
      "metadata": {
        "id": "PyKX5MOS-BX2"
      }
    },
    {
      "cell_type": "code",
      "source": [
        "ls = list(range(1,11))\n",
        "print(ls)"
      ],
      "metadata": {
        "id": "6ZDuT72ltUef",
        "colab": {
          "base_uri": "https://localhost:8080/"
        },
        "outputId": "32c57b6e-858b-487c-d9c9-929368da5d15"
      },
      "execution_count": null,
      "outputs": [
        {
          "output_type": "stream",
          "name": "stdout",
          "text": [
            "[1, 2, 3, 4, 5, 6, 7, 8, 9, 10]\n"
          ]
        }
      ]
    },
    {
      "cell_type": "markdown",
      "source": [
        "2. Find the length of a list without using the len() function:\n",
        "\n"
      ],
      "metadata": {
        "id": "FDxXpfEu-OBs"
      }
    },
    {
      "cell_type": "code",
      "source": [
        "def list_length(ls):\n",
        "  count = 0\n",
        "  for _ in ls:\n",
        "    count += 1\n",
        "  return count\n",
        "\n",
        "ls = [1,2,3,4,5,6,7,8,9,10]\n",
        "length = list_length(ls)\n",
        "print(length)"
      ],
      "metadata": {
        "colab": {
          "base_uri": "https://localhost:8080/"
        },
        "id": "OAUNJUBO-Svb",
        "outputId": "4f9ce530-3294-4def-ccf5-b99a6308556a"
      },
      "execution_count": null,
      "outputs": [
        {
          "output_type": "stream",
          "name": "stdout",
          "text": [
            "10\n"
          ]
        }
      ]
    },
    {
      "cell_type": "markdown",
      "source": [
        "3. Append an element to the end of a list:\n",
        "\n"
      ],
      "metadata": {
        "id": "wWO5gBS9-kAm"
      }
    },
    {
      "cell_type": "code",
      "source": [
        "ls = [1,2,3,4,5,6,7,8,9,10]\n",
        "ls.append(11)\n",
        "print(ls)"
      ],
      "metadata": {
        "colab": {
          "base_uri": "https://localhost:8080/"
        },
        "id": "Yn87CdsJ-mZ9",
        "outputId": "92a3e7cd-f315-47b5-d213-24f19148163d"
      },
      "execution_count": null,
      "outputs": [
        {
          "output_type": "stream",
          "name": "stdout",
          "text": [
            "[1, 2, 3, 4, 5, 6, 7, 8, 9, 10, 11]\n"
          ]
        }
      ]
    },
    {
      "cell_type": "markdown",
      "source": [
        "4. Insert an element at a specific index in a list:\n",
        "\n"
      ],
      "metadata": {
        "id": "Ni22K7GX-OMv"
      }
    },
    {
      "cell_type": "code",
      "source": [
        "ls = [1,2,4]\n",
        "ls.insert(2,3)\n",
        "print(ls)"
      ],
      "metadata": {
        "colab": {
          "base_uri": "https://localhost:8080/"
        },
        "id": "S1gAsyyU-ydK",
        "outputId": "4a6758cc-8960-460a-9645-f87aa7b23e1e"
      },
      "execution_count": null,
      "outputs": [
        {
          "output_type": "stream",
          "name": "stdout",
          "text": [
            "[1, 2, 3, 4]\n"
          ]
        }
      ]
    },
    {
      "cell_type": "markdown",
      "source": [
        "5. Remove an element from a list by its value:\n",
        "\n"
      ],
      "metadata": {
        "id": "o2pQR2kQ-85Q"
      }
    },
    {
      "cell_type": "code",
      "source": [
        "ls = [1,2,3]\n",
        "del ls[1]\n",
        "print(ls)"
      ],
      "metadata": {
        "colab": {
          "base_uri": "https://localhost:8080/"
        },
        "id": "T0VmTpI1_AcE",
        "outputId": "9e3b656e-2679-4b6e-adc6-9fa305585e42"
      },
      "execution_count": null,
      "outputs": [
        {
          "output_type": "stream",
          "name": "stdout",
          "text": [
            "[1, 3]\n"
          ]
        }
      ]
    },
    {
      "cell_type": "markdown",
      "source": [
        "7. Check if an element exists in a list:\n",
        "\n"
      ],
      "metadata": {
        "id": "WDmUzJg0tolH"
      }
    },
    {
      "cell_type": "code",
      "source": [
        "ls = [1,2,3]\n",
        "if 2 in ls:\n",
        "  print(\"Element exists in the list.\")"
      ],
      "metadata": {
        "colab": {
          "base_uri": "https://localhost:8080/"
        },
        "id": "yKXkCjNp_ATg",
        "outputId": "5f4ac08b-2baa-42ab-8de3-3e4dadb04b8e"
      },
      "execution_count": null,
      "outputs": [
        {
          "output_type": "stream",
          "name": "stdout",
          "text": [
            "Element exists in the list.\n"
          ]
        }
      ]
    },
    {
      "cell_type": "markdown",
      "source": [
        "8. Find the index of the first occurrence of an element in a list:\n",
        "\n"
      ],
      "metadata": {
        "id": "n7l0lRK1_VJi"
      }
    },
    {
      "cell_type": "code",
      "source": [
        "ls = [1,2,3,2]\n",
        "index = ls.index(2)\n",
        "print(index)"
      ],
      "metadata": {
        "colab": {
          "base_uri": "https://localhost:8080/"
        },
        "id": "yo0yzw2C_V-Y",
        "outputId": "4137bc89-4b35-44f8-da89-439e400be3c2"
      },
      "execution_count": null,
      "outputs": [
        {
          "output_type": "stream",
          "name": "stdout",
          "text": [
            "1\n"
          ]
        }
      ]
    },
    {
      "cell_type": "markdown",
      "source": [
        "9. Count the occurrences of an element in a list:\n",
        "\n",
        "\n"
      ],
      "metadata": {
        "id": "PsN8dAOm_hd3"
      }
    },
    {
      "cell_type": "code",
      "source": [
        "count = ls.count(2)\n",
        "print(count)"
      ],
      "metadata": {
        "colab": {
          "base_uri": "https://localhost:8080/"
        },
        "id": "NPpz4hUs_iHX",
        "outputId": "45c99f31-00be-4a24-aa49-5e555a5ea544"
      },
      "execution_count": null,
      "outputs": [
        {
          "output_type": "stream",
          "name": "stdout",
          "text": [
            "2\n"
          ]
        }
      ]
    },
    {
      "cell_type": "markdown",
      "source": [
        "10. Reverse the order of elements in a list:\n",
        "\n"
      ],
      "metadata": {
        "id": "9xJnOtT2_nBO"
      }
    },
    {
      "cell_type": "code",
      "source": [
        "my_list = [1, 2, 3]\n",
        "my_list.reverse()\n",
        "print(my_list)"
      ],
      "metadata": {
        "colab": {
          "base_uri": "https://localhost:8080/"
        },
        "id": "3ZHBia7W_niD",
        "outputId": "0b43cfff-9ea3-4e1c-a6c9-33509d652247"
      },
      "execution_count": null,
      "outputs": [
        {
          "output_type": "stream",
          "name": "stdout",
          "text": [
            "[3, 2, 1]\n"
          ]
        }
      ]
    },
    {
      "cell_type": "markdown",
      "source": [
        "11. Sort a list in ascending order:\n",
        "\n"
      ],
      "metadata": {
        "id": "dJgOF9YB_9xL"
      }
    },
    {
      "cell_type": "code",
      "source": [
        "ls = [3,1,2]\n",
        "ls.sort()\n",
        "print(ls)\n",
        "\n"
      ],
      "metadata": {
        "colab": {
          "base_uri": "https://localhost:8080/"
        },
        "id": "XxtYQQJW__nH",
        "outputId": "b2a541a7-49ef-44b9-fabb-ac8cab00bfa1"
      },
      "execution_count": null,
      "outputs": [
        {
          "output_type": "stream",
          "name": "stdout",
          "text": [
            "[1, 2, 3]\n"
          ]
        }
      ]
    },
    {
      "cell_type": "markdown",
      "source": [
        "12. Sort a list in descending order:\n",
        "\n"
      ],
      "metadata": {
        "id": "kTAAg7m0AMHn"
      }
    },
    {
      "cell_type": "code",
      "source": [
        "ls.sort(reverse=True)\n",
        "print(ls)"
      ],
      "metadata": {
        "colab": {
          "base_uri": "https://localhost:8080/"
        },
        "id": "Hrv5ETmYANMz",
        "outputId": "56006b06-6e96-4725-fcbc-db8540e744ce"
      },
      "execution_count": null,
      "outputs": [
        {
          "output_type": "stream",
          "name": "stdout",
          "text": [
            "[3, 2, 1]\n"
          ]
        }
      ]
    },
    {
      "cell_type": "markdown",
      "source": [
        "13. Create a list of even numbers from 1 to 20:\n",
        "\n"
      ],
      "metadata": {
        "id": "-4fPy-HMAb7M"
      }
    },
    {
      "cell_type": "code",
      "source": [
        "#even_numbers = list(range(2, 21, 2))\n",
        "even_numbers = [num for num in range(1, 21) if num % 2 == 0]\n",
        "\n",
        "print(even_numbers)"
      ],
      "metadata": {
        "colab": {
          "base_uri": "https://localhost:8080/"
        },
        "id": "_qGpPOHEAccP",
        "outputId": "5a0a7498-69e3-4b2c-8017-0309f70a7162"
      },
      "execution_count": null,
      "outputs": [
        {
          "output_type": "stream",
          "name": "stdout",
          "text": [
            "[2, 4, 6, 8, 10, 12, 14, 16, 18, 20]\n"
          ]
        }
      ]
    },
    {
      "cell_type": "markdown",
      "source": [
        "\n",
        "14. Create a list of odd numbers from 1 to 20:\n",
        "\n"
      ],
      "metadata": {
        "id": "-y1tXWukAsXu"
      }
    },
    {
      "cell_type": "code",
      "source": [
        "odd_numbers = [num for num in range(1, 21) if num % 2 != 0]\n",
        "print(odd_numbers)"
      ],
      "metadata": {
        "colab": {
          "base_uri": "https://localhost:8080/"
        },
        "id": "kQ5Jt3WGAm8E",
        "outputId": "00fa7154-181c-4b03-f879-4887a136e922"
      },
      "execution_count": null,
      "outputs": [
        {
          "output_type": "stream",
          "name": "stdout",
          "text": [
            "[1, 3, 5, 7, 9, 11, 13, 15, 17, 19]\n"
          ]
        }
      ]
    },
    {
      "cell_type": "markdown",
      "source": [
        "15. Find the sum of all elements in a list:\n",
        "\n"
      ],
      "metadata": {
        "id": "P81udyjNA7L9"
      }
    },
    {
      "cell_type": "code",
      "source": [
        "my_list = [1, 2, 3, 4, 5]\n",
        "total_sum = sum(my_list)\n",
        "print(total_sum)"
      ],
      "metadata": {
        "colab": {
          "base_uri": "https://localhost:8080/"
        },
        "id": "minkK7RAAzui",
        "outputId": "bd9093b0-02cf-4f5b-fa6b-f74381241a43"
      },
      "execution_count": null,
      "outputs": [
        {
          "output_type": "stream",
          "name": "stdout",
          "text": [
            "15\n"
          ]
        }
      ]
    },
    {
      "cell_type": "markdown",
      "source": [
        "16. Find the maximum value in a list:\n",
        "\n"
      ],
      "metadata": {
        "id": "rMOcjB1ABA6L"
      }
    },
    {
      "cell_type": "code",
      "source": [
        "ls = [1,2,3,4,5]\n",
        "max_val = max(ls)\n",
        "print(max_val)"
      ],
      "metadata": {
        "colab": {
          "base_uri": "https://localhost:8080/"
        },
        "id": "vU68GB5GBDDo",
        "outputId": "d62e0aaf-9a77-421b-f112-94572cdf3a65"
      },
      "execution_count": null,
      "outputs": [
        {
          "output_type": "stream",
          "name": "stdout",
          "text": [
            "5\n"
          ]
        }
      ]
    },
    {
      "cell_type": "markdown",
      "source": [
        "17. Find the minimum value in a list:\n",
        "\n"
      ],
      "metadata": {
        "id": "rSW3K_gMBQQD"
      }
    },
    {
      "cell_type": "code",
      "source": [
        "ls = [1,5,3,2,4]\n",
        "min_val = min(ls)\n",
        "print(min_val)"
      ],
      "metadata": {
        "colab": {
          "base_uri": "https://localhost:8080/"
        },
        "id": "ZK6Zu7q-BRHx",
        "outputId": "28894d64-34d3-48c8-b0ff-dfa43dd65497"
      },
      "execution_count": null,
      "outputs": [
        {
          "output_type": "stream",
          "name": "stdout",
          "text": [
            "1\n"
          ]
        }
      ]
    },
    {
      "cell_type": "markdown",
      "source": [
        "18. Create a list of squares of numbers from 1 to 10:\n",
        "\n",
        "\n"
      ],
      "metadata": {
        "id": "ljm7DIM8BdaC"
      }
    },
    {
      "cell_type": "code",
      "source": [
        "squares = [num**2 for num in range(1, 11)]\n",
        "print(squares)       # will create a list of squares"
      ],
      "metadata": {
        "colab": {
          "base_uri": "https://localhost:8080/"
        },
        "id": "uQzJ5FYtBgQL",
        "outputId": "363ca4bb-fa0a-4190-8404-900821a701e3"
      },
      "execution_count": null,
      "outputs": [
        {
          "output_type": "stream",
          "name": "stdout",
          "text": [
            "[1, 4, 9, 16, 25, 36, 49, 64, 81, 100]\n"
          ]
        }
      ]
    },
    {
      "cell_type": "markdown",
      "source": [
        "19. Create a list of random numbers:\n",
        "\n"
      ],
      "metadata": {
        "id": "MN1cSui8BxFB"
      }
    },
    {
      "cell_type": "code",
      "source": [
        "import random\n",
        "ran_number = [random.randint(1,100) for _ in range(10)]\n",
        "print(ran_number)"
      ],
      "metadata": {
        "colab": {
          "base_uri": "https://localhost:8080/"
        },
        "id": "DrIAxswXBxuu",
        "outputId": "4c01faf6-9cbd-409c-98f3-cb0fc1c9dba0"
      },
      "execution_count": null,
      "outputs": [
        {
          "output_type": "stream",
          "name": "stdout",
          "text": [
            "[87, 97, 82, 41, 36, 44, 18, 41, 86, 52]\n"
          ]
        }
      ]
    },
    {
      "cell_type": "markdown",
      "source": [
        "20. Remove duplicates from a list:\n",
        "\n"
      ],
      "metadata": {
        "id": "CheC9QkqCFWP"
      }
    },
    {
      "cell_type": "code",
      "source": [
        "my_list = [1, 2, 2, 3, 4, 4, 5]\n",
        "unique_list = list(set(my_list))\n",
        "print(unique_list)"
      ],
      "metadata": {
        "colab": {
          "base_uri": "https://localhost:8080/"
        },
        "id": "YDOM14WGCB2Z",
        "outputId": "5fb26cb0-9210-41eb-d85f-0062e9bb7e34"
      },
      "execution_count": null,
      "outputs": [
        {
          "output_type": "stream",
          "name": "stdout",
          "text": [
            "[1, 2, 3, 4, 5]\n"
          ]
        }
      ]
    },
    {
      "cell_type": "markdown",
      "source": [
        "21. Find the common elements between two lists:\n",
        "\n"
      ],
      "metadata": {
        "id": "ZYOmhwcgCMND"
      }
    },
    {
      "cell_type": "code",
      "source": [
        "list1 = [1, 2, 3, 4]\n",
        "list2 = [3, 4, 5, 6]\n",
        "common_elements = list(set(list1) & set(list2)) # ser intersection & used to find commone elements\n",
        "print(common_elements)"
      ],
      "metadata": {
        "colab": {
          "base_uri": "https://localhost:8080/"
        },
        "id": "6T-C6MOxCPou",
        "outputId": "02ed677b-9950-4c0f-cca5-40b9e0a5a4ac"
      },
      "execution_count": null,
      "outputs": [
        {
          "output_type": "stream",
          "name": "stdout",
          "text": [
            "[3, 4]\n"
          ]
        }
      ]
    },
    {
      "cell_type": "markdown",
      "source": [
        "22. Find the difference between two lines:"
      ],
      "metadata": {
        "id": "Y3UzcZb9Ceva"
      }
    },
    {
      "cell_type": "code",
      "source": [
        "l1 = [1,2,3,4]\n",
        "l2 = [3,4,5,6]\n",
        "diff = list(set(l1) - set(l2))\n",
        "print(diff)"
      ],
      "metadata": {
        "colab": {
          "base_uri": "https://localhost:8080/"
        },
        "id": "s2xLXiuxCkOR",
        "outputId": "64ad13cc-2b06-4903-9d28-3532b8713df0"
      },
      "execution_count": null,
      "outputs": [
        {
          "output_type": "stream",
          "name": "stdout",
          "text": [
            "[1, 2]\n"
          ]
        }
      ]
    },
    {
      "cell_type": "markdown",
      "source": [
        "23. Merge two lists:"
      ],
      "metadata": {
        "id": "vBVYUbJ5CsLp"
      }
    },
    {
      "cell_type": "code",
      "source": [
        "l1 = [1,2,3]\n",
        "l2 = [4,5,6]\n",
        "merge_list = l1 + l2\n",
        "print(merge_list)"
      ],
      "metadata": {
        "colab": {
          "base_uri": "https://localhost:8080/"
        },
        "id": "ziLfFHkjCuui",
        "outputId": "42e5c70a-67f4-4509-eefe-3a0846db2f6a"
      },
      "execution_count": null,
      "outputs": [
        {
          "output_type": "stream",
          "name": "stdout",
          "text": [
            "[1, 2, 3, 4, 5, 6]\n"
          ]
        }
      ]
    },
    {
      "cell_type": "markdown",
      "source": [
        "24. Multiply all element in a list by 2:"
      ],
      "metadata": {
        "id": "RwOFTCWSC2bA"
      }
    },
    {
      "cell_type": "code",
      "source": [
        "my_list = [1, 2, 3, 4, 5]\n",
        "multiplied_list = [num * 2 for num in my_list]\n",
        "print(multiplied_list)"
      ],
      "metadata": {
        "colab": {
          "base_uri": "https://localhost:8080/"
        },
        "id": "KLSUjPaJC74F",
        "outputId": "bfa76734-09bc-4392-dfb9-ac016cb07ad1"
      },
      "execution_count": null,
      "outputs": [
        {
          "output_type": "stream",
          "name": "stdout",
          "text": [
            "[2, 4, 6, 8, 10]\n"
          ]
        }
      ]
    },
    {
      "cell_type": "markdown",
      "source": [
        "25. Filter out all even numbers from a list:\n",
        "\n"
      ],
      "metadata": {
        "id": "DCRqIYX1DBnK"
      }
    },
    {
      "cell_type": "code",
      "source": [
        "my_list = [1, 2, 3, 4, 5, 6]\n",
        "odd_numbers = [num for num in my_list if num % 2 == 0]\n",
        "print(odd_numbers)"
      ],
      "metadata": {
        "colab": {
          "base_uri": "https://localhost:8080/"
        },
        "id": "kR2HeXJyDCmM",
        "outputId": "e2b98121-330d-40d2-b69f-034351938d3a"
      },
      "execution_count": null,
      "outputs": [
        {
          "output_type": "stream",
          "name": "stdout",
          "text": [
            "[2, 4, 6]\n"
          ]
        }
      ]
    },
    {
      "cell_type": "markdown",
      "source": [
        "26. Convert a list of strings to a list of integers:\n",
        "\n"
      ],
      "metadata": {
        "id": "EXa7WW6QDdAo"
      }
    },
    {
      "cell_type": "code",
      "source": [
        "st = [\"1\",\"2\",\"3\"]\n",
        "int_list = [int(item) for item in st]\n",
        "# int_list = list(map(int, st))\n",
        "print(int_list)"
      ],
      "metadata": {
        "colab": {
          "base_uri": "https://localhost:8080/"
        },
        "id": "Ex7tvePBDFf7",
        "outputId": "e1e2d1a1-c176-4362-c88a-7ca5d5373970"
      },
      "execution_count": null,
      "outputs": [
        {
          "output_type": "stream",
          "name": "stdout",
          "text": [
            "[1, 2, 3]\n"
          ]
        }
      ]
    },
    {
      "cell_type": "markdown",
      "source": [
        "27. Convert a list of integers to a list of strings:\n",
        "\n"
      ],
      "metadata": {
        "id": "-ivtZH09D-0L"
      }
    },
    {
      "cell_type": "code",
      "source": [
        "integer_list = [1, 2, 3]\n",
        "string_list = [str(item) for item in integer_list]\n",
        "print(string_list)"
      ],
      "metadata": {
        "colab": {
          "base_uri": "https://localhost:8080/"
        },
        "id": "_e0msPIKEBXz",
        "outputId": "8ab0025e-84cf-498a-aa3d-1de28c894a1c"
      },
      "execution_count": null,
      "outputs": [
        {
          "output_type": "stream",
          "name": "stdout",
          "text": [
            "['1', '2', '3']\n"
          ]
        }
      ]
    },
    {
      "cell_type": "markdown",
      "source": [
        "28. Flatten a nested list:\n",
        "\n"
      ],
      "metadata": {
        "id": "6G-Ie9J4EHAA"
      }
    },
    {
      "cell_type": "code",
      "source": [
        "nested_list = [[1, 2], [3, 4], [5, 6]]\n",
        "flat_list = [item for sublist in nested_list for item in sublist]\n",
        "print(flat_list)"
      ],
      "metadata": {
        "colab": {
          "base_uri": "https://localhost:8080/"
        },
        "id": "sFwqKYfnEIxO",
        "outputId": "5f3d2e31-b1d4-4ad3-ab27-fa7dae92352b"
      },
      "execution_count": null,
      "outputs": [
        {
          "output_type": "stream",
          "name": "stdout",
          "text": [
            "[1, 2, 3, 4, 5, 6]\n"
          ]
        }
      ]
    },
    {
      "cell_type": "markdown",
      "source": [
        "29. Create a list of the first 10 Fibonacci numbers:\n",
        "\n"
      ],
      "metadata": {
        "id": "WY2fgifSEOgg"
      }
    },
    {
      "cell_type": "code",
      "source": [
        "def fibonacci(n):\n",
        "  fib_list = [0, 1]\n",
        "  while len(fib_list) < n:\n",
        "    next_fib = fib_list[-1] + fib_list[-2]\n",
        "    fib_list.append(next_fib)\n",
        "  return fib_list\n",
        "\n",
        "first_10_fib = fibonacci(10)\n",
        "print(first_10_fib)"
      ],
      "metadata": {
        "colab": {
          "base_uri": "https://localhost:8080/"
        },
        "id": "YoBWBmcXEPag",
        "outputId": "634bca7d-dc16-46ee-c829-32f7d3602699"
      },
      "execution_count": null,
      "outputs": [
        {
          "output_type": "stream",
          "name": "stdout",
          "text": [
            "[0, 1, 1, 2, 3, 5, 8, 13, 21, 34]\n"
          ]
        }
      ]
    },
    {
      "cell_type": "markdown",
      "source": [
        "30. Check if a list is sorted:"
      ],
      "metadata": {
        "id": "Ujn6N5QYEd-i"
      }
    },
    {
      "cell_type": "code",
      "source": [
        "def is_sorted(my_list):\n",
        "  return all(my_list[i] <= my_list[i + 1] for i in range(len(my_list) - 1))\n",
        "# is_sorted = my_list == sorted(my_list)\n",
        "\n",
        "my_list = [1, 2, 3, 4, 5]\n",
        "sorted_check = is_sorted(my_list)\n",
        "print(sorted_check)"
      ],
      "metadata": {
        "colab": {
          "base_uri": "https://localhost:8080/"
        },
        "id": "_QH6n3_cEgIc",
        "outputId": "41e0acb9-4ae3-461a-bcee-770808200985"
      },
      "execution_count": null,
      "outputs": [
        {
          "output_type": "stream",
          "name": "stdout",
          "text": [
            "True\n"
          ]
        }
      ]
    },
    {
      "cell_type": "markdown",
      "source": [
        "31. Rotate a list to the left by n positions:"
      ],
      "metadata": {
        "id": "OMu9-OBTE4Cz"
      }
    },
    {
      "cell_type": "code",
      "source": [
        "def rotate_left(my_list, n):\n",
        "  n = n % len(my_list)  # Handle rotations larger than list length\n",
        "  return my_list[n:] + my_list[:n]\n",
        "\n",
        "my_list = [1, 2, 3, 4, 5]\n",
        "rotated_list = rotate_left(my_list, 2)\n",
        "print(rotated_list)"
      ],
      "metadata": {
        "colab": {
          "base_uri": "https://localhost:8080/"
        },
        "id": "LpsKqWu9E6VW",
        "outputId": "0d525481-5fb8-4960-be1f-9df0cca34504"
      },
      "execution_count": null,
      "outputs": [
        {
          "output_type": "stream",
          "name": "stdout",
          "text": [
            "[3, 4, 5, 1, 2]\n"
          ]
        }
      ]
    },
    {
      "cell_type": "markdown",
      "source": [
        "32. Rotate a list to the right by n positions:\n",
        "\n"
      ],
      "metadata": {
        "id": "IycAnYkgFahY"
      }
    },
    {
      "cell_type": "code",
      "source": [
        "def rotate_right(my_list, n):\n",
        "  n = n % len(my_list)\n",
        "  return my_list[-n:] + my_list[:-n]\n",
        "\n",
        "my_list = [1, 2, 3, 4, 5]\n",
        "rotated_list = rotate_right(my_list, 2)\n",
        "print(rotated_list)"
      ],
      "metadata": {
        "colab": {
          "base_uri": "https://localhost:8080/"
        },
        "id": "_Ny4ohj-E9Nl",
        "outputId": "e458dd2b-832e-4d1c-d188-1c4c988bb37a"
      },
      "execution_count": null,
      "outputs": [
        {
          "output_type": "stream",
          "name": "stdout",
          "text": [
            "[4, 5, 1, 2, 3]\n"
          ]
        }
      ]
    },
    {
      "cell_type": "markdown",
      "source": [
        "33. Create a list of prime numbers up to 50:"
      ],
      "metadata": {
        "id": "E4HbjY5ZFjKT"
      }
    },
    {
      "cell_type": "code",
      "source": [
        "def is_prime(n):\n",
        "  if n < 2:\n",
        "    return False\n",
        "  for i in range(2, int(n**0.5) + 1):\n",
        "    if n % i == 0:\n",
        "      return False\n",
        "  return True\n",
        "\n",
        "primes = [num for num in range(2, 51) if is_prime(num)]\n",
        "print(primes)"
      ],
      "metadata": {
        "colab": {
          "base_uri": "https://localhost:8080/"
        },
        "id": "YgTFqjRHFj0c",
        "outputId": "3bdbe461-d011-4350-bf5f-1f1a0fbd161e"
      },
      "execution_count": null,
      "outputs": [
        {
          "output_type": "stream",
          "name": "stdout",
          "text": [
            "[2, 3, 5, 7, 11, 13, 17, 19, 23, 29, 31, 37, 41, 43, 47]\n"
          ]
        }
      ]
    },
    {
      "cell_type": "markdown",
      "source": [
        "34. Split a list into chunks of size n"
      ],
      "metadata": {
        "id": "_kkOqMbDFsAr"
      }
    },
    {
      "cell_type": "code",
      "source": [
        "def split_list(my_list, chunk_size):\n",
        "  return [my_list[i:i + chunk_size] for i in range(0, len(my_list), chunk_size)]\n",
        "\n",
        "my_list = [1, 2, 3, 4, 5, 6, 7, 8]\n",
        "chunks = split_list(my_list, 3)\n",
        "print(chunks)"
      ],
      "metadata": {
        "colab": {
          "base_uri": "https://localhost:8080/"
        },
        "id": "wdYXeyOyFxxg",
        "outputId": "0b51309a-61fa-40cd-c139-4b1feeea2d68"
      },
      "execution_count": null,
      "outputs": [
        {
          "output_type": "stream",
          "name": "stdout",
          "text": [
            "[[1, 2, 3], [4, 5, 6], [7, 8]]\n"
          ]
        }
      ]
    },
    {
      "cell_type": "markdown",
      "source": [
        "35. Find the second largest number in a list:"
      ],
      "metadata": {
        "id": "7hzO_idiF4pO"
      }
    },
    {
      "cell_type": "code",
      "source": [
        "def second_largest(numbers):\n",
        "    # removing duplicates using set\n",
        "  unique_numbers = list(set(numbers))\n",
        "  # if the list contains 0 or 1 elements\n",
        "  if len(unique_numbers) < 2:\n",
        "    return None # return nothing if there are insufficient elements to find the second largest.\n",
        "  unique_numbers.sort()\n",
        "  return unique_numbers[-2]  # Second largest is at index -2 after sorting\n",
        "\n",
        "my_list = [1, 5, 3, 2, 4, 5]\n",
        "second_largest_num = second_largest(my_list)\n",
        "print(second_largest_num)"
      ],
      "metadata": {
        "colab": {
          "base_uri": "https://localhost:8080/"
        },
        "id": "DpKNTDnuF1X2",
        "outputId": "dbb5833c-e926-4850-b71e-b967d2869752"
      },
      "execution_count": null,
      "outputs": [
        {
          "output_type": "stream",
          "name": "stdout",
          "text": [
            "4\n"
          ]
        }
      ]
    },
    {
      "cell_type": "markdown",
      "source": [
        "36. Replace every element in a list with its square:\n",
        "\n"
      ],
      "metadata": {
        "id": "MrjnuWaRGDzX"
      }
    },
    {
      "cell_type": "code",
      "source": [
        "my_list = [1, 2, 3, 4, 5]\n",
        "for i in range(len(my_list)):\n",
        "  my_list[i] = my_list[i]**2\n",
        "print(my_list)"
      ],
      "metadata": {
        "colab": {
          "base_uri": "https://localhost:8080/"
        },
        "id": "jg8OkiaJGEZL",
        "outputId": "afe8b5be-081f-4d17-a721-4771d07aca53"
      },
      "execution_count": null,
      "outputs": [
        {
          "output_type": "stream",
          "name": "stdout",
          "text": [
            "[1, 4, 9, 16, 25]\n"
          ]
        }
      ]
    },
    {
      "cell_type": "markdown",
      "source": [
        "37. Convert a list to a dictionary where list elements become keys and their indices become values:"
      ],
      "metadata": {
        "id": "ca2UmlODGO9z"
      }
    },
    {
      "cell_type": "code",
      "source": [
        "my_list = ['apple', 'banana', 'orange']\n",
        "my_dict = {item: index for index, item in enumerate(my_list)}\n",
        "print(my_dict   )"
      ],
      "metadata": {
        "colab": {
          "base_uri": "https://localhost:8080/"
        },
        "id": "TtJ-mSdTGPum",
        "outputId": "cecd67f5-d078-40e0-ca88-04e20c7e502b"
      },
      "execution_count": null,
      "outputs": [
        {
          "output_type": "stream",
          "name": "stdout",
          "text": [
            "{'apple': 0, 'banana': 1, 'orange': 2}\n"
          ]
        }
      ]
    },
    {
      "cell_type": "markdown",
      "source": [
        "38. Shuffle the elements of a list randomly:\n",
        "\n",
        "\n"
      ],
      "metadata": {
        "id": "cvFUKol5Gaf8"
      }
    },
    {
      "cell_type": "code",
      "source": [
        "import random\n",
        "\n",
        "my_list = [1, 2, 3, 4, 5]\n",
        "random.shuffle(my_list)\n",
        "print(my_list)"
      ],
      "metadata": {
        "colab": {
          "base_uri": "https://localhost:8080/"
        },
        "id": "NlR7-1NcGbX6",
        "outputId": "c592f50e-ab4e-4e55-8279-025d64eeb485"
      },
      "execution_count": null,
      "outputs": [
        {
          "output_type": "stream",
          "name": "stdout",
          "text": [
            "[5, 4, 2, 3, 1]\n"
          ]
        }
      ]
    },
    {
      "cell_type": "markdown",
      "source": [],
      "metadata": {
        "id": "dZXQOYXN-CYg"
      }
    },
    {
      "cell_type": "markdown",
      "source": [
        "39. Create a list of the first 10 factorial numbers:\n"
      ],
      "metadata": {
        "id": "YH4OH0jHGxMx"
      }
    },
    {
      "cell_type": "code",
      "source": [
        "import math\n",
        "# math.factorial function from the math module is used to calculate the factorial of each number in the range 1 to 11 (exclusive)\n",
        "factorials = [math.factorial(i) for i in range(1, 11)]\n",
        "print(factorials)"
      ],
      "metadata": {
        "colab": {
          "base_uri": "https://localhost:8080/"
        },
        "id": "9pKfJrq3GyIc",
        "outputId": "457399ff-4629-4a55-eb74-dcdeea0d720f"
      },
      "execution_count": null,
      "outputs": [
        {
          "output_type": "stream",
          "name": "stdout",
          "text": [
            "[1, 2, 6, 24, 120, 720, 5040, 40320, 362880, 3628800]\n"
          ]
        }
      ]
    },
    {
      "cell_type": "markdown",
      "source": [
        "40. Check if two lists have at least one element in common:\n",
        "\n",
        "\n"
      ],
      "metadata": {
        "id": "az81vhMTG7cb"
      }
    },
    {
      "cell_type": "code",
      "source": [
        "def have_common_element(list1, list2):\n",
        "  return any(item in list2 for item in list1)\n",
        "\n",
        "list1 = [1, 2, 3]\n",
        "list2 = [3, 4, 5]\n",
        "common_check = have_common_element(list1, list2)\n",
        "print(common_check)"
      ],
      "metadata": {
        "colab": {
          "base_uri": "https://localhost:8080/"
        },
        "id": "2uNhWXiNG8Hn",
        "outputId": "981ef286-cf67-49dd-d1e3-a38c14bd619c"
      },
      "execution_count": null,
      "outputs": [
        {
          "output_type": "stream",
          "name": "stdout",
          "text": [
            "True\n"
          ]
        }
      ]
    },
    {
      "cell_type": "markdown",
      "source": [
        "41. Remove all elements from a list:\n",
        "\n"
      ],
      "metadata": {
        "id": "ki9lTPSBHDUm"
      }
    },
    {
      "cell_type": "code",
      "source": [
        "l1.clear()\n",
        "print(l1)"
      ],
      "metadata": {
        "colab": {
          "base_uri": "https://localhost:8080/"
        },
        "id": "_uWgEpi3HDzz",
        "outputId": "8ab63ad0-16b3-4c37-fafc-88b7af9f47dc"
      },
      "execution_count": null,
      "outputs": [
        {
          "output_type": "stream",
          "name": "stdout",
          "text": [
            "[]\n"
          ]
        }
      ]
    },
    {
      "cell_type": "markdown",
      "source": [
        "42. Replace negative numbers in a list with 0:\n",
        "\n"
      ],
      "metadata": {
        "id": "LRMVLKXVHKn6"
      }
    },
    {
      "cell_type": "code",
      "source": [
        "my_list = [1, -2, 3, -4, 5]\n",
        "for i in range(len(my_list)):\n",
        "  if my_list[i] < 0:\n",
        "    my_list[i] = 0\n",
        "print(my_list)"
      ],
      "metadata": {
        "colab": {
          "base_uri": "https://localhost:8080/"
        },
        "id": "ID3N9MRhHLG2",
        "outputId": "1e45e9a4-4a3d-4445-b3dc-edb81e4c1a0e"
      },
      "execution_count": null,
      "outputs": [
        {
          "output_type": "stream",
          "name": "stdout",
          "text": [
            "[1, 0, 3, 0, 5]\n"
          ]
        }
      ]
    },
    {
      "cell_type": "markdown",
      "source": [],
      "metadata": {
        "id": "R0fpYvYBHd-F"
      }
    },
    {
      "cell_type": "markdown",
      "source": [
        "43. Convert a string into a list of words:\n",
        "\n"
      ],
      "metadata": {
        "id": "XMIftZKeHpz4"
      }
    },
    {
      "cell_type": "code",
      "source": [
        "def string_to_word_list(string):\n",
        "  return string.split()\n",
        "\n",
        "string = \"This is a sentence.\"\n",
        "word_list = string_to_word_list(string)\n",
        "print(word_list)"
      ],
      "metadata": {
        "colab": {
          "base_uri": "https://localhost:8080/"
        },
        "id": "NdLqMfKtHq85",
        "outputId": "6f384bd8-4105-4811-e868-168aa6ebb6e9"
      },
      "execution_count": null,
      "outputs": [
        {
          "output_type": "stream",
          "name": "stdout",
          "text": [
            "['This', 'is', 'a', 'sentence.']\n"
          ]
        }
      ]
    },
    {
      "cell_type": "markdown",
      "source": [
        "44. Convert a list of words into a string:\n",
        "\n"
      ],
      "metadata": {
        "id": "9g-cmX_mH0qA"
      }
    },
    {
      "cell_type": "code",
      "source": [
        "def word_list_to_string(word_list):\n",
        "  return \" \".join(word_list)\n",
        "\n",
        "word_list = [\"This\", \"is\", \"a\", \"sentence.\"]\n",
        "string = word_list_to_string(word_list)\n",
        "print(string)"
      ],
      "metadata": {
        "colab": {
          "base_uri": "https://localhost:8080/"
        },
        "id": "JFC9dRprH1MA",
        "outputId": "598050b1-b690-4be7-cdbc-dd279bb43e5e"
      },
      "execution_count": null,
      "outputs": [
        {
          "output_type": "stream",
          "name": "stdout",
          "text": [
            "This is a sentence.\n"
          ]
        }
      ]
    },
    {
      "cell_type": "markdown",
      "source": [
        "45. Create a list of the first n powers of 2:"
      ],
      "metadata": {
        "id": "Qqdzq_ceH56J"
      }
    },
    {
      "cell_type": "code",
      "source": [
        "def powers_of_2(n):\n",
        "  return [2**i for i in range(n)]\n",
        "\n",
        "powers = powers_of_2(5)  # Creates a list of the first 5 powers of 2\n",
        "print(powers)"
      ],
      "metadata": {
        "colab": {
          "base_uri": "https://localhost:8080/"
        },
        "id": "wuQE93XSH8W2",
        "outputId": "0b20a9f5-084e-44f4-d760-abf75b64ff51"
      },
      "execution_count": null,
      "outputs": [
        {
          "output_type": "stream",
          "name": "stdout",
          "text": [
            "[1, 2, 4, 8, 16]\n"
          ]
        }
      ]
    },
    {
      "cell_type": "markdown",
      "source": [
        "46. Find the longest string in a list of strings:\n",
        "\n"
      ],
      "metadata": {
        "id": "d4EvZqttIArG"
      }
    },
    {
      "cell_type": "code",
      "source": [
        "def longest_string(strings):\n",
        "  return max(strings, key=len)\n",
        "\n",
        "strings = [\"apple\", \"banana\", \"orange\", \"grapefruit\"]\n",
        "longest = longest_string(strings)\n",
        "print(longest)"
      ],
      "metadata": {
        "colab": {
          "base_uri": "https://localhost:8080/"
        },
        "id": "8Id8XwCfIDD6",
        "outputId": "19a5d942-5b59-45dc-87aa-8c26bace9930"
      },
      "execution_count": null,
      "outputs": [
        {
          "output_type": "stream",
          "name": "stdout",
          "text": [
            "grapefruit\n"
          ]
        }
      ]
    },
    {
      "cell_type": "markdown",
      "source": [
        "47. Find the shortest string in a list of strings:\n",
        "\n"
      ],
      "metadata": {
        "id": "SJIJoI0OIIex"
      }
    },
    {
      "cell_type": "code",
      "source": [
        "def shortest_string(strings):\n",
        "  return min(strings, key=len)\n",
        "\n",
        "strings = [\"apple\", \"banana\", \"orange\", \"grapefruit\"]\n",
        "shortest = shortest_string(strings)\n",
        "print(shortest)"
      ],
      "metadata": {
        "colab": {
          "base_uri": "https://localhost:8080/"
        },
        "id": "1gzPrLtDII9l",
        "outputId": "a48b7e72-aa71-4370-c6d1-42f7e7dafa47"
      },
      "execution_count": null,
      "outputs": [
        {
          "output_type": "stream",
          "name": "stdout",
          "text": [
            "apple\n"
          ]
        }
      ]
    },
    {
      "cell_type": "markdown",
      "source": [
        "48. Create a list of the first n triangular numbers:\n",
        "\n"
      ],
      "metadata": {
        "id": "jG7rvMzIINWh"
      }
    },
    {
      "cell_type": "code",
      "source": [
        "def triangular_numbers(n):\n",
        "  return [i * (i + 1) // 2 for i in range(1, n + 1)]\n",
        "\n",
        "triangulars = triangular_numbers(5)  # Creates a list of the first 5 triangular numbers\n",
        "print(triangulars)"
      ],
      "metadata": {
        "colab": {
          "base_uri": "https://localhost:8080/"
        },
        "id": "5fPu4Y86IP3W",
        "outputId": "bf11277d-4242-4ae1-a1cd-2184ea2f0d62"
      },
      "execution_count": null,
      "outputs": [
        {
          "output_type": "stream",
          "name": "stdout",
          "text": [
            "[1, 3, 6, 10, 15]\n"
          ]
        }
      ]
    },
    {
      "cell_type": "markdown",
      "source": [
        "49. Check if a list contains another list as a subsequence:\n",
        "\n",
        "\n"
      ],
      "metadata": {
        "id": "YN8ev8qkIWu3"
      }
    },
    {
      "cell_type": "code",
      "source": [
        "def is_subsequence(main_list, sub_list):\n",
        "  sub_len = len(sub_list)\n",
        "  for i in range(len(main_list) - sub_len + 1):\n",
        "    if main_list[i:i + sub_len] == sub_list:\n",
        "      return True\n",
        "  return False\n",
        "\n",
        "main_list = [1, 2, 3, 4, 5]\n",
        "sub_list = [2, 3, 4]\n",
        "result = is_subsequence(main_list, sub_list)\n",
        "print(result)"
      ],
      "metadata": {
        "colab": {
          "base_uri": "https://localhost:8080/"
        },
        "id": "ys_mqqOpIZEF",
        "outputId": "3f994dc0-a3cc-427e-8769-b25c63026f8b"
      },
      "execution_count": null,
      "outputs": [
        {
          "output_type": "stream",
          "name": "stdout",
          "text": [
            "True\n"
          ]
        }
      ]
    },
    {
      "cell_type": "markdown",
      "source": [
        "50. Swap two elements in a list by their indices:"
      ],
      "metadata": {
        "id": "PuQ7pxcJIeg3"
      }
    },
    {
      "cell_type": "code",
      "source": [
        "def swap_elements(my_list, index1, index2):\n",
        "  my_list[index1], my_list[index2] = my_list[index2], my_list[index1]\n",
        "\n",
        "my_list = [1, 2, 3, 4, 5]\n",
        "swap_elements(my_list, 1, 3)  # Swaps elements at indices 1 and 3\n",
        "print(my_list)"
      ],
      "metadata": {
        "colab": {
          "base_uri": "https://localhost:8080/"
        },
        "id": "JjKSx77fIfGM",
        "outputId": "b529ceb5-d35f-4c54-ddfd-507aca96ba42"
      },
      "execution_count": null,
      "outputs": [
        {
          "output_type": "stream",
          "name": "stdout",
          "text": [
            "[1, 4, 3, 2, 5]\n"
          ]
        }
      ]
    },
    {
      "cell_type": "markdown",
      "source": [
        "# Sets"
      ],
      "metadata": {
        "id": "DEcq-oTQ-EZS"
      }
    },
    {
      "cell_type": "markdown",
      "source": [
        "1. Create a set with integers from 1 to 5:\n",
        "\n"
      ],
      "metadata": {
        "id": "5ye4HuUB-SjW"
      }
    },
    {
      "cell_type": "code",
      "source": [
        "my_set = set(range(1, 6))\n",
        "print(my_set)"
      ],
      "metadata": {
        "colab": {
          "base_uri": "https://localhost:8080/"
        },
        "id": "S-wzTFhq-P-m",
        "outputId": "c16d1393-7687-4cca-bd12-b9d09151107d"
      },
      "execution_count": 14,
      "outputs": [
        {
          "output_type": "stream",
          "name": "stdout",
          "text": [
            "{1, 2, 3, 4, 5}\n"
          ]
        }
      ]
    },
    {
      "cell_type": "markdown",
      "source": [
        "2. Add an element to a set:"
      ],
      "metadata": {
        "id": "Habd3aq8-WWN"
      }
    },
    {
      "cell_type": "code",
      "source": [
        "my_set.add(6)\n",
        "print(my_set)"
      ],
      "metadata": {
        "colab": {
          "base_uri": "https://localhost:8080/"
        },
        "id": "FadrHQxC-YRV",
        "outputId": "e67f2b03-8baf-4646-9bb1-1ad794632a99"
      },
      "execution_count": 15,
      "outputs": [
        {
          "output_type": "stream",
          "name": "stdout",
          "text": [
            "{1, 2, 3, 4, 5, 6}\n"
          ]
        }
      ]
    },
    {
      "cell_type": "markdown",
      "source": [
        "3. Remove an element from a set:"
      ],
      "metadata": {
        "id": "3g-wnNRa-hWr"
      }
    },
    {
      "cell_type": "code",
      "source": [
        "my_set.remove(3)\n",
        "print(my_set)"
      ],
      "metadata": {
        "colab": {
          "base_uri": "https://localhost:8080/"
        },
        "id": "nuY5JoGl-kKp",
        "outputId": "9eabee37-3fd4-4346-f691-917fccf44ee2"
      },
      "execution_count": 16,
      "outputs": [
        {
          "output_type": "stream",
          "name": "stdout",
          "text": [
            "{1, 2, 4, 5, 6}\n"
          ]
        }
      ]
    },
    {
      "cell_type": "code",
      "source": [
        "# 4. Check if an element exists in a set:\n",
        "\n",
        "if 4 in my_set:\n",
        "    print(\"Element exists in the set\")"
      ],
      "metadata": {
        "colab": {
          "base_uri": "https://localhost:8080/"
        },
        "id": "RfhritCI-q1p",
        "outputId": "13fc66dd-74d2-4e56-f329-c845ff735670"
      },
      "execution_count": 17,
      "outputs": [
        {
          "output_type": "stream",
          "name": "stdout",
          "text": [
            "Element exists in the set\n"
          ]
        }
      ]
    },
    {
      "cell_type": "code",
      "source": [
        "# 5. Find the length of a set without using the len() function:\n",
        "\n",
        "count = sum(1 for _ in my_set)\n",
        "print(count)"
      ],
      "metadata": {
        "colab": {
          "base_uri": "https://localhost:8080/"
        },
        "id": "j0JALRHQ-vMe",
        "outputId": "63860bcf-a45c-44f7-e57f-1a098a3a8258"
      },
      "execution_count": 18,
      "outputs": [
        {
          "output_type": "stream",
          "name": "stdout",
          "text": [
            "5\n"
          ]
        }
      ]
    },
    {
      "cell_type": "code",
      "source": [
        "# 6. Clear all elements from a set:\n",
        "\n",
        "my_set.clear()\n",
        "print(my_set)"
      ],
      "metadata": {
        "id": "AvxdP7sC-xjB"
      },
      "execution_count": null,
      "outputs": []
    },
    {
      "cell_type": "code",
      "source": [
        "# 7. Create a set of even numbers from 1 to 10:\n",
        "\n",
        "even_numbers = {num for num in range(2, 11, 2)}\n",
        "print(even_numbers)"
      ],
      "metadata": {
        "colab": {
          "base_uri": "https://localhost:8080/"
        },
        "id": "I7ceSucN-3DS",
        "outputId": "746fdeb1-cc4b-4657-dd47-9f57f75db251"
      },
      "execution_count": 19,
      "outputs": [
        {
          "output_type": "stream",
          "name": "stdout",
          "text": [
            "{2, 4, 6, 8, 10}\n"
          ]
        }
      ]
    },
    {
      "cell_type": "code",
      "source": [
        "# 8. Create a set of odd numbers from 1 to 10:\n",
        "\n",
        "odd_numbers = {num for num in range(1, 11, 2)}\n",
        "print(odd_numbers)"
      ],
      "metadata": {
        "colab": {
          "base_uri": "https://localhost:8080/"
        },
        "id": "BeLUy0jZ-8cB",
        "outputId": "4505db07-5a2e-411d-8528-7e56dbc4153c"
      },
      "execution_count": 20,
      "outputs": [
        {
          "output_type": "stream",
          "name": "stdout",
          "text": [
            "{1, 3, 5, 7, 9}\n"
          ]
        }
      ]
    },
    {
      "cell_type": "code",
      "source": [
        "# 9. Find the union of two sets:\n",
        "\n",
        "set1 = {1, 2, 3}\n",
        "set2 = {3, 4, 5}\n",
        "union_set = set1 | set2\n",
        "print(union_set)"
      ],
      "metadata": {
        "colab": {
          "base_uri": "https://localhost:8080/"
        },
        "id": "oSgC7t4Q--46",
        "outputId": "9126d6c3-d7ce-4908-a7ab-d38daf28dbb1"
      },
      "execution_count": 21,
      "outputs": [
        {
          "output_type": "stream",
          "name": "stdout",
          "text": [
            "{1, 2, 3, 4, 5}\n"
          ]
        }
      ]
    },
    {
      "cell_type": "code",
      "source": [
        "# 10. Find the intersection of two sets:\n",
        "\n",
        "intersection_set = set1 & set2\n",
        "print(intersection_set)"
      ],
      "metadata": {
        "colab": {
          "base_uri": "https://localhost:8080/"
        },
        "id": "9_NBBmOU_Bz7",
        "outputId": "9c165e75-f732-419e-8242-6c0ac3cb2450"
      },
      "execution_count": 22,
      "outputs": [
        {
          "output_type": "stream",
          "name": "stdout",
          "text": [
            "{3}\n"
          ]
        }
      ]
    },
    {
      "cell_type": "code",
      "source": [
        "# 11. Find the difference between two sets:\n",
        "\n",
        "difference_set = set1 - set2\n",
        "print(difference_set)"
      ],
      "metadata": {
        "colab": {
          "base_uri": "https://localhost:8080/"
        },
        "id": "Y-zdWZqC_FK2",
        "outputId": "a21c371d-8033-4c62-caab-e49c11546d83"
      },
      "execution_count": 23,
      "outputs": [
        {
          "output_type": "stream",
          "name": "stdout",
          "text": [
            "{1, 2}\n"
          ]
        }
      ]
    },
    {
      "cell_type": "code",
      "source": [
        "# 12. Check if a set is a subset of another set:\n",
        "\n",
        "set1 = {1, 2}\n",
        "set2 = {1, 2, 3, 4}\n",
        "\n",
        "if set1.issubset(set2):\n",
        "    print(\"set1 is a subset of set2\")\n",
        "else:\n",
        "    print(\"set1 is not a subset of set2\")"
      ],
      "metadata": {
        "colab": {
          "base_uri": "https://localhost:8080/"
        },
        "id": "dcJjyQks_IA7",
        "outputId": "0c271613-01bc-40b1-9797-043ca27655c7"
      },
      "execution_count": 27,
      "outputs": [
        {
          "output_type": "stream",
          "name": "stdout",
          "text": [
            "set1 is a subset of set2\n"
          ]
        }
      ]
    },
    {
      "cell_type": "code",
      "source": [
        "# 13. Check if a set is a superset of another set:\n",
        "\n",
        "set1 = {1, 2, 3, 4}\n",
        "set2 = {2, 3}\n",
        "\n",
        "if set1.issuperset(set2):\n",
        "    print(\"set1 is a superset of set2\")\n",
        "else:\n",
        "    print(\"set1 is not a superset of set2\")"
      ],
      "metadata": {
        "colab": {
          "base_uri": "https://localhost:8080/"
        },
        "id": "GBR0hHvR_QfF",
        "outputId": "56b91980-8979-44ad-a7cf-16310a9c7383"
      },
      "execution_count": 28,
      "outputs": [
        {
          "output_type": "stream",
          "name": "stdout",
          "text": [
            "set1 is a superset of set2\n"
          ]
        }
      ]
    },
    {
      "cell_type": "code",
      "source": [
        "# 14. Create a set from a list:\n",
        "\n",
        "my_list = [1, 2, 3, 3, 4, 5]\n",
        "my_set = set(my_list)\n",
        "print(my_set)"
      ],
      "metadata": {
        "colab": {
          "base_uri": "https://localhost:8080/"
        },
        "id": "kl8xLIIC_Tq8",
        "outputId": "b8c85d2a-c2ee-4bc0-e9c6-70e339911138"
      },
      "execution_count": 26,
      "outputs": [
        {
          "output_type": "stream",
          "name": "stdout",
          "text": [
            "{1, 2, 3, 4, 5}\n"
          ]
        }
      ]
    },
    {
      "cell_type": "code",
      "source": [
        "# 15. Convert a set to a list:\n",
        "\n",
        "my_list = list(my_set)\n",
        "print(my_list)"
      ],
      "metadata": {
        "colab": {
          "base_uri": "https://localhost:8080/"
        },
        "id": "1VdYNQrM_nJa",
        "outputId": "50b67fc5-2fbd-4dd2-8ce2-a6b5fd7de696"
      },
      "execution_count": 29,
      "outputs": [
        {
          "output_type": "stream",
          "name": "stdout",
          "text": [
            "[1, 2, 3, 4, 5]\n"
          ]
        }
      ]
    },
    {
      "cell_type": "code",
      "source": [
        "# 16. Remove a random element from a set:\n",
        "\n",
        "import random\n",
        "removed_element = my_set.pop()  # Removes and returns an arbitrary element\n",
        "print(removed_element)"
      ],
      "metadata": {
        "colab": {
          "base_uri": "https://localhost:8080/"
        },
        "id": "7_xi4IxD_sDd",
        "outputId": "560b5d89-cdae-470a-9bef-a3cc4c62f99a"
      },
      "execution_count": 30,
      "outputs": [
        {
          "output_type": "stream",
          "name": "stdout",
          "text": [
            "1\n"
          ]
        }
      ]
    },
    {
      "cell_type": "code",
      "source": [
        "# 17. Pop an element from a set:\n",
        "\n",
        "element = my_set.pop()  # Raises KeyError if the set is empty\n",
        "print(element)"
      ],
      "metadata": {
        "colab": {
          "base_uri": "https://localhost:8080/"
        },
        "id": "ihHoYMdk_vOO",
        "outputId": "9864dcff-efe6-471c-d48c-d32b143e39f9"
      },
      "execution_count": 31,
      "outputs": [
        {
          "output_type": "stream",
          "name": "stdout",
          "text": [
            "2\n"
          ]
        }
      ]
    },
    {
      "cell_type": "code",
      "source": [
        "# 18. Check if two sets have no elements in common:\n",
        "set1 = {1, 2, 3, 4}\n",
        "set2 = {2, 3}\n",
        "if set1.isdisjoint(set2):\n",
        "    print(\"Sets have no common elements\")\n",
        "else:\n",
        "  print(\"Sets have common elements\")"
      ],
      "metadata": {
        "colab": {
          "base_uri": "https://localhost:8080/"
        },
        "id": "hw8OATtG_1Qk",
        "outputId": "7f3e6dc2-b009-4256-ff06-985ca1c491be"
      },
      "execution_count": 34,
      "outputs": [
        {
          "output_type": "stream",
          "name": "stdout",
          "text": [
            "Sets have common elements\n"
          ]
        }
      ]
    },
    {
      "cell_type": "code",
      "source": [
        "# 19. Find the symmetric difference between two sets:\n",
        "set1 = {1, 2, 3, 4}\n",
        "set2 = {2, 3}\n",
        "symmetric_difference = set1 ^ set2\n",
        "print(symmetric_difference)"
      ],
      "metadata": {
        "colab": {
          "base_uri": "https://localhost:8080/"
        },
        "id": "0SuvoxNZAAkO",
        "outputId": "be42fdd7-d2dc-4eda-bb80-4ce60185af75"
      },
      "execution_count": 35,
      "outputs": [
        {
          "output_type": "stream",
          "name": "stdout",
          "text": [
            "{1, 4}\n"
          ]
        }
      ]
    },
    {
      "cell_type": "code",
      "source": [
        "# 20. Update a set with elements from another set:\n",
        "\n",
        "set1.update(set2)\n",
        "print(set1)"
      ],
      "metadata": {
        "colab": {
          "base_uri": "https://localhost:8080/"
        },
        "id": "nw6UHQNUAG2C",
        "outputId": "55e3b0dd-a1ee-4b23-afad-149a8e88e531"
      },
      "execution_count": 36,
      "outputs": [
        {
          "output_type": "stream",
          "name": "stdout",
          "text": [
            "{1, 2, 3, 4}\n"
          ]
        }
      ]
    },
    {
      "cell_type": "code",
      "source": [
        "#21. Create a set of the first 5 prime numbers:\n",
        "\n",
        "def is_prime(n):\n",
        "  if n < 2:\n",
        "    return False\n",
        "  for i in range(2, int(n**0.5) + 1):\n",
        "    if n % i == 0:\n",
        "      return False\n",
        "  return True\n",
        "\n",
        "primes = {num for num in range(2, 51) if is_prime(num)}\n",
        "first_5_primes = {num for num in primes if num <= 11}\n",
        "print(first_5_primes)"
      ],
      "metadata": {
        "colab": {
          "base_uri": "https://localhost:8080/"
        },
        "id": "LncqBaZPAIoq",
        "outputId": "880cae72-1d45-4c0d-d666-30fa7f2cefd3"
      },
      "execution_count": 37,
      "outputs": [
        {
          "output_type": "stream",
          "name": "stdout",
          "text": [
            "{2, 3, 5, 7, 11}\n"
          ]
        }
      ]
    },
    {
      "cell_type": "code",
      "source": [
        "# 22. Check if two sets are identical:\n",
        "set1 = {1, 2, 3, 4}\n",
        "set2 = {2, 3}\n",
        "if set1 == set2:\n",
        "    print(\"Sets are identical\")\n",
        "else:\n",
        "  print(\"Sets are not identical\")"
      ],
      "metadata": {
        "colab": {
          "base_uri": "https://localhost:8080/"
        },
        "id": "pBYWCTAoAN6a",
        "outputId": "c9335e84-a2b3-447c-94f9-19625bf57ca3"
      },
      "execution_count": 38,
      "outputs": [
        {
          "output_type": "stream",
          "name": "stdout",
          "text": [
            "Sets are not identical\n"
          ]
        }
      ]
    },
    {
      "cell_type": "code",
      "source": [
        "# 23. Create a frozen set:\n",
        "\n",
        "frozen_set = frozenset([1, 2, 3])\n",
        "print(frozen_set)"
      ],
      "metadata": {
        "colab": {
          "base_uri": "https://localhost:8080/"
        },
        "id": "Y9PhPD4ZAXAo",
        "outputId": "e5dd4cf9-4d6e-48a7-9372-01ef75728298"
      },
      "execution_count": 39,
      "outputs": [
        {
          "output_type": "stream",
          "name": "stdout",
          "text": [
            "frozenset({1, 2, 3})\n"
          ]
        }
      ]
    },
    {
      "cell_type": "code",
      "source": [
        "# 24. Check if a set is disjoint with another set:\n",
        "\n",
        "if set1.isdisjoint(set2):\n",
        "    print(\"Sets are disjoint\")"
      ],
      "metadata": {
        "id": "tHl5-DKIAcfn"
      },
      "execution_count": 40,
      "outputs": []
    },
    {
      "cell_type": "code",
      "source": [
        "# 25. Create a set of squares of numbers from 1 to 5:\n",
        "\n",
        "squares = {num**2 for num in range(1, 6)}\n",
        "print(squares)"
      ],
      "metadata": {
        "colab": {
          "base_uri": "https://localhost:8080/"
        },
        "id": "xMsxud8IAh1n",
        "outputId": "b6eb28b7-3b6c-4895-fb2c-1c2f983d7369"
      },
      "execution_count": 41,
      "outputs": [
        {
          "output_type": "stream",
          "name": "stdout",
          "text": [
            "{1, 4, 9, 16, 25}\n"
          ]
        }
      ]
    },
    {
      "cell_type": "code",
      "source": [
        "# 26. Filter out all even numbers from a set:\n",
        "\n",
        "odd_numbers = {num for num in my_set if num % 2 != 0}\n",
        "print(odd_numbers)"
      ],
      "metadata": {
        "colab": {
          "base_uri": "https://localhost:8080/"
        },
        "id": "Ue7mBV8GAmUb",
        "outputId": "87d1a1f1-ea7d-4294-87af-4e4efcdd0838"
      },
      "execution_count": 42,
      "outputs": [
        {
          "output_type": "stream",
          "name": "stdout",
          "text": [
            "{3, 5}\n"
          ]
        }
      ]
    },
    {
      "cell_type": "code",
      "source": [
        "# 27. Multiply all elements in a set by 2:\n",
        "\n",
        "multiplied_set = {num * 2 for num in my_set}\n",
        "print(multiplied_set)"
      ],
      "metadata": {
        "colab": {
          "base_uri": "https://localhost:8080/"
        },
        "id": "jSWJuNQbAomz",
        "outputId": "36d44c80-2f40-425d-f14a-c4a0acccceb6"
      },
      "execution_count": 43,
      "outputs": [
        {
          "output_type": "stream",
          "name": "stdout",
          "text": [
            "{8, 10, 6}\n"
          ]
        }
      ]
    },
    {
      "cell_type": "code",
      "source": [
        "# 28. Create a set of random numbers:\n",
        "\n",
        "import random\n",
        "random_numbers = {random.randint(1, 100) for _ in range(10)}\n",
        "print(random_numbers)"
      ],
      "metadata": {
        "colab": {
          "base_uri": "https://localhost:8080/"
        },
        "id": "uUiqjEqRAsIZ",
        "outputId": "a619aa5a-dac4-4bb5-bb71-df8cf34c4f5c"
      },
      "execution_count": 44,
      "outputs": [
        {
          "output_type": "stream",
          "name": "stdout",
          "text": [
            "{2, 99, 44, 78, 84, 52, 86, 56, 25, 95}\n"
          ]
        }
      ]
    },
    {
      "cell_type": "code",
      "source": [
        "#29. Check if a set is empty:\n",
        "my_set = set()\n",
        "\n",
        "if not my_set:\n",
        "    print(\"Set is empty\")\n",
        "else:\n",
        "    print(\"Set is not empty\")"
      ],
      "metadata": {
        "colab": {
          "base_uri": "https://localhost:8080/"
        },
        "id": "70jVJFYUAueY",
        "outputId": "17654ff4-c426-4058-dc68-9ca78895887f"
      },
      "execution_count": 46,
      "outputs": [
        {
          "output_type": "stream",
          "name": "stdout",
          "text": [
            "Set is empty\n"
          ]
        }
      ]
    },
    {
      "cell_type": "code",
      "source": [
        "# 30. Create a nested set (hint: use frozenset):\n",
        "\n",
        "nested_set = {frozenset([1, 2]), frozenset([3, 4])}\n",
        "print(nested_set)"
      ],
      "metadata": {
        "colab": {
          "base_uri": "https://localhost:8080/"
        },
        "id": "fcOlSu5RA8P4",
        "outputId": "d5486ece-1066-4366-efd0-1e9b4d147724"
      },
      "execution_count": 48,
      "outputs": [
        {
          "output_type": "stream",
          "name": "stdout",
          "text": [
            "{frozenset({3, 4}), frozenset({1, 2})}\n"
          ]
        }
      ]
    },
    {
      "cell_type": "code",
      "source": [
        "#31. Remove an element from a set using the discard method:\n",
        "\n",
        "my_set.discard(3)  # Doesn't raise KeyError if element not found\n",
        "print(my_set)"
      ],
      "metadata": {
        "colab": {
          "base_uri": "https://localhost:8080/"
        },
        "id": "fvjHAIIzA-82",
        "outputId": "9edaa308-0c6c-47fd-bd84-5615846d75f2"
      },
      "execution_count": 49,
      "outputs": [
        {
          "output_type": "stream",
          "name": "stdout",
          "text": [
            "set()\n"
          ]
        }
      ]
    },
    {
      "cell_type": "code",
      "source": [
        "# 32. Compare two sets:\n",
        "\n",
        "# Check for equality:\n",
        "if set1 == set2:\n",
        "    print(\"Sets are equal\")\n",
        "\n",
        "# Check for subset/superset relationships:\n",
        "if set1.issubset(set2):\n",
        "    print(\"set1 is a subset of set2\")\n",
        "if set1.issuperset(set2):\n",
        "    print(\"set1 is a superset of set2\")"
      ],
      "metadata": {
        "colab": {
          "base_uri": "https://localhost:8080/"
        },
        "id": "jNxpyG3nBBLU",
        "outputId": "570aa6ce-b5a6-4578-892e-902772bd88de"
      },
      "execution_count": 50,
      "outputs": [
        {
          "output_type": "stream",
          "name": "stdout",
          "text": [
            "set1 is a superset of set2\n"
          ]
        }
      ]
    },
    {
      "cell_type": "code",
      "source": [
        "#33. Create a set from a string:\n",
        "\n",
        "my_string = \"hello\"\n",
        "my_set = set(my_string)\n",
        "print(my_set)"
      ],
      "metadata": {
        "colab": {
          "base_uri": "https://localhost:8080/"
        },
        "id": "xrHDEzPwBC73",
        "outputId": "4ab9f466-3605-4004-f201-a4387c469135"
      },
      "execution_count": 51,
      "outputs": [
        {
          "output_type": "stream",
          "name": "stdout",
          "text": [
            "{'e', 'o', 'h', 'l'}\n"
          ]
        }
      ]
    },
    {
      "cell_type": "code",
      "source": [
        "#34. Convert a set of strings to a set of integers:\n",
        "\n",
        "string_set = {\"1\", \"2\", \"3\"}\n",
        "integer_set = {int(item) for item in string_set}\n",
        "print(integer_set)"
      ],
      "metadata": {
        "colab": {
          "base_uri": "https://localhost:8080/"
        },
        "id": "YtVQLmEiBIb-",
        "outputId": "453eae08-820e-452c-f47b-f755e360fe49"
      },
      "execution_count": 52,
      "outputs": [
        {
          "output_type": "stream",
          "name": "stdout",
          "text": [
            "{1, 2, 3}\n"
          ]
        }
      ]
    },
    {
      "cell_type": "code",
      "source": [
        "#35. Convert a set of integers to a set of strings:\n",
        "\n",
        "integer_set = {1, 2, 3}\n",
        "string_set = {str(item) for item in integer_set}\n",
        "print(string_set)"
      ],
      "metadata": {
        "colab": {
          "base_uri": "https://localhost:8080/"
        },
        "id": "7u0DqzRFBKAx",
        "outputId": "42a2be55-3dfc-45b2-faca-d09e2d4037d0"
      },
      "execution_count": 53,
      "outputs": [
        {
          "output_type": "stream",
          "name": "stdout",
          "text": [
            "{'2', '1', '3'}\n"
          ]
        }
      ]
    },
    {
      "cell_type": "code",
      "source": [
        "#36. Create a set from a tuple:\n",
        "\n",
        "my_tuple = (1, 2, 3, 3, 4, 5)\n",
        "my_set = set(my_tuple)\n",
        "print(my_set)"
      ],
      "metadata": {
        "colab": {
          "base_uri": "https://localhost:8080/"
        },
        "id": "soDb-iC-BMTV",
        "outputId": "8b893e24-0242-4449-a290-d5f87ced2c5d"
      },
      "execution_count": 54,
      "outputs": [
        {
          "output_type": "stream",
          "name": "stdout",
          "text": [
            "{1, 2, 3, 4, 5}\n"
          ]
        }
      ]
    },
    {
      "cell_type": "code",
      "source": [
        "#37. Convert a set to a tuple:\n",
        "\n",
        "my_tuple = tuple(my_set)\n",
        "print(my_tuple)"
      ],
      "metadata": {
        "colab": {
          "base_uri": "https://localhost:8080/"
        },
        "id": "ft41uJrYBNfb",
        "outputId": "c1e0cb1d-c0c7-418c-f376-8613c3937758"
      },
      "execution_count": 55,
      "outputs": [
        {
          "output_type": "stream",
          "name": "stdout",
          "text": [
            "(1, 2, 3, 4, 5)\n"
          ]
        }
      ]
    },
    {
      "cell_type": "code",
      "source": [
        "#38. Find the maximum value in a set:\n",
        "\n",
        "max_value = max(my_set)\n",
        "print(max_value)"
      ],
      "metadata": {
        "colab": {
          "base_uri": "https://localhost:8080/"
        },
        "id": "fWaSgyu1BOw5",
        "outputId": "d89dacbf-4710-408e-ac9c-2310f8d03e79"
      },
      "execution_count": 56,
      "outputs": [
        {
          "output_type": "stream",
          "name": "stdout",
          "text": [
            "5\n"
          ]
        }
      ]
    },
    {
      "cell_type": "code",
      "source": [
        "#39. Find the minimum value in a set:\n",
        "\n",
        "min_value = min(my_set)\n",
        "print(min_value)"
      ],
      "metadata": {
        "colab": {
          "base_uri": "https://localhost:8080/"
        },
        "id": "4eN1yJx6BP_1",
        "outputId": "1e54a842-3498-49f6-e6b9-c818d004680c"
      },
      "execution_count": 58,
      "outputs": [
        {
          "output_type": "stream",
          "name": "stdout",
          "text": [
            "1\n"
          ]
        }
      ]
    },
    {
      "cell_type": "code",
      "source": [
        "#40. Create a set from user input:\n",
        "\n",
        "elements = input(\"Enter elements separated by spaces: \").split()\n",
        "user_set = set(elements)\n",
        "print(user_set)"
      ],
      "metadata": {
        "colab": {
          "base_uri": "https://localhost:8080/"
        },
        "id": "dGQStOQbBRXS",
        "outputId": "4a157e46-070f-4b4d-ca8e-f9c71530ec30"
      },
      "execution_count": 61,
      "outputs": [
        {
          "output_type": "stream",
          "name": "stdout",
          "text": [
            "Enter elements separated by spaces: \n",
            "set()\n"
          ]
        }
      ]
    },
    {
      "cell_type": "code",
      "source": [
        "#41. Check if the intersection of two sets is empty:\n",
        "\n",
        "if not (set1 & set2):\n",
        "    print(\"Intersection is empty\")"
      ],
      "metadata": {
        "id": "-U9KUZKOBSwM"
      },
      "execution_count": 63,
      "outputs": []
    },
    {
      "cell_type": "code",
      "source": [
        "#42. Create a set of the first 5 Fibonacci numbers:\n",
        "\n",
        "def fibonacci(n):\n",
        "  fib_list = [0, 1]\n",
        "  while len(fib_list) < n:\n",
        "    next_fib = fib_list[-1] + fib_list[-2]\n",
        "    fib_list.append(next_fib)\n",
        "  return fib_list\n",
        "first_5_fib = set(fibonacci(5))\n",
        "print(first_5_fib)"
      ],
      "metadata": {
        "colab": {
          "base_uri": "https://localhost:8080/"
        },
        "id": "zFDNYAByBUvK",
        "outputId": "56a7368d-3d1b-41f3-aec9-d88ca10b9492"
      },
      "execution_count": 65,
      "outputs": [
        {
          "output_type": "stream",
          "name": "stdout",
          "text": [
            "{0, 1, 2, 3}\n"
          ]
        }
      ]
    },
    {
      "cell_type": "code",
      "source": [
        "# 43. Remove duplicates from a list using sets:\n",
        "\n",
        "my_list = [1, 2, 2, 3, 4, 4, 5]\n",
        "unique_list = list(set(my_list))\n",
        "print(unique_list)"
      ],
      "metadata": {
        "colab": {
          "base_uri": "https://localhost:8080/"
        },
        "id": "BI0JPFY_BV_2",
        "outputId": "4ac01913-1ed9-49d9-cf2f-5bdd7d3ae112"
      },
      "execution_count": 67,
      "outputs": [
        {
          "output_type": "stream",
          "name": "stdout",
          "text": [
            "[1, 2, 3, 4, 5]\n"
          ]
        }
      ]
    },
    {
      "cell_type": "code",
      "source": [
        "#44. Check if two sets have the same elements, regardless of their count:\n",
        "set1 = {1, 2, 3, 4}\n",
        "set2 = {3, 1, 2, 4}\n",
        "if set1 == set2:  # Checks for equality (same elements and count)\n",
        "    print(\"Sets have the same elements and counts\")\n",
        "if len(set1 ^ set2) == 0: # Checks for equality of the sets.\n",
        "    print(\"Sets have the same elements (ignoring counts)\")"
      ],
      "metadata": {
        "colab": {
          "base_uri": "https://localhost:8080/"
        },
        "id": "JdrPxiXPBY0a",
        "outputId": "1f513ee7-ad1c-4ae7-9e7c-35db34c9b1da"
      },
      "execution_count": 71,
      "outputs": [
        {
          "output_type": "stream",
          "name": "stdout",
          "text": [
            "Sets have the same elements and counts\n",
            "Sets have the same elements (ignoring counts)\n"
          ]
        }
      ]
    },
    {
      "cell_type": "code",
      "source": [
        "#45. Create a set of the first n powers of 2:\n",
        "\n",
        "def powers_of_2(n):\n",
        "  return {2**i for i in range(n)}\n",
        "\n",
        "powers = powers_of_2(5)  # Creates a set of the first 5 powers of 2\n",
        "print(powers)"
      ],
      "metadata": {
        "colab": {
          "base_uri": "https://localhost:8080/"
        },
        "id": "6kpHxSTjBaJ3",
        "outputId": "503fbb12-731a-427d-aff6-c5b6590a19bd"
      },
      "execution_count": 74,
      "outputs": [
        {
          "output_type": "stream",
          "name": "stdout",
          "text": [
            "{1, 2, 4, 8, 16}\n"
          ]
        }
      ]
    },
    {
      "cell_type": "code",
      "source": [
        "#46. Find the common elements between a set and a list:\n",
        "\n",
        "my_set = {1, 2, 3, 4, 5}\n",
        "my_list = [3, 4, 5, 6, 7]\n",
        "common_elements = my_set.intersection(my_list)\n",
        "print(common_elements)"
      ],
      "metadata": {
        "colab": {
          "base_uri": "https://localhost:8080/"
        },
        "id": "2KZS7Nf-Bb96",
        "outputId": "bfe9be2e-566b-4cb4-8e04-7cc245112190"
      },
      "execution_count": 76,
      "outputs": [
        {
          "output_type": "stream",
          "name": "stdout",
          "text": [
            "{3, 4, 5}\n"
          ]
        }
      ]
    },
    {
      "cell_type": "code",
      "source": [
        "#47. Create a set of the first n triangular numbers:\n",
        "\n",
        "def triangular_numbers(n):\n",
        "  return {i * (i + 1) // 2 for i in range(1, n + 1)}\n",
        "\n",
        "triangulars = triangular_numbers(5)  # Creates a set of the first 5 triangular numbers\n",
        "print(triangulars)"
      ],
      "metadata": {
        "colab": {
          "base_uri": "https://localhost:8080/"
        },
        "id": "4f47MdMCBdfo",
        "outputId": "a8fb1d59-8aaf-4706-d10c-616a60419bb8"
      },
      "execution_count": 77,
      "outputs": [
        {
          "output_type": "stream",
          "name": "stdout",
          "text": [
            "{1, 3, 6, 10, 15}\n"
          ]
        }
      ]
    },
    {
      "cell_type": "code",
      "source": [
        "#48. Check if a set contains another set as a subset:\n",
        "\n",
        "set1 = {1, 2, 3, 4, 5}\n",
        "set2 = {2, 3, 4}\n",
        "\n",
        "if set2.issubset(set1):\n",
        "    print(\"set2 is a subset of set1\")"
      ],
      "metadata": {
        "colab": {
          "base_uri": "https://localhost:8080/"
        },
        "id": "c9nalPo0CNWX",
        "outputId": "31a9146d-4f46-4b95-87e3-7833e03ad25c"
      },
      "execution_count": 78,
      "outputs": [
        {
          "output_type": "stream",
          "name": "stdout",
          "text": [
            "set2 is a subset of set1\n"
          ]
        }
      ]
    },
    {
      "cell_type": "code",
      "source": [
        "#49. Create a set of alternating 1s and 0s of length n:\n",
        "\n",
        "def alternating_set(n):\n",
        "  return {1 if i % 2 == 0 else 0 for i in range(n)}\n",
        "\n",
        "alternating_numbers = alternating_set(5)\n",
        "print(alternating_numbers)"
      ],
      "metadata": {
        "colab": {
          "base_uri": "https://localhost:8080/"
        },
        "id": "yAw6OIYRCQtZ",
        "outputId": "4cf76330-2f21-453d-d8f5-a1f9c6dbf3fa"
      },
      "execution_count": 79,
      "outputs": [
        {
          "output_type": "stream",
          "name": "stdout",
          "text": [
            "{0, 1}\n"
          ]
        }
      ]
    },
    {
      "cell_type": "code",
      "source": [
        "#50. Merge multiple sets into one:\n",
        "\n",
        "set1 = {1, 2, 3}\n",
        "set2 = {3, 4, 5}\n",
        "set3 = {5, 6, 7}\n",
        "\n",
        "merged_set = set1.union(set2, set3)\n",
        "print(merged_set)"
      ],
      "metadata": {
        "colab": {
          "base_uri": "https://localhost:8080/"
        },
        "id": "KZfrFgT3CU3B",
        "outputId": "77a49c5f-be80-4ec3-c3b2-3da96a4b6cb2"
      },
      "execution_count": 80,
      "outputs": [
        {
          "output_type": "stream",
          "name": "stdout",
          "text": [
            "{1, 2, 3, 4, 5, 6, 7}\n"
          ]
        }
      ]
    },
    {
      "cell_type": "markdown",
      "source": [
        "# Tuple :"
      ],
      "metadata": {
        "id": "aRFS91_OCa8K"
      }
    },
    {
      "cell_type": "code",
      "source": [
        "#1. Create a tuple with integers from 1 to 5:\n",
        "\n",
        "my_tuple = tuple(range(1, 6))\n",
        "print(my_tuple)"
      ],
      "metadata": {
        "colab": {
          "base_uri": "https://localhost:8080/"
        },
        "id": "jyL1VRHECeze",
        "outputId": "4cb9c31a-3294-4751-9dcb-a84c9db93079"
      },
      "execution_count": 82,
      "outputs": [
        {
          "output_type": "stream",
          "name": "stdout",
          "text": [
            "(1, 2, 3, 4, 5)\n"
          ]
        }
      ]
    },
    {
      "cell_type": "code",
      "source": [
        "#2. Access the third element of a tuple:\n",
        "\n",
        "third_element = my_tuple[2]  # Indexing starts at 0\n",
        "print(third_element)"
      ],
      "metadata": {
        "colab": {
          "base_uri": "https://localhost:8080/"
        },
        "id": "nfdRGq9rCptR",
        "outputId": "b7277d48-bcd3-47fd-aa06-0c897e2bff51"
      },
      "execution_count": 84,
      "outputs": [
        {
          "output_type": "stream",
          "name": "stdout",
          "text": [
            "3\n"
          ]
        }
      ]
    },
    {
      "cell_type": "code",
      "source": [
        "#3. Find the length of a tuple without using the len() function:\n",
        "\n",
        "count = sum(1 for _ in my_tuple)\n",
        "print(count)"
      ],
      "metadata": {
        "colab": {
          "base_uri": "https://localhost:8080/"
        },
        "id": "53lYRoqWCrkY",
        "outputId": "5549cd2f-16b3-45b9-d163-d60f6732e9d2"
      },
      "execution_count": 86,
      "outputs": [
        {
          "output_type": "stream",
          "name": "stdout",
          "text": [
            "5\n"
          ]
        }
      ]
    },
    {
      "cell_type": "code",
      "source": [
        "#4. Count the occurrences of an element in a tuple:\n",
        "\n",
        "count = my_tuple.count(3)\n",
        "print(count)"
      ],
      "metadata": {
        "colab": {
          "base_uri": "https://localhost:8080/"
        },
        "id": "RhVoc3aRCtMu",
        "outputId": "eb73f7d8-28d4-4551-ad64-b16fdb216067"
      },
      "execution_count": 88,
      "outputs": [
        {
          "output_type": "stream",
          "name": "stdout",
          "text": [
            "1\n"
          ]
        }
      ]
    },
    {
      "cell_type": "code",
      "source": [
        "#5. Find the index of the first occurrence of an element in a tuple:\n",
        "\n",
        "index = my_tuple.index(3)\n",
        "print(index)"
      ],
      "metadata": {
        "colab": {
          "base_uri": "https://localhost:8080/"
        },
        "id": "b4rLAbtRCvl4",
        "outputId": "237b50e5-2225-43fc-ce5c-1a1c51813321"
      },
      "execution_count": 90,
      "outputs": [
        {
          "output_type": "stream",
          "name": "stdout",
          "text": [
            "2\n"
          ]
        }
      ]
    },
    {
      "cell_type": "code",
      "source": [
        "#6. Check if an element exists in a tuple:\n",
        "\n",
        "my_tuple = (1, 2, 3, 4, 5)\n",
        "\n",
        "if 3 in my_tuple:\n",
        "    print(\"Element exists in the tuple\")\n",
        "else:\n",
        "    print(\"Element does not exist in the tuple\")"
      ],
      "metadata": {
        "colab": {
          "base_uri": "https://localhost:8080/"
        },
        "id": "j__suUZ2CxIv",
        "outputId": "2dd06e83-5716-4531-f280-ad9b3d90e2af"
      },
      "execution_count": 92,
      "outputs": [
        {
          "output_type": "stream",
          "name": "stdout",
          "text": [
            "Element exists in the tuple\n"
          ]
        }
      ]
    },
    {
      "cell_type": "code",
      "source": [
        "#7. Convert a tuple to a list:\n",
        "\n",
        "my_list = list(my_tuple)\n",
        "print(my_list)\n"
      ],
      "metadata": {
        "colab": {
          "base_uri": "https://localhost:8080/"
        },
        "id": "U9n3e8GADEPX",
        "outputId": "ad58bab4-10d3-4a2c-ce11-d8e1a2297567"
      },
      "execution_count": 94,
      "outputs": [
        {
          "output_type": "stream",
          "name": "stdout",
          "text": [
            "[1, 2, 3, 4, 5]\n"
          ]
        }
      ]
    },
    {
      "cell_type": "code",
      "source": [
        "#8. Convert a list to a tuple:\n",
        "\n",
        "my_tuple = tuple(my_list)\n",
        "print(my_tuple)"
      ],
      "metadata": {
        "colab": {
          "base_uri": "https://localhost:8080/"
        },
        "id": "T1NhU6j4DJMZ",
        "outputId": "b9eafd52-3d73-46ee-9cd5-e731d761a2d0"
      },
      "execution_count": 96,
      "outputs": [
        {
          "output_type": "stream",
          "name": "stdout",
          "text": [
            "(1, 2, 3, 4, 5)\n"
          ]
        }
      ]
    },
    {
      "cell_type": "code",
      "source": [
        "#9. Unpack the elements of a tuple into variables:\n",
        "\n",
        "a, b, c, d, e = my_tuple\n",
        "print(a, b, c, d, e)"
      ],
      "metadata": {
        "colab": {
          "base_uri": "https://localhost:8080/"
        },
        "id": "MMQyTl1mDKjy",
        "outputId": "9b5b2977-8d61-4492-de6d-e73cb0ee362e"
      },
      "execution_count": 98,
      "outputs": [
        {
          "output_type": "stream",
          "name": "stdout",
          "text": [
            "1 2 3 4 5\n"
          ]
        }
      ]
    },
    {
      "cell_type": "code",
      "source": [
        "#10. Create a tuple of even numbers from 1 to 10:\n",
        "\n",
        "even_numbers = tuple(num for num in range(2, 11, 2))\n",
        "print(even_numbers)"
      ],
      "metadata": {
        "colab": {
          "base_uri": "https://localhost:8080/"
        },
        "id": "9dM2IPg1DLNu",
        "outputId": "bfb17490-792c-466a-d426-55424cab623b"
      },
      "execution_count": 100,
      "outputs": [
        {
          "output_type": "stream",
          "name": "stdout",
          "text": [
            "(2, 4, 6, 8, 10)\n"
          ]
        }
      ]
    },
    {
      "cell_type": "code",
      "source": [
        "#11. Create a tuple of odd numbers from 1 to 10:\n",
        "\n",
        "odd_numbers = tuple(num for num in range(1, 11, 2))\n",
        "print(odd_numbers)"
      ],
      "metadata": {
        "colab": {
          "base_uri": "https://localhost:8080/"
        },
        "id": "suMs6dUCDOIv",
        "outputId": "2f83061d-319d-4f9c-eac5-6fd6e8aad6e4"
      },
      "execution_count": 102,
      "outputs": [
        {
          "output_type": "stream",
          "name": "stdout",
          "text": [
            "(1, 3, 5, 7, 9)\n"
          ]
        }
      ]
    },
    {
      "cell_type": "code",
      "source": [
        "#12. Concatenate two tuples:\n",
        "\n",
        "tuple1 = (1, 2, 3)\n",
        "tuple2 = (4, 5, 6)\n",
        "concatenated_tuple = tuple1 + tuple2\n",
        "print(concatenated_tuple)"
      ],
      "metadata": {
        "colab": {
          "base_uri": "https://localhost:8080/"
        },
        "id": "8QYKF4XCDSN2",
        "outputId": "641cfd1f-27e5-41b5-8473-2632819a18e3"
      },
      "execution_count": 104,
      "outputs": [
        {
          "output_type": "stream",
          "name": "stdout",
          "text": [
            "(1, 2, 3, 4, 5, 6)\n"
          ]
        }
      ]
    },
    {
      "cell_type": "code",
      "source": [
        "#13. Repeat a tuple three times:\n",
        "\n",
        "repeated_tuple = tuple1 * 3\n",
        "print(repeated_tuple)"
      ],
      "metadata": {
        "colab": {
          "base_uri": "https://localhost:8080/"
        },
        "id": "YMoKkEzbDUPj",
        "outputId": "547028a0-592c-4712-d75b-39794f805c9f"
      },
      "execution_count": 106,
      "outputs": [
        {
          "output_type": "stream",
          "name": "stdout",
          "text": [
            "(1, 2, 3, 1, 2, 3, 1, 2, 3)\n"
          ]
        }
      ]
    },
    {
      "cell_type": "code",
      "source": [
        "#14. Check if a tuple is empty:\n",
        "\n",
        "empty_tuple = ()\n",
        "if not empty_tuple:\n",
        "    print(\"Tuple is empty\")"
      ],
      "metadata": {
        "colab": {
          "base_uri": "https://localhost:8080/"
        },
        "id": "FHipxFuBDVzk",
        "outputId": "fc647a05-d401-47ab-c1aa-7f363065feb3"
      },
      "execution_count": 108,
      "outputs": [
        {
          "output_type": "stream",
          "name": "stdout",
          "text": [
            "Tuple is empty\n"
          ]
        }
      ]
    },
    {
      "cell_type": "code",
      "source": [
        "#15. Create a nested tuple:\n",
        "nested_tuple = ((1, 2), (3, 4), (5, 6))\n",
        "\n",
        "print(nested_tuple[0])     # (1, 2)\n",
        "print(nested_tuple[1][1])"
      ],
      "metadata": {
        "colab": {
          "base_uri": "https://localhost:8080/"
        },
        "id": "21Vuk0CDDXFQ",
        "outputId": "9ab21064-44fc-4bf3-c290-b1a701f64f72"
      },
      "execution_count": 118,
      "outputs": [
        {
          "output_type": "stream",
          "name": "stdout",
          "text": [
            "(1, 2)\n",
            "4\n"
          ]
        }
      ]
    },
    {
      "cell_type": "code",
      "source": [
        "#16. Access the first element of a nested tuple:\n",
        "\n",
        "first_element = nested_tuple[0][0]\n",
        "print(first_element)"
      ],
      "metadata": {
        "colab": {
          "base_uri": "https://localhost:8080/"
        },
        "id": "N-iLtm5jDYnv",
        "outputId": "b0983daa-f608-442c-a32d-a83244ae6828"
      },
      "execution_count": 120,
      "outputs": [
        {
          "output_type": "stream",
          "name": "stdout",
          "text": [
            "1\n"
          ]
        }
      ]
    },
    {
      "cell_type": "code",
      "source": [
        "# 18. Compare two tuples:\n",
        "tuple1 = (1, 2, 3)\n",
        "tuple2 = (1, 2, 3)\n",
        "\n",
        "if tuple1 == tuple2:\n",
        "    print(\"Tuples are equal\")\n",
        "else:\n",
        "    print(\"Tuples are not equal\")"
      ],
      "metadata": {
        "colab": {
          "base_uri": "https://localhost:8080/"
        },
        "id": "4JOyYxwZEUgh",
        "outputId": "2c2613da-5216-486e-9d9a-f506fa9523fe"
      },
      "execution_count": 125,
      "outputs": [
        {
          "output_type": "stream",
          "name": "stdout",
          "text": [
            "Tuples are equal\n"
          ]
        }
      ]
    },
    {
      "cell_type": "code",
      "source": [
        "#19. Delete a tuple:\n",
        "\n",
        "my_tuple = (1, 2, 3)\n",
        "print(my_tuple)\n",
        "\n",
        "del my_tuple"
      ],
      "metadata": {
        "colab": {
          "base_uri": "https://localhost:8080/"
        },
        "id": "GTvjmmBLEWZp",
        "outputId": "adbca060-8f4e-48c8-ec03-1bd5ec1d1029"
      },
      "execution_count": 127,
      "outputs": [
        {
          "output_type": "stream",
          "name": "stdout",
          "text": [
            "(1, 2, 3)\n"
          ]
        }
      ]
    },
    {
      "cell_type": "code",
      "source": [
        "#20. Slice a tuple:\n",
        "\n",
        "my_tuple = (10, 20, 30, 40, 50)\n",
        "\n",
        "\n",
        "sliced_tuple = my_tuple[1:4]\n",
        "print(sliced_tuple)"
      ],
      "metadata": {
        "colab": {
          "base_uri": "https://localhost:8080/"
        },
        "id": "oTWGxTtYEYDu",
        "outputId": "103c5e84-c0c6-4795-ef2e-69c4dc8d8acf"
      },
      "execution_count": 128,
      "outputs": [
        {
          "output_type": "stream",
          "name": "stdout",
          "text": [
            "(20, 30, 40)\n"
          ]
        }
      ]
    },
    {
      "cell_type": "code",
      "source": [
        "#21. Find the maximum value in a tuple:\n",
        "\n",
        "max_value = max(my_tuple)\n",
        "print(max_value)"
      ],
      "metadata": {
        "colab": {
          "base_uri": "https://localhost:8080/"
        },
        "id": "PdVbOICBEZyR",
        "outputId": "66e4d35c-bb39-44cb-fee3-4b7191ded487"
      },
      "execution_count": 130,
      "outputs": [
        {
          "output_type": "stream",
          "name": "stdout",
          "text": [
            "50\n"
          ]
        }
      ]
    },
    {
      "cell_type": "code",
      "source": [
        "#22. Find the minimum value in a tuple:\n",
        "\n",
        "min_value = min(my_tuple)\n",
        "print(min_value)"
      ],
      "metadata": {
        "colab": {
          "base_uri": "https://localhost:8080/"
        },
        "id": "3w81Eco6EcbJ",
        "outputId": "17544abd-f727-40f0-f021-d01ee746a961"
      },
      "execution_count": 132,
      "outputs": [
        {
          "output_type": "stream",
          "name": "stdout",
          "text": [
            "10\n"
          ]
        }
      ]
    },
    {
      "cell_type": "code",
      "source": [
        "#23. Convert a string to a tuple of characters:\n",
        "\n",
        "my_string = \"hello\"\n",
        "char_tuple = tuple(my_string)\n",
        "print(char_tuple)"
      ],
      "metadata": {
        "colab": {
          "base_uri": "https://localhost:8080/"
        },
        "id": "LNzuYDlkEbZL",
        "outputId": "33b837cc-1d2b-41b3-eb0e-7d1eee67a53d"
      },
      "execution_count": 134,
      "outputs": [
        {
          "output_type": "stream",
          "name": "stdout",
          "text": [
            "('h', 'e', 'l', 'l', 'o')\n"
          ]
        }
      ]
    },
    {
      "cell_type": "code",
      "source": [
        "#24. Convert a tuple of characters to a string:\n",
        "\n",
        "string_from_tuple = \"\".join(char_tuple)\n",
        "print(string_from_tuple)"
      ],
      "metadata": {
        "colab": {
          "base_uri": "https://localhost:8080/"
        },
        "id": "YgZYmZ7aEkv2",
        "outputId": "b5e1835e-c304-463f-a840-cc0a62304809"
      },
      "execution_count": 136,
      "outputs": [
        {
          "output_type": "stream",
          "name": "stdout",
          "text": [
            "hello\n"
          ]
        }
      ]
    },
    {
      "cell_type": "code",
      "source": [
        "#25. Create a tuple from multiple data types:\n",
        "\n",
        "mixed_tuple = (1, \"hello\", 3.14, True)\n",
        "print(mixed_tuple)"
      ],
      "metadata": {
        "colab": {
          "base_uri": "https://localhost:8080/"
        },
        "id": "g5F3TawIEeyZ",
        "outputId": "3dbe9ce9-feec-472f-e6d8-2d7290c76009"
      },
      "execution_count": 137,
      "outputs": [
        {
          "output_type": "stream",
          "name": "stdout",
          "text": [
            "(1, 'hello', 3.14, True)\n"
          ]
        }
      ]
    },
    {
      "cell_type": "code",
      "source": [
        "#26. Check if two tuples are identical.\n",
        "\n",
        "def are_identical(tuple1, tuple2):\n",
        "  return tuple1 == tuple2\n",
        "\n",
        "tuple1 = (1, 2, 3)\n",
        "tuple2 = (1, 2, 3)\n",
        "result = are_identical(tuple1, tuple2)\n",
        "print(result)\n"
      ],
      "metadata": {
        "colab": {
          "base_uri": "https://localhost:8080/"
        },
        "id": "QBcJ11gXFWgi",
        "outputId": "22dccaab-7df3-40c8-e436-e37305d9f139"
      },
      "execution_count": 138,
      "outputs": [
        {
          "output_type": "stream",
          "name": "stdout",
          "text": [
            "True\n"
          ]
        }
      ]
    },
    {
      "cell_type": "code",
      "source": [
        "#27. Sort the elements of a tuple.\n",
        "\n",
        "def sort_tuple(my_tuple):\n",
        "  return tuple(sorted(my_tuple))  # sorted() returns a list, so convert it back to a tuple\n",
        "\n",
        "my_tuple = (3, 1, 4, 1, 5, 9, 2, 6)\n",
        "sorted_tuple = sort_tuple(my_tuple)\n",
        "print(sorted_tuple)"
      ],
      "metadata": {
        "colab": {
          "base_uri": "https://localhost:8080/"
        },
        "id": "MKqcZAioFbwl",
        "outputId": "f8dd82a2-ddc4-4ed6-c2cd-d353625d7334"
      },
      "execution_count": 140,
      "outputs": [
        {
          "output_type": "stream",
          "name": "stdout",
          "text": [
            "(1, 1, 2, 3, 4, 5, 6, 9)\n"
          ]
        }
      ]
    },
    {
      "cell_type": "code",
      "source": [
        "#28. Convert a tuple of integers to a tuple of strings.\n",
        "\n",
        "def int_tuple_to_str_tuple(int_tuple):\n",
        "  return tuple(str(item) for item in int_tuple)\n",
        "\n",
        "int_tuple = (1, 2, 3)\n",
        "str_tuple = int_tuple_to_str_tuple(int_tuple)\n",
        "print(str_tuple)"
      ],
      "metadata": {
        "colab": {
          "base_uri": "https://localhost:8080/"
        },
        "id": "WV1hZT12FiQa",
        "outputId": "d65c2a2f-e2d9-4ac3-cbf7-2bf3568d71f1"
      },
      "execution_count": 141,
      "outputs": [
        {
          "output_type": "stream",
          "name": "stdout",
          "text": [
            "('1', '2', '3')\n"
          ]
        }
      ]
    },
    {
      "cell_type": "code",
      "source": [
        "#29. Convert a tuple of strings to a tuple of integers.\n",
        "\n",
        "def str_tuple_to_int_tuple(str_tuple):\n",
        "  return tuple(int(item) for item in str_tuple)\n",
        "\n",
        "str_tuple = ('1', '2', '3')\n",
        "int_tuple = str_tuple_to_int_tuple(str_tuple)\n",
        "print(int_tuple)"
      ],
      "metadata": {
        "colab": {
          "base_uri": "https://localhost:8080/"
        },
        "id": "iiD1wqXGFl2P",
        "outputId": "c4210e42-ee11-4e7e-92a0-3349521fbc69"
      },
      "execution_count": 142,
      "outputs": [
        {
          "output_type": "stream",
          "name": "stdout",
          "text": [
            "(1, 2, 3)\n"
          ]
        }
      ]
    },
    {
      "cell_type": "code",
      "source": [
        "#30. Merge two tuples.\n",
        "\n",
        "def merge_tuples(tuple1, tuple2):\n",
        "  return tuple1 + tuple2\n",
        "\n",
        "tuple1 = (1, 2, 3)\n",
        "tuple2 = (4, 5, 6)\n",
        "merged_tuple = merge_tuples(tuple1, tuple2)\n",
        "print(merged_tuple)"
      ],
      "metadata": {
        "colab": {
          "base_uri": "https://localhost:8080/"
        },
        "id": "cFzV6shWFl_J",
        "outputId": "36fff600-a813-4e6b-d811-70f3dfc2ae82"
      },
      "execution_count": 143,
      "outputs": [
        {
          "output_type": "stream",
          "name": "stdout",
          "text": [
            "(1, 2, 3, 4, 5, 6)\n"
          ]
        }
      ]
    },
    {
      "cell_type": "code",
      "source": [
        "#31. Flatten a nested tuple.\n",
        "\n",
        "def flatten_tuple(nested_tuple):\n",
        "  flat_list = []\n",
        "  for item in nested_tuple:\n",
        "    if isinstance(item, tuple):\n",
        "      flat_list.extend(flatten_tuple(item))\n",
        "    else:\n",
        "      flat_list.append(item)\n",
        "  return tuple(flat_list)\n",
        "\n",
        "nested_tuple = ((1, 2), (3, 4), (5, 6))\n",
        "flat_tuple = flatten_tuple(nested_tuple)\n",
        "print(flat_tuple)"
      ],
      "metadata": {
        "colab": {
          "base_uri": "https://localhost:8080/"
        },
        "id": "8tyc2Ga8FmFZ",
        "outputId": "645ba61a-a815-4862-cf4a-a43e37db0e90"
      },
      "execution_count": 144,
      "outputs": [
        {
          "output_type": "stream",
          "name": "stdout",
          "text": [
            "(1, 2, 3, 4, 5, 6)\n"
          ]
        }
      ]
    },
    {
      "cell_type": "code",
      "source": [
        "#32. Create a tuple of the first 5 prime numbers:\n",
        "\n",
        "def is_prime(n):\n",
        "  if n < 2:\n",
        "    return False\n",
        "  for i in range(2, int(n**0.5) + 1):\n",
        "    if n % i == 0:\n",
        "      return False\n",
        "  return True\n",
        "\n",
        "prime_numbers = tuple(num for num in range(2, 100) if is_prime(num) and num <=11)\n",
        "print(prime_numbers)"
      ],
      "metadata": {
        "colab": {
          "base_uri": "https://localhost:8080/"
        },
        "id": "CNv9R6_gFmTU",
        "outputId": "d7a43baa-f3c3-4b90-9210-777783f653f9"
      },
      "execution_count": 146,
      "outputs": [
        {
          "output_type": "stream",
          "name": "stdout",
          "text": [
            "(2, 3, 5, 7, 11)\n"
          ]
        }
      ]
    },
    {
      "cell_type": "code",
      "source": [
        "#33. Check if a tuple is a palindrome:\n",
        "\n",
        "def is_palindrome_tuple(my_tuple):\n",
        "  return my_tuple == my_tuple[::-1]\n",
        "\n",
        "my_tuple = (1, 2, 3, 2, 1)\n",
        "if is_palindrome_tuple(my_tuple):\n",
        "  print(\"The tuple is a palindrome.\")\n",
        "else:\n",
        "  print(\"The tuple is not a palindrome.\")"
      ],
      "metadata": {
        "colab": {
          "base_uri": "https://localhost:8080/"
        },
        "id": "phz2sG1OGE7a",
        "outputId": "2e65457d-3b54-4c33-e451-99fe3649af58"
      },
      "execution_count": 148,
      "outputs": [
        {
          "output_type": "stream",
          "name": "stdout",
          "text": [
            "The tuple is a palindrome.\n"
          ]
        }
      ]
    },
    {
      "cell_type": "code",
      "source": [
        "#34. Create a tuple of squares of numbers from 1 to 5:\n",
        "\n",
        "squares_tuple = tuple(num**2 for num in range(1, 6))\n",
        "print(squares_tuple)"
      ],
      "metadata": {
        "colab": {
          "base_uri": "https://localhost:8080/"
        },
        "id": "WZkz3I0XGFBj",
        "outputId": "47f0bba3-ac33-4f41-f29e-6bf2b357ef6d"
      },
      "execution_count": 149,
      "outputs": [
        {
          "output_type": "stream",
          "name": "stdout",
          "text": [
            "(1, 4, 9, 16, 25)\n"
          ]
        }
      ]
    },
    {
      "cell_type": "code",
      "source": [
        "#35. Filter out all even numbers from a tuple:\n",
        "\n",
        "my_tuple = (1, 2, 3, 4, 5, 6)\n",
        "odd_numbers_tuple = tuple(num for num in my_tuple if num % 2 != 0)\n",
        "print(odd_numbers_tuple)"
      ],
      "metadata": {
        "colab": {
          "base_uri": "https://localhost:8080/"
        },
        "id": "OgygWLkcGFHM",
        "outputId": "3306df46-774b-4612-86cb-98f0feaeabdf"
      },
      "execution_count": 151,
      "outputs": [
        {
          "output_type": "stream",
          "name": "stdout",
          "text": [
            "(1, 3, 5)\n"
          ]
        }
      ]
    },
    {
      "cell_type": "code",
      "source": [
        "#36. Multiply all elements in a tuple by 2:\n",
        "\n",
        "my_tuple = (1, 2, 3, 4, 5)\n",
        "multiplied_tuple = tuple(num * 2 for num in my_tuple)\n",
        "print(multiplied_tuple)"
      ],
      "metadata": {
        "colab": {
          "base_uri": "https://localhost:8080/"
        },
        "id": "SEsCmWc1GFMA",
        "outputId": "b36f09fd-4282-4398-cd7a-ab211a77cf72"
      },
      "execution_count": 153,
      "outputs": [
        {
          "output_type": "stream",
          "name": "stdout",
          "text": [
            "(2, 4, 6, 8, 10)\n"
          ]
        }
      ]
    },
    {
      "cell_type": "code",
      "source": [
        "#37. Create a tuple of random numbers:\n",
        "\n",
        "import random\n",
        "\n",
        "random_tuple = tuple(random.randint(1, 100) for _ in range(10))\n",
        "print(random_tuple)"
      ],
      "metadata": {
        "colab": {
          "base_uri": "https://localhost:8080/"
        },
        "id": "cplsqQK7GFRB",
        "outputId": "1a8b717d-4c4b-4e35-d05c-dffcc22025ac"
      },
      "execution_count": 155,
      "outputs": [
        {
          "output_type": "stream",
          "name": "stdout",
          "text": [
            "(19, 31, 49, 21, 48, 2, 23, 62, 74, 27)\n"
          ]
        }
      ]
    },
    {
      "cell_type": "code",
      "source": [
        "#38. Check if a tuple is sorted:\n",
        "\n",
        "def is_sorted_tuple(my_tuple):\n",
        "  return all(my_tuple[i] <= my_tuple[i + 1] for i in range(len(my_tuple) - 1))\n",
        "\n",
        "my_tuple = (1, 2, 3, 4, 5)\n",
        "if is_sorted_tuple(my_tuple):\n",
        "  print(\"The tuple is sorted.\")\n",
        "else:\n",
        "  print(\"The tuple is not sorted.\")"
      ],
      "metadata": {
        "colab": {
          "base_uri": "https://localhost:8080/"
        },
        "id": "9HbNIQQ8GF1v",
        "outputId": "0ab908b5-0e12-4184-8931-c6212dc26cfd"
      },
      "execution_count": 157,
      "outputs": [
        {
          "output_type": "stream",
          "name": "stdout",
          "text": [
            "The tuple is sorted.\n"
          ]
        }
      ]
    },
    {
      "cell_type": "code",
      "source": [
        "#39. Rotate a tuple to the left by n positions:\n",
        "\n",
        "def rotate_left_tuple(my_tuple, n):\n",
        "  n = n % len(my_tuple)\n",
        "  return my_tuple[n:] + my_tuple[:n]\n",
        "\n",
        "my_tuple = (1, 2, 3, 4, 5)\n",
        "rotated_tuple = rotate_left_tuple(my_tuple, 2)\n",
        "print(rotated_tuple)"
      ],
      "metadata": {
        "colab": {
          "base_uri": "https://localhost:8080/"
        },
        "id": "h3CzNXgdGgLV",
        "outputId": "f196fb11-ce8a-42e0-daaf-3fcf8835bb64"
      },
      "execution_count": 159,
      "outputs": [
        {
          "output_type": "stream",
          "name": "stdout",
          "text": [
            "(3, 4, 5, 1, 2)\n"
          ]
        }
      ]
    },
    {
      "cell_type": "code",
      "source": [
        "#40. Rotate a tuple to the right by n positions:\n",
        "\n",
        "def rotate_right_tuple(my_tuple, n):\n",
        "  n = n % len(my_tuple)\n",
        "  return my_tuple[-n:] + my_tuple[:-n]\n",
        "\n",
        "my_tuple = (1, 2, 3, 4, 5)\n",
        "rotated_tuple = rotate_right_tuple(my_tuple, 2)\n",
        "print(rotated_tuple)"
      ],
      "metadata": {
        "colab": {
          "base_uri": "https://localhost:8080/"
        },
        "id": "rdlc6KeKGgQA",
        "outputId": "51b75f52-8538-4aef-b913-04be97d7da2f"
      },
      "execution_count": 161,
      "outputs": [
        {
          "output_type": "stream",
          "name": "stdout",
          "text": [
            "(4, 5, 1, 2, 3)\n"
          ]
        }
      ]
    },
    {
      "cell_type": "code",
      "source": [
        "#41. Create a tuple of the first 5 Fibonacci numbers:\n",
        "\n",
        "def fibonacci(n):\n",
        "  fib_list = [0, 1]\n",
        "  while len(fib_list) < n:\n",
        "    next_fib = fib_list[-1] + fib_list[-2]\n",
        "    fib_list.append(next_fib)\n",
        "  return fib_list\n",
        "\n",
        "fibonacci_tuple = tuple(fibonacci(5))\n",
        "print(fibonacci_tuple)"
      ],
      "metadata": {
        "colab": {
          "base_uri": "https://localhost:8080/"
        },
        "id": "1Bm2jeJDGgVi",
        "outputId": "3cac7bba-bd1c-4f1b-ee61-c5f0c275b0fa"
      },
      "execution_count": 163,
      "outputs": [
        {
          "output_type": "stream",
          "name": "stdout",
          "text": [
            "(0, 1, 1, 2, 3)\n"
          ]
        }
      ]
    },
    {
      "cell_type": "code",
      "source": [
        "#42. Create a tuple from user input:\n",
        "\n",
        "elements = input(\"Enter elements separated by spaces: \").split()\n",
        "user_tuple = tuple(elements)\n",
        "print(user_tuple)"
      ],
      "metadata": {
        "colab": {
          "base_uri": "https://localhost:8080/"
        },
        "id": "_xbR934YGgar",
        "outputId": "f1f16ae5-fe79-41e0-fb83-dd95d4f3d558"
      },
      "execution_count": 165,
      "outputs": [
        {
          "output_type": "stream",
          "name": "stdout",
          "text": [
            "Enter elements separated by spaces: 32 3r t3\n",
            "('32', '3r', 't3')\n"
          ]
        }
      ]
    },
    {
      "cell_type": "code",
      "source": [
        "#43. Swap two elements in a tuple:\n",
        "\n",
        "# Tuples are immutable, so you would need to create a new tuple with the swapped elements.\n",
        "def swap_elements_tuple(my_tuple, index1, index2):\n",
        "  temp = list(my_tuple)  # Convert to a list to make it mutable\n",
        "  temp[index1], temp[index2] = temp[index2], temp[index1]\n",
        "  return tuple(temp)\n",
        "\n",
        "my_tuple = (1, 2, 3, 4, 5)\n",
        "swapped_tuple = swap_elements_tuple(my_tuple, 1, 3)\n",
        "print(swapped_tuple)"
      ],
      "metadata": {
        "colab": {
          "base_uri": "https://localhost:8080/"
        },
        "id": "56XE8kSlGnLr",
        "outputId": "9f8e7c82-bb39-4d4a-81c2-09ee7e74e5ec"
      },
      "execution_count": 167,
      "outputs": [
        {
          "output_type": "stream",
          "name": "stdout",
          "text": [
            "(1, 4, 3, 2, 5)\n"
          ]
        }
      ]
    },
    {
      "cell_type": "code",
      "source": [
        "#44. Reverse the elements of a tuple:\n",
        "\n",
        "my_tuple = (1, 2, 3, 4, 5)\n",
        "reversed_tuple = my_tuple[::-1]\n",
        "print(reversed_tuple)"
      ],
      "metadata": {
        "colab": {
          "base_uri": "https://localhost:8080/"
        },
        "id": "qDmm8PCIGnRA",
        "outputId": "efdceffa-ced0-4364-b4dc-07e865072616"
      },
      "execution_count": 169,
      "outputs": [
        {
          "output_type": "stream",
          "name": "stdout",
          "text": [
            "(5, 4, 3, 2, 1)\n"
          ]
        }
      ]
    },
    {
      "cell_type": "code",
      "source": [
        "#45. Create a tuple of the first n powers of 2:\n",
        "\n",
        "def powers_of_2_tuple(n):\n",
        "  return tuple(2**i for i in range(n))\n",
        "\n",
        "powers_tuple = powers_of_2_tuple(5)\n",
        "print(powers_tuple)"
      ],
      "metadata": {
        "colab": {
          "base_uri": "https://localhost:8080/"
        },
        "id": "_EAEe1mRGnWl",
        "outputId": "31ad8b6e-14db-487a-9edd-55500176a552"
      },
      "execution_count": 170,
      "outputs": [
        {
          "output_type": "stream",
          "name": "stdout",
          "text": [
            "(1, 2, 4, 8, 16)\n"
          ]
        }
      ]
    },
    {
      "cell_type": "code",
      "source": [
        "#46. Find the longest string in a tuple of strings:\n",
        "\n",
        "def longest_string_tuple(strings_tuple):\n",
        "  return max(strings_tuple, key=len)\n",
        "\n",
        "strings_tuple = (\"apple\", \"banana\", \"orange\", \"grapefruit\")\n",
        "longest_string = longest_string_tuple(strings_tuple)\n",
        "print(longest_string)"
      ],
      "metadata": {
        "colab": {
          "base_uri": "https://localhost:8080/"
        },
        "id": "vbdyzm2rGnbx",
        "outputId": "6c273fd8-1430-4fb3-a8ec-8328029db6ae"
      },
      "execution_count": 171,
      "outputs": [
        {
          "output_type": "stream",
          "name": "stdout",
          "text": [
            "grapefruit\n"
          ]
        }
      ]
    },
    {
      "cell_type": "code",
      "source": [
        "#47. Find the shortest string in a tuple of strings:\n",
        "\n",
        "def shortest_string_tuple(strings_tuple):\n",
        "  return min(strings_tuple, key=len)\n",
        "\n",
        "strings_tuple = (\"apple\", \"banana\", \"orange\", \"grapefruit\")\n",
        "shortest_string = shortest_string_tuple(strings_tuple)\n",
        "print(shortest_string)"
      ],
      "metadata": {
        "colab": {
          "base_uri": "https://localhost:8080/"
        },
        "id": "quG6ZeReHCZL",
        "outputId": "cfeb8d80-aa23-430c-aace-c7390b18d009"
      },
      "execution_count": 173,
      "outputs": [
        {
          "output_type": "stream",
          "name": "stdout",
          "text": [
            "apple\n"
          ]
        }
      ]
    },
    {
      "cell_type": "code",
      "source": [
        "#48. Create a tuple of the first n triangular numbers:\n",
        "\n",
        "def triangular_numbers_tuple(n):\n",
        "  return tuple(i * (i + 1) // 2 for i in range(1, n + 1))\n",
        "\n",
        "triangulars_tuple = triangular_numbers_tuple(5)\n",
        "print(triangulars_tuple)"
      ],
      "metadata": {
        "colab": {
          "base_uri": "https://localhost:8080/"
        },
        "id": "FnRsg79uHEkt",
        "outputId": "68255af0-7bd3-4b81-9d80-f8ba5e9c873b"
      },
      "execution_count": 175,
      "outputs": [
        {
          "output_type": "stream",
          "name": "stdout",
          "text": [
            "(1, 3, 6, 10, 15)\n"
          ]
        }
      ]
    },
    {
      "cell_type": "code",
      "source": [
        "#49. Check if a tuple contains another tuple as a subsequence:\n",
        "\n",
        "def is_subsequence_tuple(main_tuple, sub_tuple):\n",
        "  sub_len = len(sub_tuple)\n",
        "  for i in range(len(main_tuple) - sub_len + 1):\n",
        "    if main_tuple[i : i + sub_len] == sub_tuple:\n",
        "      return True\n",
        "  return False\n",
        "\n",
        "main_tuple = (1, 2, 3, 4, 5)\n",
        "sub_tuple = (2, 3, 4)\n",
        "result = is_subsequence_tuple(main_tuple, sub_tuple)\n",
        "print(result)"
      ],
      "metadata": {
        "colab": {
          "base_uri": "https://localhost:8080/"
        },
        "id": "esMv5bkMHGuk",
        "outputId": "c87c7b59-fa9b-468b-b3d3-0df64fc638d6"
      },
      "execution_count": 177,
      "outputs": [
        {
          "output_type": "stream",
          "name": "stdout",
          "text": [
            "True\n"
          ]
        }
      ]
    },
    {
      "cell_type": "code",
      "source": [
        "#50. Create a tuple of alternating 1s and 0s of length n:\n",
        "\n",
        "def alternating_tuple(n):\n",
        "  return tuple(1 if i % 2 == 0 else 0 for i in range(n))\n",
        "\n",
        "alternating_numbers_tuple = alternating_tuple(5)\n",
        "print(alternating_numbers_tuple)"
      ],
      "metadata": {
        "colab": {
          "base_uri": "https://localhost:8080/"
        },
        "id": "0mBlZLBxHIIJ",
        "outputId": "8e75156c-5845-4136-bb48-4db07a505220"
      },
      "execution_count": 178,
      "outputs": [
        {
          "output_type": "stream",
          "name": "stdout",
          "text": [
            "(1, 0, 1, 0, 1)\n"
          ]
        }
      ]
    }
  ]
}