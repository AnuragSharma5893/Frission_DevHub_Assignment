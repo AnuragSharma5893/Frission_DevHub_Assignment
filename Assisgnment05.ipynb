{
  "nbformat": 4,
  "nbformat_minor": 0,
  "metadata": {
    "colab": {
      "provenance": [],
      "authorship_tag": "ABX9TyNKPW4ZC1V6yoIM4Lqs5MuI",
      "include_colab_link": true
    },
    "kernelspec": {
      "name": "python3",
      "display_name": "Python 3"
    },
    "language_info": {
      "name": "python"
    }
  },
  "cells": [
    {
      "cell_type": "markdown",
      "metadata": {
        "id": "view-in-github",
        "colab_type": "text"
      },
      "source": [
        "<a href=\"https://colab.research.google.com/github/AnuragSharma5893/Frission_DevHub_Assignment/blob/main/Assisgnment05.ipynb\" target=\"_parent\"><img src=\"https://colab.research.google.com/assets/colab-badge.svg\" alt=\"Open In Colab\"/></a>"
      ]
    },
    {
      "cell_type": "markdown",
      "source": [
        "## Map"
      ],
      "metadata": {
        "id": "BTogo3gzgtmn"
      }
    },
    {
      "cell_type": "code",
      "execution_count": 1,
      "metadata": {
        "colab": {
          "base_uri": "https://localhost:8080/"
        },
        "id": "jKGQ3BzmgWGc",
        "outputId": "85459748-ffce-4c3a-8173-c64466017e9f"
      },
      "outputs": [
        {
          "output_type": "stream",
          "name": "stdout",
          "text": [
            "[1, 4, 9, 16, 25]\n"
          ]
        }
      ],
      "source": [
        "\n",
        "# 1. Explain the purpose of the `map()` function in Python and provide an example of how it can be used to apply a function to each element of an iterable.\n",
        "\"\"\"The map() function in Python applies a given\n",
        " function to each item of an iterable (like a list, tuple, etc.)\n",
        "  and returns an iterator containing the results.\n",
        "\"\"\"\n",
        "\n",
        "# 2. Write a Python program that uses the `map()` function to square each element of a list of numbers.\n",
        "def square(x):\n",
        "    return x ** 2\n",
        "\n",
        "numbers = [1, 2, 3, 4, 5]\n",
        "squared_numbers = map(square, numbers)\n",
        "print(list(squared_numbers))"
      ]
    },
    {
      "cell_type": "code",
      "source": [
        "# How does the `map()` function differ from a list comprehension in Python, and when would you choose one over the other?\n",
        "numbers = [1, 2, 3, 4, 5]\n",
        "squared_numbers = [x * x for x in numbers]"
      ],
      "metadata": {
        "id": "fP9AuDnOhMKP"
      },
      "execution_count": 4,
      "outputs": []
    },
    {
      "cell_type": "code",
      "source": [
        "# Create a Python program that uses the `map()` function to convert a list of names to uppercase.\n",
        "names = [\"alice\", \"bob\", \"charlie\"]\n",
        "uppercase_names = list(map(str.upper, names))\n",
        "print(uppercase_names)"
      ],
      "metadata": {
        "colab": {
          "base_uri": "https://localhost:8080/"
        },
        "id": "K48JMvU1sAWY",
        "outputId": "5c33c1e9-451c-46a4-e936-590e4b6e7469"
      },
      "execution_count": 6,
      "outputs": [
        {
          "output_type": "stream",
          "name": "stdout",
          "text": [
            "['ALICE', 'BOB', 'CHARLIE']\n"
          ]
        }
      ]
    },
    {
      "cell_type": "code",
      "source": [
        "# Write a Python program that uses the `map()` function to calculate the length of each word in a list of strings\n",
        "words = [\"apple\", \"banana\", \"cherry\"]\n",
        "word_lengths = list(map(str.upper, words))\n",
        "print(word_lengths)"
      ],
      "metadata": {
        "colab": {
          "base_uri": "https://localhost:8080/"
        },
        "id": "sll854HBsD83",
        "outputId": "97f2d858-fc37-4ca3-fc2c-9b5f06bf69ed"
      },
      "execution_count": 7,
      "outputs": [
        {
          "output_type": "stream",
          "name": "stdout",
          "text": [
            "['APPLE', 'BANANA', 'CHERRY']\n"
          ]
        }
      ]
    },
    {
      "cell_type": "code",
      "source": [
        "# 6. How can you use the `map()` function to apply a custom function to elements of multiple lists simultaneously in Python?\n",
        "words = [\"hello\", \"world\", \"python\"]\n",
        "word_lengths = list(map(len, words))\n",
        "print(word_lengths)"
      ],
      "metadata": {
        "colab": {
          "base_uri": "https://localhost:8080/"
        },
        "id": "78-r2fWYsOQ0",
        "outputId": "2624c7a6-91fe-4392-af3e-3835b7cbb609"
      },
      "execution_count": 8,
      "outputs": [
        {
          "output_type": "stream",
          "name": "stdout",
          "text": [
            "[5, 5, 6]\n"
          ]
        }
      ]
    },
    {
      "cell_type": "code",
      "source": [
        "# 7. Create a Python program that uses `map()` to convert a list of temperatures from Celsius to Fahrenheit.\n",
        "celsius_temps = [0, 10, 20, 30]\n",
        "\n",
        "def celsius_to_fahrenheit(celsius):\n",
        "    return (celsius * 9/5) + 32\n",
        "\n",
        "fahrenheit_temps = list(map(celsius_to_fahrenheit, celsius_temps))\n",
        "print(fahrenheit_temps)"
      ],
      "metadata": {
        "colab": {
          "base_uri": "https://localhost:8080/"
        },
        "id": "QjHlMLBxsT7F",
        "outputId": "3de8deed-2c4e-48bd-cfb5-04ae662378c7"
      },
      "execution_count": 9,
      "outputs": [
        {
          "output_type": "stream",
          "name": "stdout",
          "text": [
            "[32.0, 50.0, 68.0, 86.0]\n"
          ]
        }
      ]
    },
    {
      "cell_type": "code",
      "source": [
        "# 8. Write a Python program that uses the `map()` function to round each element of a list of floating-point numbers to the nearest integer.\n",
        "numbers = [1.2, 3.4, 5.6, 7.8]\n",
        "rounded_numbers = list(map(round, numbers))\n",
        "print(rounded_numbers)"
      ],
      "metadata": {
        "colab": {
          "base_uri": "https://localhost:8080/"
        },
        "id": "OW2Q_fUJtnqv",
        "outputId": "ee5d5153-d654-4e90-cdb5-a8bb2f35bac1"
      },
      "execution_count": 10,
      "outputs": [
        {
          "output_type": "stream",
          "name": "stdout",
          "text": [
            "[1, 3, 6, 8]\n"
          ]
        }
      ]
    },
    {
      "cell_type": "code",
      "source": [],
      "metadata": {
        "id": "9rKovrt-ttcc"
      },
      "execution_count": null,
      "outputs": []
    }
  ]
}