{
  "nbformat": 4,
  "nbformat_minor": 0,
  "metadata": {
    "colab": {
      "provenance": [],
      "authorship_tag": "ABX9TyMDIVgWrZXB+1VIS37mT8kf",
      "include_colab_link": true
    },
    "kernelspec": {
      "name": "python3",
      "display_name": "Python 3"
    },
    "language_info": {
      "name": "python"
    }
  },
  "cells": [
    {
      "cell_type": "markdown",
      "metadata": {
        "id": "view-in-github",
        "colab_type": "text"
      },
      "source": [
        "<a href=\"https://colab.research.google.com/github/AnuragSharma5893/Frission_DevHub_Assignment/blob/main/Assignment3(Loops%2C_condition)_.ipynb\" target=\"_parent\"><img src=\"https://colab.research.google.com/assets/colab-badge.svg\" alt=\"Open In Colab\"/></a>"
      ]
    },
    {
      "cell_type": "markdown",
      "source": [
        "# Loops\n"
      ],
      "metadata": {
        "id": "IhyZd9XiBFNZ"
      }
    },
    {
      "cell_type": "code",
      "execution_count": 1,
      "metadata": {
        "colab": {
          "base_uri": "https://localhost:8080/"
        },
        "id": "b6VSab9zA4-2",
        "outputId": "3d62e103-5fb8-4c12-8506-53d31ba475d2"
      },
      "outputs": [
        {
          "output_type": "stream",
          "name": "stdout",
          "text": [
            "1\n",
            "2\n",
            "3\n",
            "4\n",
            "5\n",
            "6\n",
            "7\n",
            "8\n",
            "9\n",
            "10\n"
          ]
        }
      ],
      "source": [
        "# 1. Write a Python program to print the numbers from 1 to 10 using a `for` loop.\n",
        "for i in range(1,11):\n",
        "  print(i)"
      ]
    },
    {
      "cell_type": "code",
      "source": [
        "# 2. Create a program that calculates the sum of all numbers in a list using a `for` loop.\n",
        "numbers = [1, 2, 3, 4, 5]\n",
        "sum_of_numbers = 0\n",
        "\n",
        "for number in numbers:\n",
        "    sum_of_numbers += number\n",
        "\n",
        "print(\"Sum:\", sum_of_numbers)"
      ],
      "metadata": {
        "colab": {
          "base_uri": "https://localhost:8080/"
        },
        "id": "wu89Dw23Bnql",
        "outputId": "01d427d2-3132-4884-fb67-cdb361184aa2"
      },
      "execution_count": 2,
      "outputs": [
        {
          "output_type": "stream",
          "name": "stdout",
          "text": [
            "Sum: 15\n"
          ]
        }
      ]
    },
    {
      "cell_type": "code",
      "source": [
        "# 3. Write a program to print the characters of a string in reverse order using a `for` loop.\n",
        "text = \"Anurag\"\n",
        "\n",
        "for i in range(len(text) - 1, -1, -1):\n",
        "    print(text[i])"
      ],
      "metadata": {
        "colab": {
          "base_uri": "https://localhost:8080/"
        },
        "id": "ZAqeIchjBziw",
        "outputId": "ef5b400e-0567-49b7-9f7d-f43ca006102c"
      },
      "execution_count": 4,
      "outputs": [
        {
          "output_type": "stream",
          "name": "stdout",
          "text": [
            "g\n",
            "a\n",
            "r\n",
            "u\n",
            "n\n",
            "A\n"
          ]
        }
      ]
    },
    {
      "cell_type": "code",
      "source": [
        "# 4. Develop a program that finds the factorial of a given number using a `for` loop.\n",
        "number = 3 #10 # 5\n",
        "factorial = 1 ## base condition\n",
        "\n",
        "for i in range(1, number + 1):\n",
        "    factorial *= i\n",
        "\n",
        "print(\"Factorial:\", factorial)"
      ],
      "metadata": {
        "colab": {
          "base_uri": "https://localhost:8080/"
        },
        "id": "9AnsGrEyCHhZ",
        "outputId": "b6a68bb7-6b96-4f07-8ce9-6887cd6ff797"
      },
      "execution_count": 8,
      "outputs": [
        {
          "output_type": "stream",
          "name": "stdout",
          "text": [
            "Factorial: 6\n"
          ]
        }
      ]
    },
    {
      "cell_type": "code",
      "source": [
        "# 5. Create a program to print the multiplication table of a given number using a `for` loop.\n",
        "number = 7\n",
        "\n",
        "for i in range(1, 11):\n",
        "    print(number, \"x\", i, \"=\", number * i)"
      ],
      "metadata": {
        "colab": {
          "base_uri": "https://localhost:8080/"
        },
        "id": "9vFU0EBLB7Of",
        "outputId": "dc32bc4c-8146-480f-921b-bb82cdb36e2e"
      },
      "execution_count": 5,
      "outputs": [
        {
          "output_type": "stream",
          "name": "stdout",
          "text": [
            "7 x 1 = 7\n",
            "7 x 2 = 14\n",
            "7 x 3 = 21\n",
            "7 x 4 = 28\n",
            "7 x 5 = 35\n",
            "7 x 6 = 42\n",
            "7 x 7 = 49\n",
            "7 x 8 = 56\n",
            "7 x 9 = 63\n",
            "7 x 10 = 70\n"
          ]
        }
      ]
    },
    {
      "cell_type": "code",
      "source": [
        "# 6. Write a program that counts the number of even and odd numbers in a list using a `for` loop.\n",
        "numbers = [1, 2, 3, 4, 5, 6]\n",
        "even_count = 0\n",
        "odd_count = 0\n",
        "\n",
        "for number in numbers:\n",
        "    if number % 2 == 0:\n",
        "        even_count += 1\n",
        "    else:\n",
        "        odd_count += 1\n",
        "\n",
        "print(\"Even count:\", even_count)\n",
        "print(\"Odd count:\", odd_count)"
      ],
      "metadata": {
        "colab": {
          "base_uri": "https://localhost:8080/"
        },
        "id": "0FI1XydbCEzu",
        "outputId": "f8d3b3a2-8ee4-4acb-f275-6a2b12d14007"
      },
      "execution_count": 9,
      "outputs": [
        {
          "output_type": "stream",
          "name": "stdout",
          "text": [
            "Even count: 3\n",
            "Odd count: 3\n"
          ]
        }
      ]
    },
    {
      "cell_type": "code",
      "source": [
        "# 7. Develop a program that prints the squares of numbers from 1 to 5 using a `for` loop.\n",
        "for i in range(1, 6):\n",
        "    print(i * i)"
      ],
      "metadata": {
        "colab": {
          "base_uri": "https://localhost:8080/"
        },
        "id": "0-M-YlYlCcXh",
        "outputId": "ad65a584-9844-4630-c2e5-ae9ab8947a7f"
      },
      "execution_count": 10,
      "outputs": [
        {
          "output_type": "stream",
          "name": "stdout",
          "text": [
            "1\n",
            "4\n",
            "9\n",
            "16\n",
            "25\n"
          ]
        }
      ]
    },
    {
      "cell_type": "code",
      "source": [
        "# 8. Create a program to find the length of a string without using the `len()` function.\n",
        "text = \"Elon Musk\"\n",
        "length = 0\n",
        "\n",
        "\"\"\"for _ in text:\n",
        "   length += 1\n",
        "\"\"\"\n",
        "\n",
        "for char in text:\n",
        "    if char != \" \":  # Ignoring spaces between the string\n",
        "        length += 1\n",
        "\n",
        "print(\"Length:\", length)"
      ],
      "metadata": {
        "colab": {
          "base_uri": "https://localhost:8080/"
        },
        "id": "SEhIAD8KCf5I",
        "outputId": "c49cda03-c156-4316-d946-afa5df1c4926"
      },
      "execution_count": 15,
      "outputs": [
        {
          "output_type": "stream",
          "name": "stdout",
          "text": [
            "Length: 8\n"
          ]
        }
      ]
    },
    {
      "cell_type": "code",
      "source": [
        "# 9. Write a program that calculates the average of a list of numbers using a `for` loop.\n",
        "numbers = [1, 2, 3, 4, 5]\n",
        "total = 0\n",
        "\n",
        "for number in numbers:\n",
        "    total += number\n",
        "\n",
        "average = total / len(numbers)\n",
        "print(\"Average:\", average)"
      ],
      "metadata": {
        "colab": {
          "base_uri": "https://localhost:8080/"
        },
        "id": "G1Ocf4p_CgYj",
        "outputId": "64626859-f5d8-4196-83b7-7a48f1239c59"
      },
      "execution_count": 12,
      "outputs": [
        {
          "output_type": "stream",
          "name": "stdout",
          "text": [
            "Average: 3.0\n"
          ]
        }
      ]
    },
    {
      "cell_type": "code",
      "source": [
        "# 10. Develop a program that prints the first `n` Fibonacci numbers using a `for` loop.\n",
        "n = int(input(\"Enter the your favourite no.: \"))  # Number of Fibonacci numbers to print\n",
        "a, b = 0, 1\n",
        "\n",
        "for _ in range(n):\n",
        "    print(a, end=\" \")\n",
        "    a, b = b, a + b"
      ],
      "metadata": {
        "colab": {
          "base_uri": "https://localhost:8080/"
        },
        "id": "_UddyrzaCwd8",
        "outputId": "a8121198-945f-455d-e1c0-5d7fdd36659b"
      },
      "execution_count": 18,
      "outputs": [
        {
          "output_type": "stream",
          "name": "stdout",
          "text": [
            "Enter the your favourite no.: 10\n",
            "0 1 1 2 3 5 8 13 21 34 "
          ]
        }
      ]
    },
    {
      "cell_type": "code",
      "source": [
        "# 11. Write a program to check if a given list contains any duplicates using a `for` loop.\n",
        "numbers = [1, 2, 3, 4, 5, 2]\n",
        "# seen = set()\n",
        "has_duplicates = False\n",
        "\n",
        "## with using a inbuild seen function\n",
        "\"\"\"\n",
        "for number in numbers:\n",
        "    if number in seen:\n",
        "        has_duplicates = True\n",
        "        break\n",
        "    seen.add(number)\n",
        "\"\"\"\n",
        "## coustom build function\n",
        "for i in range(len(numbers)):\n",
        "    for j in range(i + 1, len(numbers)):\n",
        "        if numbers[i] == numbers[j]:\n",
        "            has_duplicates = True\n",
        "            break\n",
        "    if has_duplicates:\n",
        "        break\n",
        "\n",
        "print(\"Has duplicates:\", has_duplicates)"
      ],
      "metadata": {
        "colab": {
          "base_uri": "https://localhost:8080/"
        },
        "id": "xYC2V8m4DaQ-",
        "outputId": "2307d7c6-56b7-4671-c65e-81dbeeeb1d3b"
      },
      "execution_count": 20,
      "outputs": [
        {
          "output_type": "stream",
          "name": "stdout",
          "text": [
            "Has duplicates: True\n"
          ]
        }
      ]
    },
    {
      "cell_type": "code",
      "source": [
        "# 12. Create a program that prints the prime numbers in a given range using a `for` loop.\n",
        "def is_prime(n):\n",
        "    if n <= 1:\n",
        "        return False\n",
        "    for i in range(2, int(n**0.5) + 1):\n",
        "        if n % i == 0:\n",
        "            return False\n",
        "    return True\n",
        "\n",
        "start_range = 2\n",
        "end_range = 20\n",
        "\n",
        "for number in range(start_range, end_range + 1):\n",
        "    if is_prime(number):\n",
        "        print(number)"
      ],
      "metadata": {
        "colab": {
          "base_uri": "https://localhost:8080/"
        },
        "id": "rbfdn6A5EUUM",
        "outputId": "462398eb-e5a6-466b-9cf3-c8e30e96ccd6"
      },
      "execution_count": 21,
      "outputs": [
        {
          "output_type": "stream",
          "name": "stdout",
          "text": [
            "2\n",
            "3\n",
            "5\n",
            "7\n",
            "11\n",
            "13\n",
            "17\n",
            "19\n"
          ]
        }
      ]
    },
    {
      "cell_type": "code",
      "source": [
        "# 13. Develop a program that counts the number of vowels in a string using a `for` loop.\n",
        "text = \"Anurag Sharma\"\n",
        "vowels = \"aeiouAEIOU\"\n",
        "vowel_count = 0\n",
        "\n",
        "for char in text:\n",
        "    if char in vowels:\n",
        "        vowel_count += 1\n",
        "\n",
        "print(\"Vowel count:\", vowel_count)"
      ],
      "metadata": {
        "colab": {
          "base_uri": "https://localhost:8080/"
        },
        "id": "1DeJiV2JEaa2",
        "outputId": "c7f6a023-9fce-40f5-a62a-3f615e7a4f86"
      },
      "execution_count": 22,
      "outputs": [
        {
          "output_type": "stream",
          "name": "stdout",
          "text": [
            "Vowel count: 5\n"
          ]
        }
      ]
    },
    {
      "cell_type": "code",
      "source": [
        "# 14. Write a program to find the maximum element in a 2D list using a nested `for` loop.\n",
        "matrix = [[1, 2, 3], [4, 5, 6], [7, 8, 9]]\n",
        "max_element = matrix[0][0] ## initial elements\n",
        "\n",
        "for row in matrix:\n",
        "    for element in row:\n",
        "        if element > max_element:\n",
        "            max_element = element\n",
        "\n",
        "print(\"Maximum element:\", max_element)"
      ],
      "metadata": {
        "colab": {
          "base_uri": "https://localhost:8080/"
        },
        "id": "GNFyTRKgEi0y",
        "outputId": "7b42c253-98d7-4c50-d5d2-b2dd2aea3797"
      },
      "execution_count": 24,
      "outputs": [
        {
          "output_type": "stream",
          "name": "stdout",
          "text": [
            "Maximum element: 9\n"
          ]
        }
      ]
    },
    {
      "cell_type": "code",
      "source": [
        "# 15. Create a program that removes all occurrences of a specific element from a list using a `for` loop.\n",
        "numbers = [1, 2, 3, 2, 4, 2, 5]\n",
        "element_to_remove = 2\n",
        "\"\"\"\n",
        "# list comprehension\n",
        "numbers = [number for number in numbers if number != element_to_remove]\n",
        "\"\"\"\n",
        "while element_to_remove in numbers:\n",
        "     numbers.remove(element_to_remove)\n",
        "\n",
        "print(\"List after removal:\", numbers)"
      ],
      "metadata": {
        "colab": {
          "base_uri": "https://localhost:8080/"
        },
        "id": "ingLNKVfErrS",
        "outputId": "8d40419f-6c5b-48bb-f80c-ff6832548d5b"
      },
      "execution_count": 26,
      "outputs": [
        {
          "output_type": "stream",
          "name": "stdout",
          "text": [
            "List after removal: [1, 3, 4, 5]\n"
          ]
        }
      ]
    },
    {
      "cell_type": "code",
      "source": [
        "# 16. Develop a program that generates a multiplication table for numbers from 1 to 5 using a nested `for` loop.\n",
        "for i in range(1, 6):\n",
        "    for j in range(1, 6):\n",
        "        print(i * j, end=\"\\t\")\n",
        "    print()"
      ],
      "metadata": {
        "colab": {
          "base_uri": "https://localhost:8080/"
        },
        "id": "fkeQVB1gE6GU",
        "outputId": "e7052b19-fef2-40b8-ca53-347d5c4e271a"
      },
      "execution_count": 27,
      "outputs": [
        {
          "output_type": "stream",
          "name": "stdout",
          "text": [
            "1\t2\t3\t4\t5\t\n",
            "2\t4\t6\t8\t10\t\n",
            "3\t6\t9\t12\t15\t\n",
            "4\t8\t12\t16\t20\t\n",
            "5\t10\t15\t20\t25\t\n"
          ]
        }
      ]
    },
    {
      "cell_type": "code",
      "source": [
        "# 17. Write a program that converts a list of Fahrenheit temperatures to Celsius using a `for` loop.\n",
        "\n",
        "fahrenheit_temps = [32, 68, 104, 212]\n",
        "celsius_temps = []\n",
        "\n",
        "for temp in fahrenheit_temps:\n",
        "    celsius = (temp - 32) * 5/9\n",
        "    celsius_temps.append(celsius)\n",
        "\n",
        "print(\"Celsius temperatures:\", celsius_temps)"
      ],
      "metadata": {
        "colab": {
          "base_uri": "https://localhost:8080/"
        },
        "id": "q_B9QpzVFKT1",
        "outputId": "15696176-64bc-4588-c5e6-49c87f975d1d"
      },
      "execution_count": 28,
      "outputs": [
        {
          "output_type": "stream",
          "name": "stdout",
          "text": [
            "Celsius temperatures: [0.0, 20.0, 40.0, 100.0]\n"
          ]
        }
      ]
    },
    {
      "cell_type": "code",
      "source": [
        "# 18. Create a program to print the common elements from two lists using a `for` loop.\n",
        "list1 = [1, 2, 3, 4, 5]\n",
        "list2 = [3, 5, 6, 7, 8]\n",
        "common_elements = []\n",
        "\n",
        "for element in list1:\n",
        "    if element in list2:\n",
        "        common_elements.append(element)\n",
        "\n",
        "print(\"Common elements:\", common_elements)"
      ],
      "metadata": {
        "colab": {
          "base_uri": "https://localhost:8080/"
        },
        "id": "OlqtEYdZFRqL",
        "outputId": "a23d2b0a-d639-48a3-8ab7-02ed322771a9"
      },
      "execution_count": 29,
      "outputs": [
        {
          "output_type": "stream",
          "name": "stdout",
          "text": [
            "Common elements: [3, 5]\n"
          ]
        }
      ]
    },
    {
      "cell_type": "code",
      "source": [
        "# 19. Develop a program that prints the pattern of right-angled triangles using a `for` loop. Use ‘*’ to draw the\n",
        "rows = 5\n",
        "\n",
        "for i in range(1, rows + 1):\n",
        "    for j in range(1, i + 1):\n",
        "        print(\"*\", end=\"\")\n",
        "    print()"
      ],
      "metadata": {
        "colab": {
          "base_uri": "https://localhost:8080/"
        },
        "id": "hUxd4gGvFZtd",
        "outputId": "8474924c-03a5-4253-8cf7-89f11ecbb87f"
      },
      "execution_count": 30,
      "outputs": [
        {
          "output_type": "stream",
          "name": "stdout",
          "text": [
            "*\n",
            "**\n",
            "***\n",
            "****\n",
            "*****\n"
          ]
        }
      ]
    },
    {
      "cell_type": "code",
      "source": [
        "# 20. Write a program to find the greatest common divisor (GCD) of two numbers using a `for` loop.\n",
        "\n",
        "def gcd(a, b):\n",
        "    while b:\n",
        "        a, b = b, a % b\n",
        "    return a\n",
        "\n",
        "num1 = 48\n",
        "num2 = 18\n",
        "\n",
        "print(\"GCD:\", gcd(num1, num2))"
      ],
      "metadata": {
        "colab": {
          "base_uri": "https://localhost:8080/"
        },
        "id": "DTye-unrFeDh",
        "outputId": "e2736c59-cd97-4b2e-9196-0c98bbd4388e"
      },
      "execution_count": 31,
      "outputs": [
        {
          "output_type": "stream",
          "name": "stdout",
          "text": [
            "GCD: 6\n"
          ]
        }
      ]
    },
    {
      "cell_type": "code",
      "source": [
        "# 21. Create a program that calculates the sum of the digits of numbers in a list using a list comprehension.\n",
        "numbers = [123, 456, 789]\n",
        "digit_sums = [sum(int(digit) for digit in str(number)) for number in numbers]\n",
        "\n",
        "print(\"Digit sums:\", digit_sums)"
      ],
      "metadata": {
        "colab": {
          "base_uri": "https://localhost:8080/"
        },
        "id": "Nn7S1PTwFjyG",
        "outputId": "299ccde0-6fb2-4cbf-fc2c-69637fd01c5c"
      },
      "execution_count": 32,
      "outputs": [
        {
          "output_type": "stream",
          "name": "stdout",
          "text": [
            "Digit sums: [6, 15, 24]\n"
          ]
        }
      ]
    },
    {
      "cell_type": "code",
      "source": [
        "# 22. Write a program to find the prime factors of a given number using a `for` loop and list comprehension.\n",
        "def prime_factors(number):\n",
        "    factors = []\n",
        "    for i in range(2, int(number**0.5) + 1):\n",
        "        while number % i == 0:\n",
        "            factors.append(i)\n",
        "            number //= i\n",
        "    if number > 1:\n",
        "        factors.append(number)\n",
        "    return factors\n",
        "\n",
        "number = int(input(\"Enter a number: \"))\n",
        "\n",
        "prime_factors_list = prime_factors(number)\n",
        "\n",
        "print(\"Prime factors of\", number, \"are:\", prime_factors_list)"
      ],
      "metadata": {
        "colab": {
          "base_uri": "https://localhost:8080/"
        },
        "id": "KQwBZSpuF3J5",
        "outputId": "4dbf0b00-05b4-4051-ab11-150a7971df52"
      },
      "execution_count": 34,
      "outputs": [
        {
          "output_type": "stream",
          "name": "stdout",
          "text": [
            "Enter a number: 12\n",
            "Prime factors of 12 are: [2, 2, 3]\n"
          ]
        }
      ]
    },
    {
      "cell_type": "code",
      "source": [
        "# 23. Develop a program that extracts unique elements from a list and stores them in a new list using a list comprehension.\n",
        "my_list = [1, 2, 2, 3, 4, 4, 5]\n",
        "\n",
        "# unique_elements = [x for x in my_list if my_list.count(x) == 1]\n",
        "\n",
        "unique_elements = list(set(my_list))\n",
        "print(unique_elements)"
      ],
      "metadata": {
        "colab": {
          "base_uri": "https://localhost:8080/"
        },
        "id": "5nwG0CP_GVlE",
        "outputId": "da77e4da-f632-4888-c1fb-7e396264c744"
      },
      "execution_count": 35,
      "outputs": [
        {
          "output_type": "stream",
          "name": "stdout",
          "text": [
            "[1, 2, 3, 4, 5]\n"
          ]
        }
      ]
    },
    {
      "cell_type": "code",
      "source": [
        "# 24. Create a program that generates a list of all palindromic numbers up to a specified limit using a list comprehension.\n",
        "limit = int(input(\"Enter the number:- :\"))\n",
        " ## palindromes = [x for x in range(1, limit + 1) if str(x) == str(x)[::-1]]\n",
        "\n",
        "def is_palindrome(n):\n",
        "  return str(n) == str(n)[::-1]\n",
        "\n",
        "palindromes = list(filter(is_palindrome, range(1, limit + 1)))\n",
        "\n",
        "print(palindromes)"
      ],
      "metadata": {
        "colab": {
          "base_uri": "https://localhost:8080/"
        },
        "id": "9wMGoPdTG6ik",
        "outputId": "4a1e5292-deea-4c94-e7fd-79268dab9a2e"
      },
      "execution_count": 39,
      "outputs": [
        {
          "output_type": "stream",
          "name": "stdout",
          "text": [
            "Enter the number:- :100\n",
            "[1, 2, 3, 4, 5, 6, 7, 8, 9, 11, 22, 33, 44, 55, 66, 77, 88, 99]\n"
          ]
        }
      ]
    },
    {
      "cell_type": "code",
      "source": [
        "#25. Write a program to flatten a nested list using list comprehension.\n",
        "nested_list = [[1, 2], [3, 4], [5, 6]]\n",
        "flat_list = []\n",
        "\n",
        "## flat_list = [item for sublist in nested_list for item in sublist].\n",
        "\n",
        "for i in range(len(nested_list)):\n",
        "    for j in range(len(nested_list[i])):\n",
        "        flat_list.append(nested_list[i][j])\n",
        "\n",
        "\n",
        "print(flat_list)"
      ],
      "metadata": {
        "colab": {
          "base_uri": "https://localhost:8080/"
        },
        "id": "jvitQVqTHYRy",
        "outputId": "48ef880b-7d41-440e-d783-53dd82bee498"
      },
      "execution_count": 40,
      "outputs": [
        {
          "output_type": "stream",
          "name": "stdout",
          "text": [
            "[1, 2, 3, 4, 5, 6]\n"
          ]
        }
      ]
    },
    {
      "cell_type": "code",
      "source": [
        "# 26. Develop a program that computes the sum of even and odd numbers in a list separately using list comprehension.\n",
        "numbers = [1, 2, 3, 4, 5, 6]\n",
        "even_sum = sum(filter(lambda x: x % 2 == 0, numbers))\n",
        "odd_sum = sum(filter(lambda x: x % 2 != 0, numbers))\n",
        "print(\"Even sum:\", even_sum)\n",
        "print(\"Odd sum:\", odd_sum)"
      ],
      "metadata": {
        "colab": {
          "base_uri": "https://localhost:8080/"
        },
        "id": "eBbyneT2H4g0",
        "outputId": "ceac6d72-2c4a-4d5c-a048-c609383f5733"
      },
      "execution_count": 41,
      "outputs": [
        {
          "output_type": "stream",
          "name": "stdout",
          "text": [
            "Even sum: 12\n",
            "Odd sum: 9\n"
          ]
        }
      ]
    },
    {
      "cell_type": "code",
      "source": [
        "#27. Create a program that generates a list of squares of odd numbers between 1 and 10 using list comprehension.\n",
        "\"\"\"\n",
        "def square_if_odd(x):\n",
        "  if x % 2 != 0:\n",
        "    return x**2\n",
        "  else :\n",
        "    return None\n",
        " # return x**2 if x % 2 != 0 else None\n",
        "                                  # we make an object here\n",
        "numbers = range(1, 11)            # map(*args, **kwargs)\n",
        "squares_of_odd = list(filter(None, map(square_if_odd, numbers)))\n",
        "print(squares_of_odd)\n",
        "\"\"\"\n",
        "\n",
        "## if we do using comprehension method\n",
        "squares_of_odd = [x**2 for x in range(1, 11) if x % 2 != 0]\n",
        "print(squares_of_odd)\n"
      ],
      "metadata": {
        "colab": {
          "base_uri": "https://localhost:8080/"
        },
        "id": "QUdv6fNkIekV",
        "outputId": "77c09ea5-0d1d-4f7b-ff4c-75985951d306"
      },
      "execution_count": 44,
      "outputs": [
        {
          "output_type": "stream",
          "name": "stdout",
          "text": [
            "[1, 9, 25, 49, 81]\n"
          ]
        }
      ]
    },
    {
      "cell_type": "code",
      "source": [
        "# 28.Write a program that combines two lists into a dictionary using list comprehension.\n",
        "squares_of_odd = [x**2 for x in range(1, 11) if x % 2 != 0]\n",
        "print(squares_of_odd)"
      ],
      "metadata": {
        "colab": {
          "base_uri": "https://localhost:8080/"
        },
        "id": "p5tXNUawI8Rf",
        "outputId": "27732f12-eeeb-4d91-e2ea-127744320b04"
      },
      "execution_count": 45,
      "outputs": [
        {
          "output_type": "stream",
          "name": "stdout",
          "text": [
            "[1, 9, 25, 49, 81]\n"
          ]
        }
      ]
    },
    {
      "cell_type": "code",
      "source": [
        "# 29. Develop a program that extracts the vowels from a string and stores them in a list using list comprehension.\n",
        "\n",
        "string = \"hello world\"\n",
        "vowels = [char for char in string if char in 'aeiou']\n",
        "#vowels = list(filter(lambda char: char in 'aeiou', string))\n",
        "print(vowels)"
      ],
      "metadata": {
        "colab": {
          "base_uri": "https://localhost:8080/"
        },
        "id": "qz35U1XqJsFC",
        "outputId": "c61beb04-729a-475b-93b4-4ba26411ef36"
      },
      "execution_count": 50,
      "outputs": [
        {
          "output_type": "stream",
          "name": "stdout",
          "text": [
            "['e', 'o', 'o']\n"
          ]
        }
      ]
    },
    {
      "cell_type": "code",
      "source": [
        "# 30. Create a program that removes all non-numeric characters from a list of strings using list comprehension.\n",
        "input_list = [\"a1b2\", \"3c4d\", \"56ef\", \"gh78\"]\n",
        "\n",
        "numeric_only = [''.join([ch for ch in s if '0' <= ch <= '9']) for s in input_list]\n",
        "\n",
        "print(numeric_only)\n",
        "\n",
        "\"\"\"\n",
        ".join allow us Python joins elements\n",
        "of an iterable (like a list or tuple) into a single string,\n",
        "using the string it is called  separator.\n",
        "\"\"\""
      ],
      "metadata": {
        "colab": {
          "base_uri": "https://localhost:8080/"
        },
        "id": "T4X0BURaJ5Rb",
        "outputId": "0dfb50c5-e22a-4b6e-d89b-f7a79b240c2f"
      },
      "execution_count": 51,
      "outputs": [
        {
          "output_type": "stream",
          "name": "stdout",
          "text": [
            "['12', '34', '56', '78']\n"
          ]
        }
      ]
    },
    {
      "cell_type": "markdown",
      "source": [
        "# Basic if-else Statements:\n"
      ],
      "metadata": {
        "id": "YeFqDqCZKo21"
      }
    },
    {
      "cell_type": "code",
      "source": [
        "# Write a Python program to check if a given number is positive or negative.\n",
        "\n",
        "number = float(input(\"Enter a number: \"))\n",
        "\n",
        "\n",
        "if number > 0:\n",
        "    print(\"Positive number\")\n",
        "elif number == 0:\n",
        "    print(\"Zero\")\n",
        "else:\n",
        "    print(\"Negative number\")"
      ],
      "metadata": {
        "colab": {
          "base_uri": "https://localhost:8080/"
        },
        "id": "D3oZraG0Kub7",
        "outputId": "686385e5-fd14-4309-81b7-d7bf7ce55a03"
      },
      "execution_count": 54,
      "outputs": [
        {
          "output_type": "stream",
          "name": "stdout",
          "text": [
            "Enter a number: -12\n",
            "Negative number\n"
          ]
        }
      ]
    },
    {
      "cell_type": "code",
      "source": [
        "# 2. Create a program that determines if a person is eligible to vote based on their age.\n",
        "age = int(input(\"Enter your age: \"))\n",
        "\n",
        "if age >= 18:\n",
        "    print(\"You are eligible to vote.\")\n",
        "else:\n",
        "    print(\"You are not eligible to vote yet.\")\n"
      ],
      "metadata": {
        "colab": {
          "base_uri": "https://localhost:8080/"
        },
        "id": "_qJkyVIjK3zb",
        "outputId": "9bdb24de-3a3a-47ce-97e2-3303ab7e2bb4"
      },
      "execution_count": 57,
      "outputs": [
        {
          "output_type": "stream",
          "name": "stdout",
          "text": [
            "Enter your age: 17\n",
            "You are not eligible to vote yet.\n"
          ]
        }
      ]
    },
    {
      "cell_type": "code",
      "source": [
        "# 3. Develop a program to find the maximum of two numbers using if-else statements.\n",
        "num1 = float(input(\"Enter the first number: \"))\n",
        "num2 = float(input(\"Enter the second number: \"))\n",
        "\n",
        "if num1 > num2:\n",
        "    print(\"Maximum:\", num1)\n",
        "else:\n",
        "    print(\"Maximum:\", num2)"
      ],
      "metadata": {
        "colab": {
          "base_uri": "https://localhost:8080/"
        },
        "id": "cwdjScuhLF1e",
        "outputId": "93133fee-6661-4a9a-98ae-b202bd3234bb"
      },
      "execution_count": 58,
      "outputs": [
        {
          "output_type": "stream",
          "name": "stdout",
          "text": [
            "Enter the first number: 12\n",
            "Enter the second number: 14\n",
            "Maximum: 14.0\n"
          ]
        }
      ]
    },
    {
      "cell_type": "code",
      "source": [
        "# 4. Write a Python script to classify a given year as a leap year or not.\n",
        "year = int(input(\"Enter a year: \"))\n",
        "\n",
        "if (year % 4 == 0 and year % 100 != 0) or (year % 400 == 0):\n",
        "    print(year, \"is a leap year\")\n",
        "else:\n",
        "    print(year, \"is not a leap year\")"
      ],
      "metadata": {
        "colab": {
          "base_uri": "https://localhost:8080/"
        },
        "id": "RQWEflK1LN7q",
        "outputId": "45a18a94-f6f6-4760-9f85-aeb114766518"
      },
      "execution_count": 59,
      "outputs": [
        {
          "output_type": "stream",
          "name": "stdout",
          "text": [
            "Enter a year: 2050\n",
            "2050 is not a leap year\n"
          ]
        }
      ]
    },
    {
      "cell_type": "code",
      "source": [
        "# 5. Create a program that checks whether a character is a vowel or a consonant.\n",
        "char = input(\"Enter a character: \")\n",
        "\n",
        "if char.lower() in 'aeiou':\n",
        "    print(char, \"is a vowel\")\n",
        "else:\n",
        "    print(char, \"is a consonant\")"
      ],
      "metadata": {
        "colab": {
          "base_uri": "https://localhost:8080/"
        },
        "id": "2qzOpHaDLWrA",
        "outputId": "c709a795-7c6a-4d7a-fd52-69ae28d922a3"
      },
      "execution_count": 61,
      "outputs": [
        {
          "output_type": "stream",
          "name": "stdout",
          "text": [
            "Enter a character: q\n",
            "q is a consonant\n"
          ]
        }
      ]
    },
    {
      "cell_type": "code",
      "source": [
        "# 6. Implement a program to determine whether a given number is even or odd.\n",
        "number = int(input(\"Enter a number: \"))\n",
        "\n",
        "if number % 2 == 0:\n",
        "    print(number, \"is even\")\n",
        "else:\n",
        "    print(number, \"is odd\")"
      ],
      "metadata": {
        "colab": {
          "base_uri": "https://localhost:8080/"
        },
        "id": "_abK0tONLcGS",
        "outputId": "8fcfd969-5b79-4afc-865e-b3c1f0d4433e"
      },
      "execution_count": 62,
      "outputs": [
        {
          "output_type": "stream",
          "name": "stdout",
          "text": [
            "Enter a number: 52\n",
            "52 is even\n"
          ]
        }
      ]
    },
    {
      "cell_type": "code",
      "source": [
        "# 7. Write a Python function to calculate the absolute value of a number without using the `abs()` function.\n",
        "def absolute_value(number):\n",
        "    if number >= 0:\n",
        "        return number\n",
        "    else:\n",
        "        return -number\n",
        "\n",
        "num = float(input(\"Enter a number: \"))\n",
        "print(\"Absolute value:\", absolute_value(num))"
      ],
      "metadata": {
        "colab": {
          "base_uri": "https://localhost:8080/"
        },
        "id": "zDLfldq6LrUJ",
        "outputId": "fd3d60d8-bfe7-4551-e238-5cba84ed16fb"
      },
      "execution_count": 65,
      "outputs": [
        {
          "output_type": "stream",
          "name": "stdout",
          "text": [
            "Enter a number: -12.52\n",
            "Absolute value: 12.52\n"
          ]
        }
      ]
    },
    {
      "cell_type": "code",
      "source": [
        "# 8. Develop a program that determines the largest of three given numbers using if-else statements.\n",
        "num1 = float(input(\"Enter the first number: \"))\n",
        "num2 = float(input(\"Enter the second number: \"))\n",
        "num3 = float(input(\"Enter the third number: \"))\n",
        "\n",
        "if num1 >= num2 and num1 >= num3:\n",
        "    largest = num1\n",
        "elif num2 >= num1 and num2 >= num3:\n",
        "    largest = num2\n",
        "else:\n",
        "    largest = num3\n",
        "\n",
        "print(\"Largest number:\", largest)\n"
      ],
      "metadata": {
        "colab": {
          "base_uri": "https://localhost:8080/"
        },
        "id": "IICrTqyZLxlo",
        "outputId": "0789b770-830b-42fd-c916-faf7ff1ac7cb"
      },
      "execution_count": 66,
      "outputs": [
        {
          "output_type": "stream",
          "name": "stdout",
          "text": [
            "Enter the first number: 12\n",
            "Enter the second number: 54\n",
            "Enter the third number: 64\n",
            "Largest number: 64.0\n"
          ]
        }
      ]
    },
    {
      "cell_type": "code",
      "source": [
        "# 9. Create a program that checks if a given string is a palindrome.\n",
        "string = input(\"Enter a string: \")\n",
        "\n",
        "if string == string[::-1]:\n",
        "    print(string, \"is a palindrome\")\n",
        "else:\n",
        "    print(string, \"is not a palindrome\")"
      ],
      "metadata": {
        "colab": {
          "base_uri": "https://localhost:8080/"
        },
        "id": "BqAZ6iUmMF-N",
        "outputId": "d18adb9e-def2-46cd-b7b6-3bf0e1f2d380"
      },
      "execution_count": 70,
      "outputs": [
        {
          "output_type": "stream",
          "name": "stdout",
          "text": [
            "Enter a string: abba\n",
            "abba is a palindrome\n"
          ]
        }
      ]
    },
    {
      "cell_type": "code",
      "source": [
        "# 10. Write a Python program to calculate the grade based on a student's score.\n",
        "score = float(input(\"Enter the student's score: \"))\n",
        "\n",
        "if score >= 90:\n",
        "    grade = 'A'\n",
        "elif score >= 80:\n",
        "    grade = 'B'\n",
        "elif score >= 70:\n",
        "    grade = 'C'\n",
        "elif score >= 60:\n",
        "    grade = 'D'\n",
        "else:\n",
        "    grade = 'F'\n",
        "\n",
        "print(\"Grade:\", grade)"
      ],
      "metadata": {
        "colab": {
          "base_uri": "https://localhost:8080/"
        },
        "id": "GRVGv4lTMJXt",
        "outputId": "1cecce60-7fe5-4362-e6d0-7a0886f0ce0c"
      },
      "execution_count": 71,
      "outputs": [
        {
          "output_type": "stream",
          "name": "stdout",
          "text": [
            "Enter the student's score: 90\n",
            "Grade: A\n"
          ]
        }
      ]
    }
  ]
}