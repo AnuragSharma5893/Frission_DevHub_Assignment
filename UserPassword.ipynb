{
  "nbformat": 4,
  "nbformat_minor": 0,
  "metadata": {
    "colab": {
      "provenance": [],
      "authorship_tag": "ABX9TyNM6/1kH6JLI0XRUhUyU2+V",
      "include_colab_link": true
    },
    "kernelspec": {
      "name": "python3",
      "display_name": "Python 3"
    },
    "language_info": {
      "name": "python"
    }
  },
  "cells": [
    {
      "cell_type": "markdown",
      "metadata": {
        "id": "view-in-github",
        "colab_type": "text"
      },
      "source": [
        "<a href=\"https://colab.research.google.com/github/AnuragSharma5893/Frission_DevHub_Assignment/blob/main/UserPassword.ipynb\" target=\"_parent\"><img src=\"https://colab.research.google.com/assets/colab-badge.svg\" alt=\"Open In Colab\"/></a>"
      ]
    },
    {
      "cell_type": "markdown",
      "source": [
        "\n",
        "\n",
        "```\n",
        "17.Accept a string as input. Your task is to determine if the input string is a valid password or not. For a\n",
        "string to be a valid password, it must satisfy all the conditions given below:\n",
        "(1) It should have at least 8 and at most 32 characters\n",
        "(2) It should start with an uppercase or lowercase letter\n",
        "(3) It should not have any of these characters: / \\ = ' \"\n",
        "(4) It should not have spaces\n",
        "It could have any character that is not mentioned in the list of characters to be avoided (points 3 and 4).\n",
        "(5) suggest : the password is invalid and you can you can give the password.\n",
        "```\n",
        "\n"
      ],
      "metadata": {
        "id": "_ds-_1Br3BBt"
      }
    },
    {
      "cell_type": "code",
      "source": [
        "import random\n",
        "\n",
        "def is_valid_password(password):\n",
        "    if not (8 <= len(password) <= 32):\n",
        "        return False\n",
        "    if not ('a' <= password[0] <= 'z' or 'A' <= password[0] <= 'Z'):\n",
        "        return False\n",
        "    for char in password:\n",
        "        if char in \"/\\\\='\\\" \":\n",
        "            return False\n",
        "    return True"
      ],
      "metadata": {
        "id": "xUzwYmwt4FUI"
      },
      "execution_count": 3,
      "outputs": []
    },
    {
      "cell_type": "code",
      "source": [
        "def generate_password_suggestion():\n",
        "    characters = \"abcdefghijklmnopqrstuvwxyzABCDEFGHIJKLMNOPQRSTUVWXYZ0123456789!@#$%^&*()\"\n",
        "    password = ''.join(random.choice(characters) for i in range(12))\n",
        "    return password"
      ],
      "metadata": {
        "id": "CALLPnLA4MJM"
      },
      "execution_count": 4,
      "outputs": []
    },
    {
      "cell_type": "code",
      "source": [
        "password = input(\"Enter your password: \")\n",
        "\n",
        "if is_valid_password(password):\n",
        "    print(\"Password is valid\")\n",
        "else:\n",
        "    suggestion = generate_password_suggestion()\n",
        "    print(f\"Password is invalid. You can try a password like '{suggestion}'\")"
      ],
      "metadata": {
        "colab": {
          "base_uri": "https://localhost:8080/"
        },
        "id": "SJ5MRZzA4Q3z",
        "outputId": "fcb394dd-bb21-4f1b-ca24-5fdc1b9e7d6e"
      },
      "execution_count": 6,
      "outputs": [
        {
          "output_type": "stream",
          "name": "stdout",
          "text": [
            "Enter your password: a tw jew\n",
            "Password is invalid. You can try a password like 'TBmZF#7yEQ4N'\n"
          ]
        }
      ]
    },
    {
      "cell_type": "markdown",
      "source": [
        "With custom examples"
      ],
      "metadata": {
        "id": "twJWE8bl4i_v"
      }
    },
    {
      "cell_type": "code",
      "execution_count": 2,
      "metadata": {
        "colab": {
          "base_uri": "https://localhost:8080/"
        },
        "id": "wouUtOLT3ALm",
        "outputId": "f7eb2d7d-6176-48b0-acec-59fb0f8889de"
      },
      "outputs": [
        {
          "output_type": "stream",
          "name": "stdout",
          "text": [
            "Enter your password: pass word@123\n",
            "Password is invalid. You can try a password like 'MyStrongPassword123!'\n"
          ]
        }
      ],
      "source": [
        "import re\n",
        "\n",
        "def is_valid_password(password):\n",
        "  \"\"\"\n",
        "  Checks if a password is valid based on the given criteria.\n",
        "\n",
        "  Args:\n",
        "    password: The password string to validate.\n",
        "\n",
        "  Returns:\n",
        "    True if the password is valid, False otherwise.\n",
        "  \"\"\"\n",
        "  if not (8 <= len(password) <= 32):\n",
        "    return False\n",
        "\n",
        "  if not re.match(\"^[a-zA-Z]\", password):\n",
        "    return False\n",
        "\n",
        "  if any(c in password for c in \"/\\\\='\\\" \"):\n",
        "    return False\n",
        "\n",
        "  return True\n",
        "\n",
        "password = input(\"Enter your password: \")\n",
        "if is_valid_password(password):\n",
        "  print(\"Password is valid\")\n",
        "else:\n",
        "  print(\"Password is invalid. You can try a password like 'MyStrongPassword123!'\")"
      ]
    }
  ]
}