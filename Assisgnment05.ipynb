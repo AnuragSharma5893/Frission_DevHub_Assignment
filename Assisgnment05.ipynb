{
  "nbformat": 4,
  "nbformat_minor": 0,
  "metadata": {
    "colab": {
      "provenance": [],
      "authorship_tag": "ABX9TyO1azEK+Wo4SPF+ajOKHa3o",
      "include_colab_link": true
    },
    "kernelspec": {
      "name": "python3",
      "display_name": "Python 3"
    },
    "language_info": {
      "name": "python"
    }
  },
  "cells": [
    {
      "cell_type": "markdown",
      "metadata": {
        "id": "view-in-github",
        "colab_type": "text"
      },
      "source": [
        "<a href=\"https://colab.research.google.com/github/AnuragSharma5893/Frission_DevHub_Assignment/blob/main/Assisgnment05.ipynb\" target=\"_parent\"><img src=\"https://colab.research.google.com/assets/colab-badge.svg\" alt=\"Open In Colab\"/></a>"
      ]
    },
    {
      "cell_type": "markdown",
      "source": [
        "## Map"
      ],
      "metadata": {
        "id": "BTogo3gzgtmn"
      }
    },
    {
      "cell_type": "markdown",
      "source": [],
      "metadata": {
        "id": "TL6W8PDR025d"
      }
    },
    {
      "cell_type": "code",
      "execution_count": 1,
      "metadata": {
        "colab": {
          "base_uri": "https://localhost:8080/"
        },
        "id": "jKGQ3BzmgWGc",
        "outputId": "85459748-ffce-4c3a-8173-c64466017e9f"
      },
      "outputs": [
        {
          "output_type": "stream",
          "name": "stdout",
          "text": [
            "[1, 4, 9, 16, 25]\n"
          ]
        }
      ],
      "source": [
        "\n",
        "# 1. Explain the purpose of the `map()` function in Python and provide an example of how it can be used to apply a function to each element of an iterable.\n",
        "\"\"\"The map() function in Python applies a given\n",
        " function to each item of an iterable (like a list, tuple, etc.)\n",
        "  and returns an iterator containing the results.\n",
        "\"\"\"\n",
        "\n",
        "# 2. Write a Python program that uses the `map()` function to square each element of a list of numbers.\n",
        "def square(x):\n",
        "    return x ** 2\n",
        "\n",
        "numbers = [1, 2, 3, 4, 5]\n",
        "squared_numbers = map(square, numbers)\n",
        "print(list(squared_numbers))"
      ]
    },
    {
      "cell_type": "code",
      "source": [
        "# How does the `map()` function differ from a list comprehension in Python, and when would you choose one over the other?\n",
        "numbers = [1, 2, 3, 4, 5]\n",
        "squared_numbers = [x * x for x in numbers]"
      ],
      "metadata": {
        "id": "fP9AuDnOhMKP"
      },
      "execution_count": 4,
      "outputs": []
    },
    {
      "cell_type": "code",
      "source": [
        "# Create a Python program that uses the `map()` function to convert a list of names to uppercase.\n",
        "names = [\"alice\", \"bob\", \"charlie\"]\n",
        "uppercase_names = list(map(str.upper, names))\n",
        "print(uppercase_names)"
      ],
      "metadata": {
        "colab": {
          "base_uri": "https://localhost:8080/"
        },
        "id": "K48JMvU1sAWY",
        "outputId": "5c33c1e9-451c-46a4-e936-590e4b6e7469"
      },
      "execution_count": 6,
      "outputs": [
        {
          "output_type": "stream",
          "name": "stdout",
          "text": [
            "['ALICE', 'BOB', 'CHARLIE']\n"
          ]
        }
      ]
    },
    {
      "cell_type": "code",
      "source": [
        "# Write a Python program that uses the `map()` function to calculate the length of each word in a list of strings\n",
        "words = [\"apple\", \"banana\", \"cherry\"]\n",
        "word_lengths = list(map(str.upper, words))\n",
        "print(word_lengths)"
      ],
      "metadata": {
        "colab": {
          "base_uri": "https://localhost:8080/"
        },
        "id": "sll854HBsD83",
        "outputId": "97f2d858-fc37-4ca3-fc2c-9b5f06bf69ed"
      },
      "execution_count": 7,
      "outputs": [
        {
          "output_type": "stream",
          "name": "stdout",
          "text": [
            "['APPLE', 'BANANA', 'CHERRY']\n"
          ]
        }
      ]
    },
    {
      "cell_type": "code",
      "source": [
        "# 6. How can you use the `map()` function to apply a custom function to elements of multiple lists simultaneously in Python?\n",
        "words = [\"hello\", \"world\", \"python\"]\n",
        "word_lengths = list(map(len, words))\n",
        "print(word_lengths)"
      ],
      "metadata": {
        "colab": {
          "base_uri": "https://localhost:8080/"
        },
        "id": "78-r2fWYsOQ0",
        "outputId": "2624c7a6-91fe-4392-af3e-3835b7cbb609"
      },
      "execution_count": 8,
      "outputs": [
        {
          "output_type": "stream",
          "name": "stdout",
          "text": [
            "[5, 5, 6]\n"
          ]
        }
      ]
    },
    {
      "cell_type": "code",
      "source": [
        "# 7. Create a Python program that uses `map()` to convert a list of temperatures from Celsius to Fahrenheit.\n",
        "celsius_temps = [0, 10, 20, 30]\n",
        "\n",
        "def celsius_to_fahrenheit(celsius):\n",
        "    return (celsius * 9/5) + 32\n",
        "\n",
        "fahrenheit_temps = list(map(celsius_to_fahrenheit, celsius_temps))\n",
        "print(fahrenheit_temps)"
      ],
      "metadata": {
        "colab": {
          "base_uri": "https://localhost:8080/"
        },
        "id": "QjHlMLBxsT7F",
        "outputId": "3de8deed-2c4e-48bd-cfb5-04ae662378c7"
      },
      "execution_count": 9,
      "outputs": [
        {
          "output_type": "stream",
          "name": "stdout",
          "text": [
            "[32.0, 50.0, 68.0, 86.0]\n"
          ]
        }
      ]
    },
    {
      "cell_type": "code",
      "source": [
        "# 8. Write a Python program that uses the `map()` function to round each element of a list of floating-point numbers to the nearest integer.\n",
        "numbers = [1.2, 3.4, 5.6, 7.8]\n",
        "rounded_numbers = list(map(round, numbers))\n",
        "print(rounded_numbers)"
      ],
      "metadata": {
        "colab": {
          "base_uri": "https://localhost:8080/"
        },
        "id": "OW2Q_fUJtnqv",
        "outputId": "ee5d5153-d654-4e90-cdb5-a8bb2f35bac1"
      },
      "execution_count": 10,
      "outputs": [
        {
          "output_type": "stream",
          "name": "stdout",
          "text": [
            "[1, 3, 6, 8]\n"
          ]
        }
      ]
    },
    {
      "cell_type": "markdown",
      "source": [
        "# Reduce :-\n"
      ],
      "metadata": {
        "id": "qAbAlqC4042H"
      }
    },
    {
      "cell_type": "code",
      "source": [
        "\"\"\"\n",
        "The reduce() function is used to apply\n",
        "a function to a sequence of elements and\n",
        "cumulatively produce a single result.\n",
        "It's a higher-order function that operates\n",
        "on an iterable and reduces it to a single value.\n",
        "\n",
        "We import the functools module to use the reduce() function.\n",
        "\n",
        "\"\"\"\n",
        "\n",
        "## 1. Find the product of elements in a list:\n",
        "from functools import reduce\n",
        "\n",
        "def multiply(x, y):\n",
        "    return x * y\n",
        "\n",
        "numbers = [1, 2, 3, 4, 5]\n",
        "product = reduce(multiply, numbers)\n",
        "print(product)"
      ],
      "metadata": {
        "colab": {
          "base_uri": "https://localhost:8080/"
        },
        "id": "9rKovrt-ttcc",
        "outputId": "474d075b-1968-475e-8daa-fd12cbcaf430"
      },
      "execution_count": 11,
      "outputs": [
        {
          "output_type": "stream",
          "name": "stdout",
          "text": [
            "120\n"
          ]
        }
      ]
    },
    {
      "cell_type": "code",
      "source": [
        "# 2. Find the maximum element in a list:\n",
        "from functools import reduce\n",
        "\n",
        "numbers = [1, 5, 2, 9, 3]\n",
        "maximum = reduce(lambda x, y: x if x > y else y, numbers)\n",
        "print(maximum)"
      ],
      "metadata": {
        "colab": {
          "base_uri": "https://localhost:8080/"
        },
        "id": "rhs7Rn0C1gJY",
        "outputId": "4a97d21a-e1ce-4b3f-c698-978994546206"
      },
      "execution_count": 12,
      "outputs": [
        {
          "output_type": "stream",
          "name": "stdout",
          "text": [
            "9\n"
          ]
        }
      ]
    },
    {
      "cell_type": "code",
      "source": [
        "# 3. Create a Python program that uses `reduce()` to find the maximum element in a list of numbers.\n",
        "from functools import reduce\n",
        "\n",
        "strings = [\"Hello\", \", \", \"world\", \"!\"]\n",
        "concatenated_string = reduce(lambda x, y: x + y, strings)\n",
        "print(concatenated_string)"
      ],
      "metadata": {
        "colab": {
          "base_uri": "https://localhost:8080/"
        },
        "id": "JqxRWF_s1pfA",
        "outputId": "231d6279-4be3-426f-eb52-5fc64f80d6ca"
      },
      "execution_count": 13,
      "outputs": [
        {
          "output_type": "stream",
          "name": "stdout",
          "text": [
            "Hello, world!\n"
          ]
        }
      ]
    },
    {
      "cell_type": "code",
      "source": [
        "# 4. How can you use the `reduce()` function to concatenate a list of strings into a single string?\n",
        "from functools import reduce\n",
        "\n",
        "def factorial(n):\n",
        "    return reduce(lambda x, y: x * y, range(1, n + 1))\n",
        "\n",
        "number = 5\n",
        "result = factorial(number)\n",
        "print(result)"
      ],
      "metadata": {
        "colab": {
          "base_uri": "https://localhost:8080/"
        },
        "id": "d2-FeEEC1tV0",
        "outputId": "5d94b5e4-3fa9-48a3-9b54-74bbb5736acf"
      },
      "execution_count": 14,
      "outputs": [
        {
          "output_type": "stream",
          "name": "stdout",
          "text": [
            "120\n"
          ]
        }
      ]
    },
    {
      "cell_type": "code",
      "source": [
        "## 6. Create a Python program that uses `reduce()` to find the GCD (Greatest Common Divisor) of a list of numbers.\n",
        "from functools import reduce\n",
        "import math\n",
        "\n",
        "numbers = [12, 18, 24]\n",
        "gcd = reduce(math.gcd, numbers)\n",
        "print(gcd)\n"
      ],
      "metadata": {
        "colab": {
          "base_uri": "https://localhost:8080/"
        },
        "id": "RtoyXFiS2GNL",
        "outputId": "9ec5aa18-2749-47a6-b213-88828bc0127a"
      },
      "execution_count": 16,
      "outputs": [
        {
          "output_type": "stream",
          "name": "stdout",
          "text": [
            "6\n"
          ]
        }
      ]
    },
    {
      "cell_type": "code",
      "source": [
        "# 7. Write a Python program that uses the `reduce()` function to find the sum of the digits of a given number.\n",
        "from functools import reduce\n",
        "\n",
        "number = 12345\n",
        "sum_of_digits = reduce(lambda x, y: x + y, [int(digit) for digit in str(number)])\n",
        "print(sum_of_digits)"
      ],
      "metadata": {
        "colab": {
          "base_uri": "https://localhost:8080/"
        },
        "id": "CubEu5Gs2ZLl",
        "outputId": "4dfd879b-87a7-4123-e8f6-3591e8f67011"
      },
      "execution_count": 15,
      "outputs": [
        {
          "output_type": "stream",
          "name": "stdout",
          "text": [
            "15\n"
          ]
        }
      ]
    },
    {
      "cell_type": "markdown",
      "source": [
        "# Filter :-"
      ],
      "metadata": {
        "id": "Ul-xO3_32tCn"
      }
    },
    {
      "cell_type": "code",
      "source": [
        "\"\"\"\n",
        "The filter() function in Python is used\n",
        "to construct an iterator from elements of\n",
        "an iterable for which a function returns true.\n",
        "In simpler terms, it filters elements based on a\n",
        "given condition.\n",
        "\n",
        "\"\"\"\n",
        "def is_even(number):\n",
        "    return number % 2 == 0\n",
        "\n",
        "numbers = [1, 2, 3, 4, 5, 6]\n",
        "even_numbers = filter(is_even, numbers)\n",
        "\n",
        "even_numbers_list = list(even_numbers)\n",
        "print(even_numbers_list)\n"
      ],
      "metadata": {
        "colab": {
          "base_uri": "https://localhost:8080/"
        },
        "id": "eaoBjBYi2sUH",
        "outputId": "645101d4-09a1-486e-a5a8-60fe3a4241aa"
      },
      "execution_count": 18,
      "outputs": [
        {
          "output_type": "stream",
          "name": "stdout",
          "text": [
            "[2, 4, 6]\n"
          ]
        }
      ]
    },
    {
      "cell_type": "code",
      "source": [
        "# Create a Python program that uses the `filter()` function to select names that start with a specific letter from a list of strings.\n",
        "names = [\"Alice\", \"Boy\", \"Charlie\", \"David\"]\n",
        "filtered_names = list(filter(lambda name: name.startswith(\"A\"), names))\n",
        "print(filtered_names)"
      ],
      "metadata": {
        "colab": {
          "base_uri": "https://localhost:8080/"
        },
        "id": "hPhlrjDD3GYN",
        "outputId": "fea708df-f57c-46c3-d17f-9bcdf5c2b39c"
      },
      "execution_count": 20,
      "outputs": [
        {
          "output_type": "stream",
          "name": "stdout",
          "text": [
            "['Alice']\n"
          ]
        }
      ]
    },
    {
      "cell_type": "code",
      "source": [
        "#4. Select prime numbers from a list:\n",
        "\n",
        "\n",
        "def is_prime(number):\n",
        "    if number <= 1:\n",
        "        return False\n",
        "    for i in range(2, int(number**0.5) + 1):\n",
        "        if number % i == 0:\n",
        "            return False\n",
        "    return True\n",
        "\n",
        "numbers = [2, 3, 4, 5, 6, 7, 8, 9, 10]\n",
        "prime_numbers = list(filter(is_prime, numbers))\n",
        "print(prime_numbers)\n"
      ],
      "metadata": {
        "colab": {
          "base_uri": "https://localhost:8080/"
        },
        "id": "2p03G8wb3M0d",
        "outputId": "dd75c5b8-eb45-4d68-d1fd-3d5e0040b8bb"
      },
      "execution_count": 21,
      "outputs": [
        {
          "output_type": "stream",
          "name": "stdout",
          "text": [
            "[2, 3, 5, 7]\n"
          ]
        }
      ]
    },
    {
      "cell_type": "code",
      "source": [
        "# 5. Remove None values from a list:\n",
        "\n",
        "data = [1, None, 2, None, 3]\n",
        "filtered_data = list(filter(None, data))\n",
        "print(filtered_data)\n"
      ],
      "metadata": {
        "colab": {
          "base_uri": "https://localhost:8080/"
        },
        "id": "CkNxkRhK3WoE",
        "outputId": "738f26dc-36b2-4e98-ed58-354af74e8f0e"
      },
      "execution_count": 22,
      "outputs": [
        {
          "output_type": "stream",
          "name": "stdout",
          "text": [
            "[1, 2, 3]\n"
          ]
        }
      ]
    },
    {
      "cell_type": "code",
      "source": [
        "# 6. Select words longer than a certain length:\n",
        "\n",
        "words = [\"apple\", \"banana\", \"cherry\", \"date\"]\n",
        "long_words = list(filter(lambda word: len(word) > 5, words))\n",
        "print(long_words)"
      ],
      "metadata": {
        "colab": {
          "base_uri": "https://localhost:8080/"
        },
        "id": "g6SxF03h3cGn",
        "outputId": "d9af9a2a-28aa-4b98-c6b7-9b39b4c607c6"
      },
      "execution_count": 24,
      "outputs": [
        {
          "output_type": "stream",
          "name": "stdout",
          "text": [
            "['banana', 'cherry']\n"
          ]
        }
      ]
    },
    {
      "cell_type": "code",
      "source": [
        "# 7. Select elements greater than a threshold:\n",
        "\n",
        "import numpy as np\n",
        "\n",
        "arr = np.array([1, 2, 3, 4, 5])\n",
        "threshold = 3\n",
        "\n",
        "result = arr[arr > threshold]\n",
        "print(result)"
      ],
      "metadata": {
        "colab": {
          "base_uri": "https://localhost:8080/"
        },
        "id": "oe5A7kNp3ftG",
        "outputId": "77a9018e-b957-4272-8259-c5d53fbbfb54"
      },
      "execution_count": 27,
      "outputs": [
        {
          "output_type": "stream",
          "name": "stdout",
          "text": [
            "[4 5]\n"
          ]
        }
      ]
    },
    {
      "cell_type": "code",
      "source": [
        "words = [\"apple\", \"banana\", \"cherry\", \"date\"]\n",
        "long_words = list(filter(lambda word: len(word) > 5, words))\n",
        "print(long_words)"
      ],
      "metadata": {
        "colab": {
          "base_uri": "https://localhost:8080/"
        },
        "id": "92NTgj3B3rej",
        "outputId": "92f7d6ab-d494-4dd8-d9d8-532c9d4f42c8"
      },
      "execution_count": 28,
      "outputs": [
        {
          "output_type": "stream",
          "name": "stdout",
          "text": [
            "['banana', 'cherry']\n"
          ]
        }
      ]
    }
  ]
}