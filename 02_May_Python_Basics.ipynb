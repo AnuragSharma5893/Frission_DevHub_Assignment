{
  "nbformat": 4,
  "nbformat_minor": 0,
  "metadata": {
    "colab": {
      "provenance": [],
      "authorship_tag": "ABX9TyPUplBkgl1hYVK0Lp2NWr1p",
      "include_colab_link": true
    },
    "kernelspec": {
      "name": "python3",
      "display_name": "Python 3"
    },
    "language_info": {
      "name": "python"
    }
  },
  "cells": [
    {
      "cell_type": "markdown",
      "metadata": {
        "id": "view-in-github",
        "colab_type": "text"
      },
      "source": [
        "<a href=\"https://colab.research.google.com/github/AnuragSharma5893/Frission_DevHub_Assignment/blob/main/02_May_Python_Basics.ipynb\" target=\"_parent\"><img src=\"https://colab.research.google.com/assets/colab-badge.svg\" alt=\"Open In Colab\"/></a>"
      ]
    },
    {
      "cell_type": "markdown",
      "source": [
        "# ***Submission Guidelines:***\n",
        "\n",
        "Answer all the questions in a single Jupyter Notebook file (.ipynb).\n",
        "Include necessary code, comments, and explanations to support your\n",
        "answers and implementation.\n",
        "\n",
        "1. Ensure the notebook runs without errors and is well-organized.\n",
        "\n",
        "2. Create a GitHub repository to host your assignment files.\n",
        "\n",
        "3. Rename the Jupyter Notebook file using the format \"date_month_topic.ipynb\"\n",
        "\n",
        "4. Place the Jupyter Notebook file in the repository.\n",
        "\n",
        "5. Commit and push any additional files or resources required to run your code\n",
        "(if applicable) to the repository.\n",
        "\n",
        "6. Ensure the repository is publicly accessible.\n",
        "\n",
        "Submit the link to your GitHub repository as the assignment submission."
      ],
      "metadata": {
        "id": "T1SGk7_h3-DO"
      }
    },
    {
      "cell_type": "code",
      "execution_count": null,
      "metadata": {
        "id": "0V4jtJXSxOA5"
      },
      "outputs": [],
      "source": [
        "## Modification in string.\n",
        "    ### upper(): conv. string into uppercase\n",
        "    ### lower(): conv. string into lowercase\n",
        "    ### strip(): remove whitespaces from the beggining or the end\n",
        "    ### lstrip(): remove whites spcaes form the befining of the string\n",
        "    ### rstrip():- Removes trailing whitespace from a string\n",
        "    ### replace():- Replaces occurrences of 'old' with 'new' in a string\n",
        "    ### split():- Splits a string into a list of substrings based on a delimiter"
      ]
    },
    {
      "cell_type": "code",
      "source": [
        "a = \"hello\"\n",
        "print(a.upper())"
      ],
      "metadata": {
        "colab": {
          "base_uri": "https://localhost:8080/"
        },
        "id": "g8as--_lxXXZ",
        "outputId": "a9a40050-8686-445d-b378-01fa9cc0032c"
      },
      "execution_count": null,
      "outputs": [
        {
          "output_type": "stream",
          "name": "stdout",
          "text": [
            "HELLO\n"
          ]
        }
      ]
    },
    {
      "cell_type": "code",
      "source": [
        "print(a.lower())"
      ],
      "metadata": {
        "colab": {
          "base_uri": "https://localhost:8080/"
        },
        "id": "fEIiJb6VzJr2",
        "outputId": "561713f2-deac-4923-eca3-212df0370739"
      },
      "execution_count": null,
      "outputs": [
        {
          "output_type": "stream",
          "name": "stdout",
          "text": [
            "hello\n"
          ]
        }
      ]
    },
    {
      "cell_type": "code",
      "source": [
        "a = \" Hello\"\n",
        "print(a.strip())"
      ],
      "metadata": {
        "colab": {
          "base_uri": "https://localhost:8080/"
        },
        "id": "-Wg3xXxvzMMD",
        "outputId": "3b38bdcf-c9ad-4c06-ffff-ea7c879f2a13"
      },
      "execution_count": null,
      "outputs": [
        {
          "output_type": "stream",
          "name": "stdout",
          "text": [
            "Hello\n"
          ]
        }
      ]
    },
    {
      "cell_type": "code",
      "source": [
        "a = \"Hello, World !\"\n",
        "a.replace(\"H\",\"J\")"
      ],
      "metadata": {
        "colab": {
          "base_uri": "https://localhost:8080/",
          "height": 36
        },
        "id": "0uTcQWMmzirL",
        "outputId": "955299ac-5b72-4af5-fa97-248fa66f891e"
      },
      "execution_count": null,
      "outputs": [
        {
          "output_type": "execute_result",
          "data": {
            "text/plain": [
              "'Jello, World !'"
            ],
            "application/vnd.google.colaboratory.intrinsic+json": {
              "type": "string"
            }
          },
          "metadata": {},
          "execution_count": 7
        }
      ]
    },
    {
      "cell_type": "code",
      "source": [
        "a = \"Hello World\"\n",
        "a.split()"
      ],
      "metadata": {
        "colab": {
          "base_uri": "https://localhost:8080/"
        },
        "id": "XjwUCtmr0GE9",
        "outputId": "978061ea-3317-40ff-da43-a43fbac0a87f"
      },
      "execution_count": null,
      "outputs": [
        {
          "output_type": "execute_result",
          "data": {
            "text/plain": [
              "['Hello', 'World']"
            ]
          },
          "metadata": {},
          "execution_count": 9
        }
      ]
    },
    {
      "cell_type": "code",
      "source": [
        "b = \"Hello This is ,Anurag , Sharma\"\n",
        "b.split(',')"
      ],
      "metadata": {
        "colab": {
          "base_uri": "https://localhost:8080/"
        },
        "id": "2nVcFvWA0a-O",
        "outputId": "2f792112-9e85-4dbe-8e79-73d05ee8722c"
      },
      "execution_count": null,
      "outputs": [
        {
          "output_type": "execute_result",
          "data": {
            "text/plain": [
              "['Hello This is ', 'Anurag ', ' Sharma']"
            ]
          },
          "metadata": {},
          "execution_count": 11
        }
      ]
    },
    {
      "cell_type": "code",
      "source": [
        "## Operation on string:\n",
        "  ## concatination\n",
        "  ## multiplication"
      ],
      "metadata": {
        "id": "r0hcbD9B0jgE"
      },
      "execution_count": null,
      "outputs": []
    },
    {
      "cell_type": "code",
      "source": [
        "## concatination:\n",
        "a = \"hello\"\n",
        "b = \"234dshflk\"\n",
        "print(a+b)"
      ],
      "metadata": {
        "colab": {
          "base_uri": "https://localhost:8080/"
        },
        "id": "9kL8pJUK04V0",
        "outputId": "79b78436-3795-418e-fd29-540b7497e1cc"
      },
      "execution_count": null,
      "outputs": [
        {
          "output_type": "stream",
          "name": "stdout",
          "text": [
            "hello234dshflk\n"
          ]
        }
      ]
    },
    {
      "cell_type": "code",
      "source": [
        "a*10"
      ],
      "metadata": {
        "colab": {
          "base_uri": "https://localhost:8080/",
          "height": 36
        },
        "id": "fogwZWmL1UX7",
        "outputId": "7f61e225-45e2-4556-f0e4-ca304a6e946b"
      },
      "execution_count": null,
      "outputs": [
        {
          "output_type": "execute_result",
          "data": {
            "text/plain": [
              "'hellohellohellohellohellohellohellohellohellohello'"
            ],
            "application/vnd.google.colaboratory.intrinsic+json": {
              "type": "string"
            }
          },
          "metadata": {},
          "execution_count": 14
        }
      ]
    },
    {
      "cell_type": "code",
      "source": [
        "## formating in string\n",
        "a = 10\n",
        "b = 20\n",
        "c = a*b\n",
        "print(\"The multiplication of {} and {} is {}\".format(a,b,c))"
      ],
      "metadata": {
        "colab": {
          "base_uri": "https://localhost:8080/"
        },
        "id": "tU_5rzQD1diR",
        "outputId": "9ff7df09-0f07-4396-fd20-be0fb7bf8fed"
      },
      "execution_count": null,
      "outputs": [
        {
          "output_type": "stream",
          "name": "stdout",
          "text": [
            "The multiplication of 10 and 20 is 200\n"
          ]
        }
      ]
    },
    {
      "cell_type": "code",
      "source": [
        "## formating in string\n",
        "a = 10\n",
        "b = 20\n",
        "c = a*b\n",
        "print(f\"The multiplication of is {c}\")"
      ],
      "metadata": {
        "colab": {
          "base_uri": "https://localhost:8080/"
        },
        "id": "u_6Q9_h21501",
        "outputId": "2eed78b9-f4f3-4a8a-82c6-51c7998b582d"
      },
      "execution_count": null,
      "outputs": [
        {
          "output_type": "stream",
          "name": "stdout",
          "text": [
            "The multiplication of is 200\n"
          ]
        }
      ]
    },
    {
      "cell_type": "markdown",
      "source": [
        "1. Declare two variables, `x` and `y`, and assign them integer values. Swap the\n",
        "values of these variables without using any temporary variable.\n",
        "\n",
        "2. Create a program that calculates the area of a rectangle. Take the length and\n",
        "width as inputs from the user and store them in variables. Calculate and\n",
        "display the area.\n",
        "\n",
        "3. Write a Python program that converts temperatures from Celsius to\n",
        "Fahrenheit. Take the temperature in Celsius as input, store it in a variable,\n",
        "convert it to Fahrenheit,\n",
        "4. create custom function of all the inbuilt functions that we learned today !"
      ],
      "metadata": {
        "id": "yqiHqFvr2mmU"
      }
    },
    {
      "cell_type": "markdown",
      "source": [
        "# *Assisgment Solution*"
      ],
      "metadata": {
        "id": "6InZ7GlSJzGN"
      }
    },
    {
      "cell_type": "markdown",
      "source": [
        "**Question 1:-** Declare two variables, x and y, and assign them integer values. Swap the values of these variables without using any temporary variable."
      ],
      "metadata": {
        "id": "fsHfslnJJ7XN"
      }
    },
    {
      "cell_type": "code",
      "source": [
        "# Get input from the user\n",
        "x = int(input(\"Enter the value of x: \"))\n",
        "y = int(input(\"Enter the value of y: \"))\n",
        "\n",
        "# Swap using XOR\n",
        "x = x ^ y\n",
        "y = x ^ y\n",
        "x = x ^ y\n",
        "\n",
        "# Print the swapped values\n",
        "print(\"After swapping:\")\n",
        "print(\"x =\", x)\n",
        "print(\"y =\", y)"
      ],
      "metadata": {
        "colab": {
          "base_uri": "https://localhost:8080/"
        },
        "collapsed": true,
        "id": "HcXDJ6C2J6Qp",
        "outputId": "53014997-4e39-4756-88f2-4764796838e7"
      },
      "execution_count": null,
      "outputs": [
        {
          "output_type": "stream",
          "name": "stdout",
          "text": [
            "Enter the value of x: 10\n",
            "Enter the value of y: 12\n",
            "After swapping:\n",
            "x = 12\n",
            "y = 10\n"
          ]
        }
      ]
    },
    {
      "cell_type": "markdown",
      "source": [
        "**Question-2:** Create a program that calculates the area of a rectangle. Take the length and width as inputs from the user and store them in variables. Calculate and display the area."
      ],
      "metadata": {
        "id": "_tyPhSw9Nlqc"
      }
    },
    {
      "cell_type": "code",
      "source": [
        "length = float(input(\"Enter the length of Rectangle: \"))\n",
        "width = float(input(\"Enter the width of Rectangle: \"))\n",
        "\n",
        "area = length * width\n",
        "print(f\"The area of Rectangle is:\", area)"
      ],
      "metadata": {
        "colab": {
          "base_uri": "https://localhost:8080/"
        },
        "collapsed": true,
        "id": "79txcpMpNxdv",
        "outputId": "b6f4ba41-0569-4c99-dc56-54187e390a02"
      },
      "execution_count": null,
      "outputs": [
        {
          "output_type": "stream",
          "name": "stdout",
          "text": [
            "Enter the length of Rectangle: 1824\n",
            "Enter the width of Rectangle: 486.25\n",
            "The area of Rectangle is: 886920.0\n"
          ]
        }
      ]
    },
    {
      "cell_type": "markdown",
      "source": [
        "**Question-3:-** Write a Python program that converts temperatures from Celsius to Fahrenheit. Take the temperature in Celsius as input, store it in a variable, convert it to Fahrenheit"
      ],
      "metadata": {
        "id": "hYlCZbSAOcWu"
      }
    },
    {
      "cell_type": "code",
      "source": [
        "# User input\n",
        "celsius = float(input(\"Enter temperature in Celsius: \"))\n",
        "\n",
        "# Converting Celsius to Fahrenheit\n",
        "fahrenheit = (celsius * 9/5) + 32\n",
        "\n",
        "# Display the result\n",
        "print(f\"{celsius} degrees Celsius is equal to {fahrenheit} degrees Fahrenheit\")"
      ],
      "metadata": {
        "colab": {
          "base_uri": "https://localhost:8080/"
        },
        "id": "8vgNkjw3OjHR",
        "outputId": "f175c90c-8aa4-4dbc-f030-b0b503ba0f28"
      },
      "execution_count": null,
      "outputs": [
        {
          "output_type": "stream",
          "name": "stdout",
          "text": [
            "Enter temperature in Celsius: 37\n",
            "37.0 degrees Celsius is equal to 98.6 degrees Fahrenheit\n"
          ]
        }
      ]
    },
    {
      "cell_type": "markdown",
      "source": [
        "**Question-4:-** create custom function of all the inbuilt functions that we learned today !"
      ],
      "metadata": {
        "id": "SEWfmlkHPqkS"
      }
    },
    {
      "cell_type": "code",
      "source": [
        "def my_upper(string):\n",
        "    \"\"\"Converts a string to uppercase.\"\"\"\n",
        "    return string.upper()\n",
        "\n",
        "def my_lower(string):\n",
        "    \"\"\"Converts a string to lowercase.\"\"\"\n",
        "    return string.lower()\n",
        "\n",
        "def my_strip(string):\n",
        "    \"\"\"Removes leading and trailing whitespace from a string.\"\"\"\n",
        "    return string.strip()\n",
        "\n",
        "def my_lstrip(string):\n",
        "    \"\"\"Removes leading whitespace from a string.\"\"\"\n",
        "    return string.lstrip()\n",
        "\n",
        "def my_rstrip(string):\n",
        "    \"\"\"Removes trailing whitespace from a string.\"\"\"\n",
        "    return string.rstrip()\n",
        "\n",
        "def my_replace(string, old, new):\n",
        "    \"\"\"Replaces occurrences of 'old' with 'new' in a string.\"\"\"\n",
        "    return string.replace(old, new)\n",
        "\n",
        "def my_split(string, delimiter=\" \"):\n",
        "    \"\"\"Splits a string into a list of substrings based on a delimiter.\"\"\"\n",
        "    return string.split(delimiter)\n",
        "\n",
        "\n",
        "# Example usage\n",
        "text = \"   Hello, World!   \"\n",
        "print(my_upper(text))\n",
        "print(my_lower(text))\n",
        "print(my_strip(text))\n",
        "print(my_lstrip(text))\n",
        "print(my_rstrip(text))\n",
        "print(my_replace(text, \"World\", \"Python\"))\n",
        "print(my_split(text))"
      ],
      "metadata": {
        "colab": {
          "base_uri": "https://localhost:8080/"
        },
        "id": "LCI0nCdFPvm5",
        "outputId": "5390ca5a-9d6c-4477-bf86-afb5b6fcb3d2",
        "collapsed": true
      },
      "execution_count": null,
      "outputs": [
        {
          "output_type": "stream",
          "name": "stdout",
          "text": [
            "   HELLO, WORLD!   \n",
            "   hello, world!   \n",
            "Hello, World!\n",
            "Hello, World!   \n",
            "   Hello, World!\n",
            "   Hello, Python!   \n",
            "['', '', '', 'Hello,', 'World!', '', '', '']\n"
          ]
        }
      ]
    },
    {
      "cell_type": "code",
      "source": [
        "#  this function will convert the string into a upper() alphabets\n",
        "def upper(text):\n",
        "    result = \"\"\n",
        "    for char in text:\n",
        "        if 'a' <= char <= 'z':\n",
        "            result += chr(ord(char) - 32)\n",
        "        else:\n",
        "            result += char\n",
        "    return result\n",
        "\n",
        "# This custom funtion will allow us to convert the text into lower\n",
        "def lower(text):\n",
        "    result = \"\"\n",
        "    for char in text:\n",
        "        if 'A' <= char <= 'Z':\n",
        "            result += chr(ord(char) + 32)\n",
        "        else:\n",
        "            result += char\n",
        "    return result\n",
        "\n",
        "# this function is going to help us to remove whites spcaes form the befining of the string\n",
        "def lstrip(text):\n",
        "    i = 0\n",
        "    while i < len(text) and text[i] == ' ':\n",
        "        i += 1\n",
        "    return text[i:]\n",
        "\n",
        "# this function will help us to Removes the trailing whitespace from a string\n",
        "def rstrip(text):\n",
        "    i = len(text) - 1\n",
        "    while i >= 0 and text[i] == ' ':\n",
        "        i -= 1\n",
        "    return text[:i+1]\n",
        "\n",
        "# what if I want to strip a text I can just call the function\n",
        "def strip(text):\n",
        "    return lstrip(rstrip(text))\n",
        "\n",
        "# Replacing the string with another one kind of swap function we do\n",
        "def replace(text, old, new):\n",
        "    result = \"\"\n",
        "    i = 0\n",
        "    while i < len(text):\n",
        "        if text[i:i+len(old)] == old:\n",
        "            result += new\n",
        "            i += len(old)\n",
        "        else:\n",
        "            result += text[i]\n",
        "            i += 1\n",
        "    return result\n",
        "\n",
        "# This function will help us to split the str.split(delimiter)\n",
        "def split(text, delimiter=\" \"):\n",
        "    result = []\n",
        "    current = \"\"\n",
        "    for char in text:\n",
        "        if char == delimiter:\n",
        "            result.append(current)\n",
        "            current = \"\"\n",
        "        else:\n",
        "            current += char\n",
        "    result.append(current)\n",
        "    return result\n",
        "\n"
      ],
      "metadata": {
        "id": "vNDL3-t4y-cd"
      },
      "execution_count": 11,
      "outputs": []
    },
    {
      "cell_type": "code",
      "source": [
        "# Test string\n",
        "test_string = \"   Anurag Sharma   \"\n",
        "print(\"Original string:\", repr(test_string))"
      ],
      "metadata": {
        "colab": {
          "base_uri": "https://localhost:8080/"
        },
        "id": "LW6ANRRV1Nx4",
        "outputId": "47e810ec-1d3a-4b87-c576-78cf3e012f9b"
      },
      "execution_count": 14,
      "outputs": [
        {
          "output_type": "stream",
          "name": "stdout",
          "text": [
            "Original string: '   Anurag Sharma   '\n"
          ]
        }
      ]
    },
    {
      "cell_type": "code",
      "source": [
        "# Print outputs\n",
        "print(\"custom_upper:\", upper(test_string))\n",
        "print(\"custom_lower:\", lower(test_string))\n",
        "print(\"custom_lstrip:\", repr(lstrip(test_string)))\n",
        "print(\"custom_rstrip:\", repr(rstrip(test_string)))\n",
        "print(\"custom_strip:\", repr(strip(test_string)))\n",
        "print(\"custom_replace:\", replace(\"apple banana apple\", \"apple\", \"orange\"))\n",
        "print(\"custom_split:\", split(\"a b c d\"))"
      ],
      "metadata": {
        "colab": {
          "base_uri": "https://localhost:8080/"
        },
        "id": "B2sNEV-X1SMX",
        "outputId": "727a046f-1ef4-4a85-fbc0-1cc1012d0bd5"
      },
      "execution_count": 15,
      "outputs": [
        {
          "output_type": "stream",
          "name": "stdout",
          "text": [
            "custom_upper:    ANURAG SHARMA   \n",
            "custom_lower:    anurag sharma   \n",
            "custom_lstrip: 'Anurag Sharma   '\n",
            "custom_rstrip: '   Anurag Sharma'\n",
            "custom_strip: 'Anurag Sharma'\n",
            "custom_replace: orange banana orange\n",
            "custom_split: ['a', 'b', 'c', 'd']\n"
          ]
        }
      ]
    }
  ]
}