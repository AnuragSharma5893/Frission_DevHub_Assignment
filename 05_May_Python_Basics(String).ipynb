{
  "nbformat": 4,
  "nbformat_minor": 0,
  "metadata": {
    "colab": {
      "provenance": [],
      "authorship_tag": "ABX9TyPPtGREe7ufwRIaIgujM/xV",
      "include_colab_link": true
    },
    "kernelspec": {
      "name": "python3",
      "display_name": "Python 3"
    },
    "language_info": {
      "name": "python"
    }
  },
  "cells": [
    {
      "cell_type": "markdown",
      "metadata": {
        "id": "view-in-github",
        "colab_type": "text"
      },
      "source": [
        "<a href=\"https://colab.research.google.com/github/AnuragSharma5893/Frission_DevHub_Assignment/blob/main/05_May_Python_Basics(String).ipynb\" target=\"_parent\"><img src=\"https://colab.research.google.com/assets/colab-badge.svg\" alt=\"Open In Colab\"/></a>"
      ]
    },
    {
      "cell_type": "markdown",
      "source": [
        "# String"
      ],
      "metadata": {
        "id": "qgTcoGJ8x8wY"
      }
    },
    {
      "cell_type": "markdown",
      "source": [
        "1. Write a program to reverse a string.\n"
      ],
      "metadata": {
        "id": "Ni-6OctjyDHN"
      }
    },
    {
      "cell_type": "code",
      "execution_count": null,
      "metadata": {
        "id": "pifsKpO5xoiG",
        "colab": {
          "base_uri": "https://localhost:8080/"
        },
        "outputId": "f01e359d-f32b-4d86-81b8-259ab5df9be3"
      },
      "outputs": [
        {
          "output_type": "stream",
          "name": "stdout",
          "text": [
            "Enter a string: hello world\n",
            "the reversed string is: dlrow olleh\n"
          ]
        }
      ],
      "source": [
        "def rev_string(s):\n",
        "  return s[::-1]\n",
        "string = input(\"Enter a string: \")\n",
        "reversed_string = rev_string(string)\n",
        "print(\"the reversed string is:\", reversed_string)\n",
        "# print(rev_string(string))"
      ]
    },
    {
      "cell_type": "markdown",
      "source": [
        "2. Check if a string is a palindrome (a sequence of characters that reads the same forward and backward)"
      ],
      "metadata": {
        "id": "Cs4xnoxlzmlx"
      }
    },
    {
      "cell_type": "code",
      "source": [
        "def is_palindrome(s):\n",
        "  s = s.lower()\n",
        "  return s == s[::-1]  ## comparing original string and its reversed\n",
        "\n",
        "string = input(\"Enter a string: \")\n",
        "if is_palindrome(string):\n",
        "  print(\"string is Palindrome Bro!! 🙂\")\n",
        "else:\n",
        "  print(\"The string is not palindrome 😔\")"
      ],
      "metadata": {
        "colab": {
          "base_uri": "https://localhost:8080/"
        },
        "id": "py2EONvazr_a",
        "outputId": "cc2fc810-2c3c-4fab-8a28-b7008c986079"
      },
      "execution_count": null,
      "outputs": [
        {
          "output_type": "stream",
          "name": "stdout",
          "text": [
            "Enter a string: madam\n",
            "string is Palindrome Bro!! 🙂\n"
          ]
        }
      ]
    },
    {
      "cell_type": "markdown",
      "source": [
        "3. convert a string to uppercase"
      ],
      "metadata": {
        "id": "so_cpSAV1sVv"
      }
    },
    {
      "cell_type": "code",
      "source": [
        "def to_upper(s):\n",
        "  return s.upper()\n",
        "\n",
        "string = input(\"Enter a string: \")\n",
        "print(to_upper(string))"
      ],
      "metadata": {
        "colab": {
          "base_uri": "https://localhost:8080/"
        },
        "id": "pCKX92Mr1wj4",
        "outputId": "16f84893-7054-47e3-f965-a9fe0b36787f"
      },
      "execution_count": null,
      "outputs": [
        {
          "output_type": "stream",
          "name": "stdout",
          "text": [
            "Enter a string: abcd\n",
            "ABCD\n"
          ]
        }
      ]
    },
    {
      "cell_type": "markdown",
      "source": [
        "4. convert a string to lowercase"
      ],
      "metadata": {
        "id": "Rqt1VLY82Dp5"
      }
    },
    {
      "cell_type": "code",
      "source": [
        "def to_lower(s):\n",
        "  return s.lower()\n",
        "\n",
        "string = input(\"Enter a string: \")\n",
        "print(to_lower(string))"
      ],
      "metadata": {
        "colab": {
          "base_uri": "https://localhost:8080/"
        },
        "id": "s7JMaMxR2H0C",
        "outputId": "aca36e40-c64b-47e3-9e42-c232054d97f2"
      },
      "execution_count": null,
      "outputs": [
        {
          "output_type": "stream",
          "name": "stdout",
          "text": [
            "Enter a string: ABCD\n",
            "abcd\n"
          ]
        }
      ]
    },
    {
      "cell_type": "markdown",
      "source": [
        "5. Count the no. of vowels in a string"
      ],
      "metadata": {
        "id": "H90YnIUl2Pqr"
      }
    },
    {
      "cell_type": "code",
      "source": [
        "def count_vowels(string):\n",
        "  vowels = \"aeiouAEIOU\"\n",
        "  count = 0 # vowel count\n",
        "  for char in string:\n",
        "    if char in vowels:\n",
        "      count += 1\n",
        "  return count\n",
        "\n",
        "string = input(\"Enter a string: \")\n",
        "print(count_vowels(string))"
      ],
      "metadata": {
        "colab": {
          "base_uri": "https://localhost:8080/"
        },
        "collapsed": true,
        "id": "yR_CE_TR2Vgk",
        "outputId": "6e2340d4-4af8-45db-b7e6-2f13a5f05a44"
      },
      "execution_count": null,
      "outputs": [
        {
          "output_type": "stream",
          "name": "stdout",
          "text": [
            "Enter a string: Anurag Sharma\n",
            "5\n"
          ]
        }
      ]
    },
    {
      "cell_type": "markdown",
      "source": [
        "6. Count the number of consonants in a string."
      ],
      "metadata": {
        "id": "4eJ0iyQ13Tv6"
      }
    },
    {
      "cell_type": "code",
      "source": [
        "def count_consonent(s):\n",
        "  vowels = \"aeiouAEIOU\"\n",
        "  count = 0\n",
        "  for char in s:\n",
        "    if char.isalpha() and char not in vowels: ## it checks wheather all the characters are actually alphabets\n",
        "      count += 1\n",
        "  return count\n",
        "\n",
        "s = input(\"Enter a string Bro 😎: \")\n",
        "num_consonents = count_consonent(s)\n",
        "print(num_consonents)"
      ],
      "metadata": {
        "colab": {
          "base_uri": "https://localhost:8080/"
        },
        "id": "R1Hzax1N3Ww7",
        "outputId": "ef97ebf8-aa0f-4eac-a805-aad133341f8e"
      },
      "execution_count": null,
      "outputs": [
        {
          "output_type": "stream",
          "name": "stdout",
          "text": [
            "Enter a string Bro 😎: Virat Kholi\n",
            "6\n"
          ]
        }
      ]
    },
    {
      "cell_type": "markdown",
      "source": [
        "7. Remove all whitespaces from a string."
      ],
      "metadata": {
        "id": "709hf_Oz8xXt"
      }
    },
    {
      "cell_type": "code",
      "source": [
        "def rm_whitespace(string):\n",
        "  return string.replace(\" \", \"\")\n",
        "\n",
        "string = input(\"Enter a string: \")\n",
        "print(rm_whitespace(string))"
      ],
      "metadata": {
        "colab": {
          "base_uri": "https://localhost:8080/"
        },
        "id": "KCprm5ed80o2",
        "outputId": "e56f950e-d21c-410c-ad4b-beab19676836"
      },
      "execution_count": null,
      "outputs": [
        {
          "output_type": "stream",
          "name": "stdout",
          "text": [
            "Enter a string: My name is Anurag Sharma\n",
            "MynameisAnuragSharma\n"
          ]
        }
      ]
    },
    {
      "cell_type": "markdown",
      "source": [
        "8. Find the length of a string without using the `len()` function."
      ],
      "metadata": {
        "id": "4HKT8j2s9UMD"
      }
    },
    {
      "cell_type": "code",
      "source": [
        "def string_len(s):\n",
        "  count = 0\n",
        "  for char in s:\n",
        "    if char != \" \":\n",
        "      count += 1\n",
        "  return count\n",
        "\n",
        "s = input(\"Enter a string: \")\n",
        "print(string_len(s))"
      ],
      "metadata": {
        "colab": {
          "base_uri": "https://localhost:8080/"
        },
        "id": "r5fn6vrR9Vtk",
        "outputId": "0356354a-4d1d-4942-f1f7-033214162c11"
      },
      "execution_count": null,
      "outputs": [
        {
          "output_type": "stream",
          "name": "stdout",
          "text": [
            "Enter a string: Light Yagami\n",
            "11\n"
          ]
        }
      ]
    },
    {
      "cell_type": "markdown",
      "source": [
        "9. Check if a string contains a specific word."
      ],
      "metadata": {
        "id": "tcUdkT7m-Dle"
      }
    },
    {
      "cell_type": "code",
      "source": [
        "def contains_word(text, word):\n",
        "  # return word in text\n",
        "    return word.lower() in text.lower()\n",
        "\n",
        "text = input(\"Enter the text: \")\n",
        "word = input(\"Enter the word to check: \")\n",
        "if contains_word(text, word):\n",
        "  print(f\"The text contains the word '{word}'.\")\n",
        "else:\n",
        "  print(f\"The text does not contain the word '{word}'.\")"
      ],
      "metadata": {
        "colab": {
          "base_uri": "https://localhost:8080/"
        },
        "id": "yS3uK17H-Gnt",
        "outputId": "ae3186a4-c3ad-4fa8-888c-d9026c5e47dc"
      },
      "execution_count": null,
      "outputs": [
        {
          "output_type": "stream",
          "name": "stdout",
          "text": [
            "Enter the text: Anurag Sharma\n",
            "Enter the word to check: anu\n",
            "The text contains the word 'anu'.\n"
          ]
        }
      ]
    },
    {
      "cell_type": "markdown",
      "source": [
        "10. Replace a word in a string with another word.\n"
      ],
      "metadata": {
        "id": "2d3R88xZ_Kpq"
      }
    },
    {
      "cell_type": "code",
      "source": [
        "def replace_word(s, new_word, old_word):\n",
        "  return s.replace(old_word, new_word)\n",
        "s = input(\"Enter a string: \")\n",
        "new_word = input(\"Enter the new word: \")\n",
        "old_word = input(\"Enter the old word: \")\n",
        "print(replace_word(s, new_word, old_word))"
      ],
      "metadata": {
        "colab": {
          "base_uri": "https://localhost:8080/"
        },
        "id": "4LDqPPTp_PA0",
        "outputId": "b2a57568-93fe-43d4-b967-028b4e6a35f8"
      },
      "execution_count": null,
      "outputs": [
        {
          "output_type": "stream",
          "name": "stdout",
          "text": [
            "Enter a string: Anu\n",
            "Enter the new word: Manu\n",
            "Enter the old word: Anu\n",
            "Manu\n"
          ]
        }
      ]
    },
    {
      "cell_type": "markdown",
      "source": [
        "11. Count the occurrences of a word in a string.\n"
      ],
      "metadata": {
        "id": "P5GxhGAo_sLN"
      }
    },
    {
      "cell_type": "code",
      "source": [
        "def count_occurence(s, word):\n",
        "  return s.count(word)\n",
        "\n",
        "s = \"Anurag Sharma is Anurag SharmaAnurag\"\n",
        "word = \"Anurag\"\n",
        "print(count_occurence(s,word))"
      ],
      "metadata": {
        "colab": {
          "base_uri": "https://localhost:8080/"
        },
        "id": "paxpsMJA_s3e",
        "outputId": "8afe88a4-5053-4124-cab2-55f412ebc056"
      },
      "execution_count": null,
      "outputs": [
        {
          "output_type": "stream",
          "name": "stdout",
          "text": [
            "3\n"
          ]
        }
      ]
    },
    {
      "cell_type": "markdown",
      "source": [
        "12. Find the first occurrence of a word in a string."
      ],
      "metadata": {
        "id": "7IbRXvHxAqs8"
      }
    },
    {
      "cell_type": "code",
      "source": [
        "def first_occurence(s, word):\n",
        "  try:\n",
        "    return s.index(word)\n",
        "  except ValueError:\n",
        "    return -1\n",
        "\n",
        "s = input(\"Enter a string: \")\n",
        "word = input(\"Enter the word to search for: \")\n",
        "\n",
        "index = first_occurence(s,word)\n",
        "if index != -1:\n",
        "  print(f\"The first occurence of '{word}' is at index {index} 🙂. \")\n",
        "else:\n",
        "  print(f\"The word '{word}' is not found bro in the string 😔 \")"
      ],
      "metadata": {
        "colab": {
          "base_uri": "https://localhost:8080/"
        },
        "id": "ImGP0x8WAtab",
        "outputId": "8705d52b-0a5f-480f-e9ee-284bb461c870"
      },
      "execution_count": null,
      "outputs": [
        {
          "output_type": "stream",
          "name": "stdout",
          "text": [
            "Enter a string: Anurag\n",
            "Enter the word to search for: u\n",
            "The first occurence of 'u' is at index 2 🙂. \n"
          ]
        }
      ]
    },
    {
      "cell_type": "markdown",
      "source": [
        "13. Find the last occurrence of a word in a string.\n"
      ],
      "metadata": {
        "id": "MXCobSiKC2gg"
      }
    },
    {
      "cell_type": "code",
      "source": [
        "def last_occurence(s, word):\n",
        "  try:\n",
        "    return s.rindex(word)\n",
        "  except ValueError:\n",
        "    return -1\n",
        "\n",
        "s = input(\"Enter a string: \")\n",
        "word = input(\"Enter the word to search for: \")\n",
        "\n",
        "index = last_occurence(s,word)\n",
        "if index != -1:\n",
        "  print(f\"The last occurence of '{word}' is at index {index} 🙂. \")\n",
        "else:\n",
        "  print(f\"The word '{word}' is not found bro in the string 😔 \")"
      ],
      "metadata": {
        "colab": {
          "base_uri": "https://localhost:8080/"
        },
        "id": "nFQBNQPFC3lC",
        "outputId": "063009e7-d6bc-4837-df00-04b3788185df"
      },
      "execution_count": null,
      "outputs": [
        {
          "output_type": "stream",
          "name": "stdout",
          "text": [
            "Enter a string: hello mike hello\n",
            "Enter the word to search for: hello\n",
            "The last occurence of 'hello' is at index 11 🙂. \n"
          ]
        }
      ]
    },
    {
      "cell_type": "markdown",
      "source": [
        "14. Split a string into a list of words."
      ],
      "metadata": {
        "id": "hctb31UymHlH"
      }
    },
    {
      "cell_type": "code",
      "source": [
        "def split_string(string):\n",
        "  return string.split()\n",
        "\n",
        "string = \"This is a sentence.\"\n",
        "words = split_string(string)\n",
        "print(words)"
      ],
      "metadata": {
        "colab": {
          "base_uri": "https://localhost:8080/"
        },
        "id": "sGt052aKmIzW",
        "outputId": "30980787-5905-4ee0-eac9-5b872e2af330"
      },
      "execution_count": null,
      "outputs": [
        {
          "output_type": "stream",
          "name": "stdout",
          "text": [
            "['This', 'is', 'a', 'sentence.']\n"
          ]
        }
      ]
    },
    {
      "cell_type": "markdown",
      "source": [
        "15. Join a list of words into a string."
      ],
      "metadata": {
        "id": "tdp8B0ZvmP7g"
      }
    },
    {
      "cell_type": "code",
      "source": [
        "def join_words(words):\n",
        "  return \" \".join(words)\n",
        "\n",
        "words = ['This', 'is', 'a', 'sentence.']\n",
        "string = join_words(words)\n",
        "print(string)"
      ],
      "metadata": {
        "colab": {
          "base_uri": "https://localhost:8080/"
        },
        "id": "CUmpxWgamRPG",
        "outputId": "0b26c9e9-bd93-45b0-bd9c-faa1fb680b83"
      },
      "execution_count": null,
      "outputs": [
        {
          "output_type": "stream",
          "name": "stdout",
          "text": [
            "This is a sentence.\n"
          ]
        }
      ]
    },
    {
      "cell_type": "markdown",
      "source": [
        "16. Convert a string where words are separated by spaces to one where words are separated by underscores"
      ],
      "metadata": {
        "id": "AeUGFzHNmapl"
      }
    },
    {
      "cell_type": "code",
      "source": [
        "def spaces_to_underscores(string):\n",
        "  return string.replace(\" \", \"_\")\n",
        "\n",
        "string = \"This is a sentence.\"\n",
        "underscored_string = spaces_to_underscores(string)\n",
        "print(underscored_string)"
      ],
      "metadata": {
        "colab": {
          "base_uri": "https://localhost:8080/"
        },
        "id": "S9UQa4wNmbwO",
        "outputId": "8a6f27fe-cb41-47f8-a52c-aecd692c4fd5"
      },
      "execution_count": null,
      "outputs": [
        {
          "output_type": "stream",
          "name": "stdout",
          "text": [
            "This_is_a_sentence.\n"
          ]
        }
      ]
    },
    {
      "cell_type": "markdown",
      "source": [
        "17. Check if a string starts with a specific word or phrase.\n",
        "\n"
      ],
      "metadata": {
        "id": "ydc_99lmmh9f"
      }
    },
    {
      "cell_type": "code",
      "source": [
        "def starts_with(string, prefix):\n",
        "  return string.startswith(prefix)  # startswith return True if the string begins with prefix speciifcally\n",
        "\n",
        "string = \"Hello world\"\n",
        "if starts_with(string, \"Hello\"):\n",
        "  print(\"The string starts with 'Hello'.\")\n",
        "else:\n",
        "  print(\"The string does not start with 'Hello'.\")"
      ],
      "metadata": {
        "colab": {
          "base_uri": "https://localhost:8080/"
        },
        "id": "3jzzhvCNmjVU",
        "outputId": "109a2e51-d74b-4ef4-91df-9e6073a7ba93"
      },
      "execution_count": null,
      "outputs": [
        {
          "output_type": "stream",
          "name": "stdout",
          "text": [
            "The string starts with 'Hello'.\n"
          ]
        }
      ]
    },
    {
      "cell_type": "markdown",
      "source": [
        "\n",
        "18. Check if a string ends with a specific word or phrase.\n",
        "\n"
      ],
      "metadata": {
        "id": "PU_IBt3LmxqB"
      }
    },
    {
      "cell_type": "code",
      "source": [
        "def ends_with(string, suffix):\n",
        "  return string.endswith(suffix)\n",
        "\n",
        "string = \"Hello world\"\n",
        "if ends_with(string, \"world\"):\n",
        "  print(\"The string ends with 'world'.\")\n",
        "else:\n",
        "  print(\"The string does not end with 'world'.\")"
      ],
      "metadata": {
        "colab": {
          "base_uri": "https://localhost:8080/"
        },
        "id": "_waFykiXm4aL",
        "outputId": "6d8a3491-b8e7-42d1-b247-e62e11a5ca19"
      },
      "execution_count": null,
      "outputs": [
        {
          "output_type": "stream",
          "name": "stdout",
          "text": [
            "The string ends with 'world'.\n"
          ]
        }
      ]
    },
    {
      "cell_type": "markdown",
      "source": [
        "19. Convert a string to title case (e.g., \"hello world\" to \"Hello World\").\n",
        "\n"
      ],
      "metadata": {
        "id": "hl7ETHhinBRg"
      }
    },
    {
      "cell_type": "code",
      "source": [
        "def to_title_case(string):\n",
        "  return string.title()\n",
        "\n",
        "string = \"hello world\"\n",
        "title_cased_string = to_title_case(string)\n",
        "print(title_cased_string)"
      ],
      "metadata": {
        "colab": {
          "base_uri": "https://localhost:8080/"
        },
        "id": "Ch8Nfxs2nCKK",
        "outputId": "f961a52f-30f6-4e19-9006-255f58b1d452"
      },
      "execution_count": null,
      "outputs": [
        {
          "output_type": "stream",
          "name": "stdout",
          "text": [
            "Hello World\n"
          ]
        }
      ]
    },
    {
      "cell_type": "markdown",
      "source": [
        "20. Find the longest word in a string."
      ],
      "metadata": {
        "id": "Sf7Clcs-nFXP"
      }
    },
    {
      "cell_type": "code",
      "source": [
        "def find_longest_word(string):\n",
        "  words = string.split()\n",
        "  longest_word = max(words, key=len)\n",
        "  return longest_word\n",
        "\n",
        "string = \"This is a sentence with a long word.\"\n",
        "longest_word = find_longest_word(string)\n",
        "print(longest_word)"
      ],
      "metadata": {
        "colab": {
          "base_uri": "https://localhost:8080/"
        },
        "id": "B-AXpwv_nKIE",
        "outputId": "5fccea40-40fb-45f2-a84a-95b5409bab44"
      },
      "execution_count": null,
      "outputs": [
        {
          "output_type": "stream",
          "name": "stdout",
          "text": [
            "sentence\n"
          ]
        }
      ]
    },
    {
      "cell_type": "markdown",
      "source": [
        "21. Find the shortest word in a string.\n",
        "\n"
      ],
      "metadata": {
        "id": "YJOv0xRznTMw"
      }
    },
    {
      "cell_type": "code",
      "source": [
        "def find_shortest_word(string):\n",
        "  words = string.split()\n",
        "  shortest_word = min(words, key=len)\n",
        "  return shortest_word\n",
        "\n",
        "string = \"This is a sentence with a short word.\"\n",
        "shortest_word = find_shortest_word(string)\n",
        "print(shortest_word)"
      ],
      "metadata": {
        "colab": {
          "base_uri": "https://localhost:8080/"
        },
        "id": "xXqp_qkFnOUT",
        "outputId": "99aeee1f-e377-41be-ad56-1011f621a436"
      },
      "execution_count": null,
      "outputs": [
        {
          "output_type": "stream",
          "name": "stdout",
          "text": [
            "a\n"
          ]
        }
      ]
    },
    {
      "cell_type": "markdown",
      "source": [
        "22. Reverse the order of words in a string.\n",
        "\n"
      ],
      "metadata": {
        "id": "1Qwpaql4nYCs"
      }
    },
    {
      "cell_type": "code",
      "source": [
        "def reverse_words(string):\n",
        "  words = string.split()\n",
        "  reversed_words = words[::-1]\n",
        "  return \" \".join(reversed_words)\n",
        "\n",
        "string = \"This is a sentence.\"\n",
        "reversed_string = reverse_words(string)\n",
        "print(reversed_string)"
      ],
      "metadata": {
        "colab": {
          "base_uri": "https://localhost:8080/"
        },
        "id": "hREQLKkhnYQS",
        "outputId": "44bcad96-4478-422c-ada5-ff5a99f01472"
      },
      "execution_count": null,
      "outputs": [
        {
          "output_type": "stream",
          "name": "stdout",
          "text": [
            "sentence. a is This\n"
          ]
        }
      ]
    },
    {
      "cell_type": "markdown",
      "source": [
        "23. Check if a string is alphanumeric.\n",
        "\n"
      ],
      "metadata": {
        "id": "9HvxGvZXnzue"
      }
    },
    {
      "cell_type": "code",
      "source": [
        "def is_alphanumeric(string):\n",
        "  return string.isalnum()\n",
        "\n",
        "string = \"ThisIsAlphanumeric123\"\n",
        "if is_alphanumeric(string):\n",
        "  print(\"The string is alphanumeric.\")\n",
        "else:\n",
        "  print(\"The string is not alphanumeric.\")"
      ],
      "metadata": {
        "colab": {
          "base_uri": "https://localhost:8080/"
        },
        "id": "z3nP-yrYn0Pz",
        "outputId": "138b7016-9591-4da5-e8e6-0bcf30b5c928"
      },
      "execution_count": null,
      "outputs": [
        {
          "output_type": "stream",
          "name": "stdout",
          "text": [
            "The string is alphanumeric.\n"
          ]
        }
      ]
    },
    {
      "cell_type": "markdown",
      "source": [
        "24. Extract all digits from a string.\n",
        "\n"
      ],
      "metadata": {
        "id": "a8GdwEHjn6B7"
      }
    },
    {
      "cell_type": "code",
      "source": [
        "import re\n",
        "# The re.findall() function from the re module (regular expressions) is used to find all occurrences of one or more digits (\\d+) in the string.\n",
        "def extract_digits(string):\n",
        "  digits = re.findall(r'\\d+', string)\n",
        "  return \"\".join(digits)\n",
        "\n",
        "string = \"This string contains 123 digits and 456 more.\"\n",
        "digits = extract_digits(string)\n",
        "print(digits)"
      ],
      "metadata": {
        "colab": {
          "base_uri": "https://localhost:8080/"
        },
        "id": "oh4I9Clfn69c",
        "outputId": "b5b910b5-7424-4d7c-8fab-617e0f500266"
      },
      "execution_count": null,
      "outputs": [
        {
          "output_type": "stream",
          "name": "stdout",
          "text": [
            "123456\n"
          ]
        }
      ]
    },
    {
      "cell_type": "markdown",
      "source": [
        "25. Extract all alphabets from a string.\n",
        "\n"
      ],
      "metadata": {
        "id": "QBmfZpALoHsM"
      }
    },
    {
      "cell_type": "code",
      "source": [
        "import re\n",
        "\n",
        "def extract_alphabets(string):\n",
        "  alphabets = re.findall(r'[a-zA-Z]+', string)\n",
        "  return \" \".join(alphabets)\n",
        "\n",
        "string = \"This string contains 123 digits and 456 more.\"\n",
        "alphabets = extract_alphabets(string)\n",
        "print(alphabets)"
      ],
      "metadata": {
        "colab": {
          "base_uri": "https://localhost:8080/"
        },
        "id": "3w_J4OLIoItX",
        "outputId": "ff55de49-08ce-4648-fcb2-f364d023fe90"
      },
      "execution_count": null,
      "outputs": [
        {
          "output_type": "stream",
          "name": "stdout",
          "text": [
            "This string contains digits and more\n"
          ]
        }
      ]
    },
    {
      "cell_type": "markdown",
      "source": [
        "26. Count the number of uppercase letters in a string.\n",
        "\n"
      ],
      "metadata": {
        "id": "UrT-0GN4oNd4"
      }
    },
    {
      "cell_type": "code",
      "source": [
        "def count_uppercase(string):\n",
        "  count = 0\n",
        "  for char in string:\n",
        "    if char.isupper():\n",
        "      count += 1\n",
        "  return count\n",
        "\n",
        "string = \"This String Has Uppercase Letters.\"\n",
        "uppercase_count = count_uppercase(string)\n",
        "print(uppercase_count)"
      ],
      "metadata": {
        "colab": {
          "base_uri": "https://localhost:8080/"
        },
        "id": "vsk0IwaNoOgO",
        "outputId": "b08b97f7-2499-43a1-df3a-c0b54a887e70"
      },
      "execution_count": null,
      "outputs": [
        {
          "output_type": "stream",
          "name": "stdout",
          "text": [
            "5\n"
          ]
        }
      ]
    },
    {
      "cell_type": "markdown",
      "source": [
        "27. Count the number of lowercase letters in a string.\n",
        "\n"
      ],
      "metadata": {
        "id": "n7tD7SrMoVz9"
      }
    },
    {
      "cell_type": "code",
      "source": [
        "def count_lowercase(string):\n",
        "  count = 0\n",
        "  for char in string:\n",
        "    if char.islower():\n",
        "      count += 1\n",
        "  return count\n",
        "\n",
        "string = \"This String Has Lowercase Letters.\"\n",
        "lowercase_count = count_lowercase(string)\n",
        "print(lowercase_count)"
      ],
      "metadata": {
        "colab": {
          "base_uri": "https://localhost:8080/"
        },
        "id": "yKBQ5avMoWnq",
        "outputId": "cc07fd78-857f-4246-fab4-da14f6c1e650"
      },
      "execution_count": null,
      "outputs": [
        {
          "output_type": "stream",
          "name": "stdout",
          "text": [
            "24\n"
          ]
        }
      ]
    },
    {
      "cell_type": "markdown",
      "source": [
        "28. Swap the case of each character in a string.\n",
        "\n"
      ],
      "metadata": {
        "id": "ngxTwh64ogN0"
      }
    },
    {
      "cell_type": "code",
      "source": [
        "def swap_case(string):\n",
        "  return string.swapcase()\n",
        "\n",
        "string = \"This String Has Mixed Case.\"\n",
        "swapped_string = swap_case(string)\n",
        "print(swapped_string)"
      ],
      "metadata": {
        "colab": {
          "base_uri": "https://localhost:8080/"
        },
        "id": "e-gL0Z-aog2t",
        "outputId": "636bce93-759c-4f5f-8c12-5f083a07aa31"
      },
      "execution_count": null,
      "outputs": [
        {
          "output_type": "stream",
          "name": "stdout",
          "text": [
            "tHIS sTRING hAS mIXED cASE.\n"
          ]
        }
      ]
    },
    {
      "cell_type": "markdown",
      "source": [
        "29. Remove a specific word from a string.\n",
        "\n"
      ],
      "metadata": {
        "id": "0exC3qhtonOp"
      }
    },
    {
      "cell_type": "code",
      "source": [
        "def remove_word(string, word):\n",
        "  return string.replace(word, \"\")\n",
        "\n",
        "string = \"This is a sentence with a word to remove.\"\n",
        "new_string = remove_word(string, \"word\")\n",
        "print(new_string)"
      ],
      "metadata": {
        "colab": {
          "base_uri": "https://localhost:8080/"
        },
        "id": "7O4w49N7onyk",
        "outputId": "c8bf595e-e87c-4724-8224-4aa20a53e73a"
      },
      "execution_count": null,
      "outputs": [
        {
          "output_type": "stream",
          "name": "stdout",
          "text": [
            "This is a sentence with a  to remove.\n"
          ]
        }
      ]
    },
    {
      "cell_type": "markdown",
      "source": [
        "30. Check if a string is a valid email address.\n",
        "\n",
        "\n"
      ],
      "metadata": {
        "id": "wh1g4TRCovSz"
      }
    },
    {
      "cell_type": "code",
      "source": [
        "import re\n",
        "\n",
        "def is_valid_email(email):\n",
        "  pattern = r\"^[a-zA-Z0-9._%+-]+@[a-zA-Z0-9.-]+\\.[a-zA-Z]{2,}$\"\n",
        "  return bool(re.match(pattern, email))\n",
        "\n",
        "email = \"example@example.com\"\n",
        "if is_valid_email(email):\n",
        "  print(\"Valid email address.\")\n",
        "else:\n",
        "  print(\"Invalid email address.\")"
      ],
      "metadata": {
        "colab": {
          "base_uri": "https://localhost:8080/"
        },
        "id": "8bLmgDTGov-V",
        "outputId": "9285595c-82d9-4c7e-dfbf-73b5a78219bf"
      },
      "execution_count": null,
      "outputs": [
        {
          "output_type": "stream",
          "name": "stdout",
          "text": [
            "Valid email address.\n"
          ]
        }
      ]
    },
    {
      "cell_type": "markdown",
      "source": [
        "31. Extract the username from an email address string.\n",
        "\n"
      ],
      "metadata": {
        "id": "n5wKoBAZo26k"
      }
    },
    {
      "cell_type": "code",
      "source": [
        "def extract_username(email):\n",
        "  return email.split(\"@\")[0]\n",
        "\n",
        "email = \"example@example.com\"\n",
        "username = extract_username(email)\n",
        "print(username)"
      ],
      "metadata": {
        "colab": {
          "base_uri": "https://localhost:8080/"
        },
        "id": "ubbZkBvHo3Zd",
        "outputId": "c13b3053-891b-49d2-80cf-866be540b7c0"
      },
      "execution_count": null,
      "outputs": [
        {
          "output_type": "stream",
          "name": "stdout",
          "text": [
            "example\n"
          ]
        }
      ]
    },
    {
      "cell_type": "markdown",
      "source": [
        "32. Extract the domain name from an email address string.\n",
        "\n"
      ],
      "metadata": {
        "id": "1mHH4wrVo7SV"
      }
    },
    {
      "cell_type": "code",
      "source": [
        "def extract_domain(email):\n",
        "  return email.split(\"@\")[1]\n",
        "\n",
        "email = \"example@example.com\"\n",
        "domain = extract_domain(email)\n",
        "print(domain)"
      ],
      "metadata": {
        "colab": {
          "base_uri": "https://localhost:8080/"
        },
        "id": "9uk_pjcRo-nz",
        "outputId": "ad960891-acba-4738-b469-e5e0ae073757"
      },
      "execution_count": null,
      "outputs": [
        {
          "output_type": "stream",
          "name": "stdout",
          "text": [
            "example.com\n"
          ]
        }
      ]
    },
    {
      "cell_type": "markdown",
      "source": [
        "33. Replace multiple spaces in a string with a single space.\n",
        "\n"
      ],
      "metadata": {
        "id": "Y0hNqqdrpBVS"
      }
    },
    {
      "cell_type": "code",
      "source": [
        "import re\n",
        "\n",
        "def replace_multiple_spaces(string):\n",
        "  return re.sub(' +', ' ', string)\n",
        "\n",
        "string = \"This  string  has   multiple    spaces.\"\n",
        "new_string = replace_multiple_spaces(string)\n",
        "print(new_string)"
      ],
      "metadata": {
        "colab": {
          "base_uri": "https://localhost:8080/"
        },
        "id": "jFn-vyoYpDry",
        "outputId": "62ec9cb0-6ee6-437a-dca6-bdd5b9335a1e"
      },
      "execution_count": null,
      "outputs": [
        {
          "output_type": "stream",
          "name": "stdout",
          "text": [
            "This string has multiple spaces.\n"
          ]
        }
      ]
    },
    {
      "cell_type": "markdown",
      "source": [
        "34. Check if a string is a valid URL.\n",
        "\n"
      ],
      "metadata": {
        "id": "BVENtvnipINE"
      }
    },
    {
      "cell_type": "code",
      "source": [
        "import re\n",
        "\n",
        "def is_valid_url(url):\n",
        "  pattern = r\"^(https?://)?(www\\.)?([a-zA-Z0-9-]+)\\.([a-zA-Z]{2,})(\\S*)?$\"\n",
        "  return bool(re.match(pattern, url))\n",
        "\n",
        "url = \"https://www.google.com\"\n",
        "if is_valid_url(url):\n",
        "  print(\"Valid URL.\")\n",
        "else:\n",
        "  print(\"Invalid URL.\")"
      ],
      "metadata": {
        "colab": {
          "base_uri": "https://localhost:8080/"
        },
        "id": "6eHazfEvpIpc",
        "outputId": "7e4ab0c0-7e2e-4290-d126-1e44ac1d0d68"
      },
      "execution_count": null,
      "outputs": [
        {
          "output_type": "stream",
          "name": "stdout",
          "text": [
            "Valid URL.\n"
          ]
        }
      ]
    },
    {
      "cell_type": "markdown",
      "source": [
        "35. Extract the protocol (http or https) from a URL string.\n",
        "\n"
      ],
      "metadata": {
        "id": "xF-MHRhqpRdN"
      }
    },
    {
      "cell_type": "code",
      "source": [
        "import re\n",
        "\n",
        "def extract_protocol(url):\n",
        "  match = re.match(r\"^(https?://)\", url)\n",
        "  if match:\n",
        "    return match.group(0)\n",
        "  else:\n",
        "    return None\n",
        "\n",
        "url = \"https://www.example.com\"\n",
        "protocol = extract_protocol(url)\n",
        "print(protocol)"
      ],
      "metadata": {
        "colab": {
          "base_uri": "https://localhost:8080/"
        },
        "id": "63z7jykipSFj",
        "outputId": "fb9dd61e-f373-42f0-b3ea-1cbeb46911e4"
      },
      "execution_count": null,
      "outputs": [
        {
          "output_type": "stream",
          "name": "stdout",
          "text": [
            "https://\n"
          ]
        }
      ]
    },
    {
      "cell_type": "markdown",
      "source": [
        "36. Find the frequency of each character in a string.\n",
        "\n"
      ],
      "metadata": {
        "id": "wtKzV0l7pUTZ"
      }
    },
    {
      "cell_type": "code",
      "source": [
        "from collections import Counter\n",
        "\n",
        "def char_frequency(string):\n",
        "  return Counter(string)\n",
        "\n",
        "string = \"This is a string.\"\n",
        "frequencies = char_frequency(string)\n",
        "print(frequencies)"
      ],
      "metadata": {
        "colab": {
          "base_uri": "https://localhost:8080/"
        },
        "id": "hPRPPlb-peTK",
        "outputId": "5854683d-08d5-4375-cdf7-1f94747235fd"
      },
      "execution_count": null,
      "outputs": [
        {
          "output_type": "stream",
          "name": "stdout",
          "text": [
            "Counter({'i': 3, 's': 3, ' ': 3, 'T': 1, 'h': 1, 'a': 1, 't': 1, 'r': 1, 'n': 1, 'g': 1, '.': 1})\n"
          ]
        }
      ]
    },
    {
      "cell_type": "markdown",
      "source": [
        "37. Remove all punctuation from a string.\n",
        "\n"
      ],
      "metadata": {
        "id": "JFLw9t5cplS-"
      }
    },
    {
      "cell_type": "code",
      "source": [
        "import re\n",
        "\n",
        "def remove_punctuation(text):\n",
        "    return re.sub(r'[^\\w\\s]', '', text)\n",
        "\n",
        "# Example\n",
        "text = \"Hello, world! How's everything?\"\n",
        "clean_text = remove_punctuation(text)\n",
        "print(clean_text)"
      ],
      "metadata": {
        "colab": {
          "base_uri": "https://localhost:8080/"
        },
        "id": "vhWFRTBspl4y",
        "outputId": "26913cf8-6160-445b-bcb2-f1a2030959f8"
      },
      "execution_count": null,
      "outputs": [
        {
          "output_type": "stream",
          "name": "stdout",
          "text": [
            "Hello world Hows everything\n"
          ]
        }
      ]
    },
    {
      "cell_type": "markdown",
      "source": [
        "39. Check if a string contains only alphabets.\n",
        "\n"
      ],
      "metadata": {
        "id": "5tI5cLz0p6OY"
      }
    },
    {
      "cell_type": "code",
      "source": [
        "def is_alpha_only(string):\n",
        "  return string.isalpha()\n",
        "\n",
        "string = \"ThisStringHasOnlyAlphabets\"\n",
        "if is_alpha_only(string):\n",
        "  print(\"The string contains only alphabets.\")\n",
        "else:\n",
        "  print(\"The string does not contain only alphabets.\")"
      ],
      "metadata": {
        "colab": {
          "base_uri": "https://localhost:8080/"
        },
        "id": "R6J5AJMWp8ak",
        "outputId": "6dbde718-ea7c-4072-869c-4b97fcd562a3"
      },
      "execution_count": null,
      "outputs": [
        {
          "output_type": "stream",
          "name": "stdout",
          "text": [
            "The string contains only alphabets.\n"
          ]
        }
      ]
    },
    {
      "cell_type": "markdown",
      "source": [
        "40. Convert a string to a list of characters.\n",
        "\n"
      ],
      "metadata": {
        "id": "FmFoj-VBqGlf"
      }
    },
    {
      "cell_type": "code",
      "source": [
        "def string_to_list(string):\n",
        "  return list(string)\n",
        "\n",
        "string = \"This is a string.\"\n",
        "char_list = string_to_list(string)\n",
        "print(char_list)"
      ],
      "metadata": {
        "colab": {
          "base_uri": "https://localhost:8080/"
        },
        "id": "EhFqIXrjqJS5",
        "outputId": "d42c3b5b-627c-45e5-fb75-9dacd3045a34"
      },
      "execution_count": null,
      "outputs": [
        {
          "output_type": "stream",
          "name": "stdout",
          "text": [
            "['T', 'h', 'i', 's', ' ', 'i', 's', ' ', 'a', ' ', 's', 't', 'r', 'i', 'n', 'g', '.']\n"
          ]
        }
      ]
    },
    {
      "cell_type": "markdown",
      "source": [
        "41. Check if two strings are anagrams.\n",
        "\n"
      ],
      "metadata": {
        "id": "4zZEVgSWqPL_"
      }
    },
    {
      "cell_type": "code",
      "source": [
        "#def are_anagrams(str1, str2):\n",
        "#    return sorted(str1) == sorted(str2)\n",
        "from collections import Counter\n",
        "\n",
        "def are_anagrams(str1, str2):\n",
        "    return Counter(str1) == Counter(str2)\n",
        "\n",
        "print(are_anagrams(\"listen\", \"silent\"))\n",
        "print(are_anagrams(\"hello\", \"world\"))"
      ],
      "metadata": {
        "colab": {
          "base_uri": "https://localhost:8080/"
        },
        "id": "4esE3yEgqP40",
        "outputId": "0c574611-70da-4dff-9e9f-482a82873980"
      },
      "execution_count": null,
      "outputs": [
        {
          "output_type": "stream",
          "name": "stdout",
          "text": [
            "True\n",
            "False\n"
          ]
        }
      ]
    },
    {
      "cell_type": "markdown",
      "source": [
        "42. Encode a string using a Caesar cipher.\n",
        "\n",
        "Note: The Caesar cipher shifts each letter by a fixed number of positions down the alphabet. For letters, we determine the starting position ('a' or 'A'), calculate the shifted position using modular arithmetic, and convert back to a character. For digits, we perform a similar shift modulo 10. Other characters remain unchanged"
      ],
      "metadata": {
        "id": "ubAJ7iSPqwbe"
      }
    },
    {
      "cell_type": "code",
      "source": [
        "def caesar_cipher_encode(text, shift):\n",
        "    result = ''\n",
        "    for char in text:\n",
        "        if char.isalpha():\n",
        "            start = ord('a') if char.islower() else ord('A')\n",
        "            shifted_char = chr((ord(char) - start + shift) % 26 + start)\n",
        "        elif char.isdigit():\n",
        "            shifted_char = str((int(char) + shift) % 10)\n",
        "        else:\n",
        "            shifted_char = char\n",
        "        result += shifted_char\n",
        "    return result\n",
        "\n",
        "text = \"Anurag Sharma\"\n",
        "shift = 3\n",
        "encoded_text = caesar_cipher_encode(text, shift)\n",
        "print(f\"Encoded: {encoded_text}\")"
      ],
      "metadata": {
        "colab": {
          "base_uri": "https://localhost:8080/"
        },
        "id": "qW2dJHIjqxGq",
        "outputId": "9c317c98-874c-4324-8695-eb1b5a7dd300"
      },
      "execution_count": null,
      "outputs": [
        {
          "output_type": "stream",
          "name": "stdout",
          "text": [
            "Encoded: Dqxudj Vkdupd\n"
          ]
        }
      ]
    },
    {
      "cell_type": "markdown",
      "source": [
        "43. Decode a Caesar cipher encoded string.\n",
        "\n"
      ],
      "metadata": {
        "id": "gYqtEDiBrBHn"
      }
    },
    {
      "cell_type": "code",
      "source": [
        "def caesar_cipher_decode(text, shift):\n",
        "    # Caesar cipher decoding\n",
        "    result = ''\n",
        "    for char in text:\n",
        "        if char.isalpha():\n",
        "            start = ord('a') if char.islower() else ord('A')\n",
        "            shifted_char = chr((ord(char) - start - shift) % 26 + start)\n",
        "        elif char.isdigit():\n",
        "            shifted_char = str((int(char) - shift) % 10)\n",
        "        else:\n",
        "            shifted_char = char\n",
        "        result += shifted_char\n",
        "    return result\n",
        "\n",
        "text = \"Sharma Anurag\"\n",
        "shift = 3\n",
        "decoded_text = caesar_cipher_decode(text, shift)\n",
        "print(f\"Decoded: {decoded_text}\")"
      ],
      "metadata": {
        "colab": {
          "base_uri": "https://localhost:8080/"
        },
        "id": "i_yPB1_NrDnL",
        "outputId": "727e490e-cc1d-4c2a-a457-149ab3f0e9dd"
      },
      "execution_count": null,
      "outputs": [
        {
          "output_type": "stream",
          "name": "stdout",
          "text": [
            "Decoded: Pexojx Xkroxd\n"
          ]
        }
      ]
    },
    {
      "cell_type": "markdown",
      "source": [
        "44. Find the most frequent word in a string.\n",
        "\n"
      ],
      "metadata": {
        "id": "VEacIh9YrJ7E"
      }
    },
    {
      "cell_type": "code",
      "source": [
        "from collections import Counter\n",
        "\n",
        "def most_frequent_word(string):\n",
        "  words = string.lower().split()\n",
        "  word_counts = Counter(words)\n",
        "  return word_counts.most_common(1)[0][0]\n",
        "\n",
        "string = \"This is a string with some words and some repeated words.\"\n",
        "most_frequent = most_frequent_word(string)\n",
        "print(most_frequent)"
      ],
      "metadata": {
        "colab": {
          "base_uri": "https://localhost:8080/"
        },
        "id": "w7esjYJErMY6",
        "outputId": "3bf6d522-7bf5-437a-9ab5-358ba81140e6"
      },
      "execution_count": null,
      "outputs": [
        {
          "output_type": "stream",
          "name": "stdout",
          "text": [
            "some\n"
          ]
        }
      ]
    },
    {
      "cell_type": "markdown",
      "source": [
        "45. Find all unique words in a string.\n",
        "\n"
      ],
      "metadata": {
        "id": "XCkATgaSrRHy"
      }
    },
    {
      "cell_type": "code",
      "source": [
        "def unique_words(string):\n",
        "  words = string.lower().split()\n",
        "  return set(words)\n",
        "\n",
        "string = \"This is a string with some words and some repeated words.\"\n",
        "unique = unique_words(string)\n",
        "print(unique)"
      ],
      "metadata": {
        "colab": {
          "base_uri": "https://localhost:8080/"
        },
        "id": "DO6YOJNrrRlq",
        "outputId": "09fce340-a0eb-4f17-f04b-3999cd4c014a"
      },
      "execution_count": null,
      "outputs": [
        {
          "output_type": "stream",
          "name": "stdout",
          "text": [
            "{'a', 'and', 'some', 'is', 'words.', 'with', 'string', 'words', 'this', 'repeated'}\n"
          ]
        }
      ]
    },
    {
      "cell_type": "markdown",
      "source": [
        "46. Count the number of syllables in a string.\n",
        "\n"
      ],
      "metadata": {
        "id": "TtAMPHl5rVlx"
      }
    },
    {
      "cell_type": "code",
      "source": [
        "import re\n",
        "\n",
        "def count_syllables(string):\n",
        "  count = 0\n",
        "  vowels = \"aeiouy\"\n",
        "  for word in string.lower().split():\n",
        "    for char in word:\n",
        "      if char in vowels:\n",
        "        count += 1\n",
        "    # Adjust for silent e at the end\n",
        "    if word.endswith(\"e\"):\n",
        "      count -= 1\n",
        "    # Adjust for consecutive vowels (diphthongs, etc.)\n",
        "    count -= len(re.findall(r\"[aeiouy]{2,}\", word))\n",
        "    # Ensure at least one syllable per word\n",
        "    if count == 0:\n",
        "      count = 1\n",
        "  return count\n",
        "\n",
        "string = \"This is a sentence with multiple syllables.\"\n",
        "syllable_count = count_syllables(string)\n",
        "print(syllable_count)"
      ],
      "metadata": {
        "colab": {
          "base_uri": "https://localhost:8080/"
        },
        "id": "HWwfi7-NrV-R",
        "outputId": "541f3c1e-66dd-4bf8-8d86-5f735208beee"
      },
      "execution_count": null,
      "outputs": [
        {
          "output_type": "stream",
          "name": "stdout",
          "text": [
            "11\n"
          ]
        }
      ]
    },
    {
      "cell_type": "markdown",
      "source": [
        "47. Check if a string contains any special characters.\n",
        "\n"
      ],
      "metadata": {
        "id": "HkLqenEZrinx"
      }
    },
    {
      "cell_type": "code",
      "source": [
        "import re\n",
        "\n",
        "def contains_special_chars(string):\n",
        "  pattern = r\"[^a-zA-Z0-9\\s]\"\n",
        "  return bool(re.search(pattern, string))\n",
        "\n",
        "string = \"This string has special characters!@#$%^&*()\"\n",
        "if contains_special_chars(string):\n",
        "  print(\"The string contains special characters.\")\n",
        "else:\n",
        "  print(\"The string does not contain special characters.\")"
      ],
      "metadata": {
        "colab": {
          "base_uri": "https://localhost:8080/"
        },
        "id": "S8qW_I2JrmBy",
        "outputId": "0db3e38c-08a4-48c3-dd25-f454b6d7c7fe"
      },
      "execution_count": null,
      "outputs": [
        {
          "output_type": "stream",
          "name": "stdout",
          "text": [
            "The string contains special characters.\n"
          ]
        }
      ]
    },
    {
      "cell_type": "markdown",
      "source": [
        "48. Remove the nth word from a string.\n",
        "\n"
      ],
      "metadata": {
        "id": "jeVvzmLYrqMf"
      }
    },
    {
      "cell_type": "code",
      "source": [
        "def remove_nth_word(string, n):\n",
        "  words = string.split()\n",
        "  if 0 < n <= len(words):\n",
        "    del words[n - 1]\n",
        "  return \" \".join(words)\n",
        "\n",
        "string = \"This is a sentence with words.\"\n",
        "new_string = remove_nth_word(string, 3)\n",
        "print(new_string)"
      ],
      "metadata": {
        "colab": {
          "base_uri": "https://localhost:8080/"
        },
        "id": "ABqjCC4mrsDo",
        "outputId": "cb2fe91c-ad78-4e71-fcf2-007525b878c5"
      },
      "execution_count": null,
      "outputs": [
        {
          "output_type": "stream",
          "name": "stdout",
          "text": [
            "This is sentence with words.\n"
          ]
        }
      ]
    },
    {
      "cell_type": "markdown",
      "source": [
        "49. Insert a word at the nth position in a string.\n",
        "\n"
      ],
      "metadata": {
        "id": "KKrafqfkrwHh"
      }
    },
    {
      "cell_type": "code",
      "source": [
        "def insert_word(string, word, n):\n",
        "  words = string.split()\n",
        "  if 0 <= n <= len(words):\n",
        "    words.insert(n, word)\n",
        "  return \" \".join(words)\n",
        "\n",
        "string = \"This is a sentence.\"\n",
        "new_string = insert_word(string, \"new\", 2)\n",
        "print(new_string)"
      ],
      "metadata": {
        "colab": {
          "base_uri": "https://localhost:8080/"
        },
        "id": "59ERCOKGrw4E",
        "outputId": "b59eb023-a1c0-4784-e643-cb4ff04054e8"
      },
      "execution_count": null,
      "outputs": [
        {
          "output_type": "stream",
          "name": "stdout",
          "text": [
            "This is new a sentence.\n"
          ]
        }
      ]
    },
    {
      "cell_type": "markdown",
      "source": [
        "50. Convert a CSV string to a list of lists.\n",
        "\n",
        "\n",
        "\n",
        "> Add blockquote\n",
        "\n"
      ],
      "metadata": {
        "id": "iFayGQror19J"
      }
    },
    {
      "cell_type": "code",
      "source": [
        "import csv\n",
        "\n",
        "def csv_to_list(csv_string):\n",
        "  reader = csv.reader(csv_string.splitlines())\n",
        "  return list(reader)\n",
        "\n",
        "csv_string = \"Name,Age,City\\nAlice,30,New York\\nBob,25,London\"\n",
        "data = csv_to_list(csv_string)\n",
        "print(data)"
      ],
      "metadata": {
        "colab": {
          "base_uri": "https://localhost:8080/"
        },
        "id": "Jrv3L5oBr2ii",
        "outputId": "514d5c9a-ad70-4242-a43d-002e06661b58"
      },
      "execution_count": null,
      "outputs": [
        {
          "output_type": "stream",
          "name": "stdout",
          "text": [
            "[['Name', 'Age', 'City'], ['Alice', '30', 'New York'], ['Bob', '25', 'London']]\n"
          ]
        }
      ]
    },
    {
      "cell_type": "markdown",
      "source": [
        "\n",
        "\n",
        "\n"
      ],
      "metadata": {
        "id": "fOYxrQhStcAd"
      }
    },
    {
      "cell_type": "markdown",
      "source": [
        "## **List**"
      ],
      "metadata": {
        "id": "7UhIpmNOtOt6"
      }
    },
    {
      "cell_type": "code",
      "source": [],
      "metadata": {
        "id": "6ZDuT72ltUef"
      },
      "execution_count": null,
      "outputs": []
    },
    {
      "cell_type": "markdown",
      "source": [],
      "metadata": {
        "id": "WDmUzJg0tolH"
      }
    }
  ]
}